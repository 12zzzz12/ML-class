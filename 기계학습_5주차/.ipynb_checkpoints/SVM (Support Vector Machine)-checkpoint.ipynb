{
 "cells": [
  {
   "cell_type": "markdown",
   "metadata": {},
   "source": [
    "분류 모델 : 데이터가 사상된 공간에서 경계\n",
    "\n",
    "svm 알고리즘 : 그 중 가장 큰 폭을 가진 경계를 찾는 알고리즘\n",
    "\n",
    "gamma : 커널 폭의 역수 1/r\n",
    "    (작은값) -> 넓은 커널 영역, 많은 포인트 고려\n",
    "    \n",
    "c : 규제매개변수 (각 포인트의 중요도)\n",
    "    (작은값) -> 제약이 큰 모델, 포인트의 영향력이 작아진다."
   ]
  },
  {
   "cell_type": "code",
   "execution_count": 15,
   "metadata": {},
   "outputs": [],
   "source": [
    "from sklearn.model_selection import train_test_split\n",
    "from sklearn import datasets\n",
    "import pandas as pd\n",
    "import numpy as np\n",
    "import matplotlib\n",
    "import matplotlib.pyplot as plt\n",
    "import mglearn\n",
    "\n",
    "#한글을 출력하기 위한 import\n",
    "#한글 font를 설정해준다.\n",
    "\n",
    "from matplotlib import font_manager, rc\n",
    "font_name = font_manager.FontProperties(fname =\"c:/Windows/Fonts/malgun.ttf\").get_name()\n",
    "rc('font',family=font_name)\n",
    "\n",
    "import matplotlib as mpl # -깨짐 현상을 해결하기 위햏 matplotlib을 import\n",
    "mpl.rcParams['axes.unicode_minus'] = False # - 깨짐 현상을 해결하기 위한 구문\n",
    "\n"
   ]
  },
  {
   "cell_type": "code",
   "execution_count": 16,
   "metadata": {},
   "outputs": [
    {
     "name": "stdout",
     "output_type": "stream",
     "text": [
      "훈련 세트 정확도: 0.90\n",
      "테스트 세트 정확도: 0.94\n"
     ]
    }
   ],
   "source": [
    "from sklearn.svm import SVC\n",
    "from sklearn.datasets import load_breast_cancer\n",
    "\n",
    "#cancer에 cancer 데이터 저장\n",
    "cancer = load_breast_cancer()\n",
    "\n",
    "#cancer데이터 훈련, 테스트 셋으로 나누기\n",
    "X_train, X_test, y_train, y_test = train_test_split(cancer.data,\n",
    "                                                   cancer.target,\n",
    "                                                   random_state = 0)\n",
    "\n",
    "svc = SVC()\n",
    "svc.fit(X_train, y_train)\n",
    "\n",
    "print(\"훈련 세트 정확도: {:.2f}\".format(svc.score(X_train, y_train)))\n",
    "print(\"테스트 세트 정확도: {:.2f}\".format(svc.score(X_test, y_test)))\n",
    "\n"
   ]
  },
  {
   "cell_type": "code",
   "execution_count": 8,
   "metadata": {},
   "outputs": [],
   "source": [
    "#데이터 전처리\n",
    "\n",
    "#훈련 세트에서 특성별 최소값 계산\n",
    "min_on_training = X_train.min(axis=0)\n",
    "\n",
    "#훈련 세트에서 특성별 (최대값 - 최소값) 범위 계산\n",
    "range_on_training = (X_train - min_on_training).max(axis=0)\n",
    "\n",
    "#훈련 데이터에 최소값을 빼고 범위로 나누면\n",
    "#각 특성에 대해 최솟값은 0 최댓값은 1\n",
    "X_train_scaled = (X_train - min_on_training) / range_on_training\n",
    "\n",
    "#훈련세트에서 계산한 최솟값과 범위를 사용\n",
    "X_test_scaled = (X_test - min_on_training) / range_on_training"
   ]
  },
  {
   "cell_type": "code",
   "execution_count": 10,
   "metadata": {},
   "outputs": [
    {
     "name": "stdout",
     "output_type": "stream",
     "text": [
      "훈련 세트 정확도:0.984\n",
      "훈련 세트 정확도:0.972\n"
     ]
    }
   ],
   "source": [
    "#데이터 전처리를 한 데이터로 학습을 시킨다.\n",
    "svc.fit(X_train_scaled,y_train)\n",
    "\n",
    "#데이터 전처리 이후의\n",
    "#훈련, 테스트 세트 정확도 출력\n",
    "print(\"훈련 세트 정확도:{:.3f}\".format(svc.score(X_train_scaled, y_train)))\n",
    "print(\"테스트 세트 정확도:{:.3f}\".format(svc.score(X_test_scaled, y_test)))\n"
   ]
  },
  {
   "cell_type": "code",
   "execution_count": 13,
   "metadata": {},
   "outputs": [
    {
     "name": "stdout",
     "output_type": "stream",
     "text": [
      "훈련 세트 정확도:1.000\n",
      "훈련 세트 정확도:0.958\n"
     ]
    }
   ],
   "source": [
    "# svc 객체를 C = 1000으로 설정한다  /   C 가 클수록 제약완화\n",
    "svc = SVC(C=1000)\n",
    "svc.fit(X_train_scaled,y_train)\n",
    "\n",
    "# 훈련, 테스트 세트의 정확도를 출력한다.\n",
    "print(\"훈련 세트 정확도:{:.3f}\".format(svc.score(X_train_scaled, y_train)))\n",
    "print(\"훈련 세트 정확도:{:.3f}\".format(svc.score(X_test_scaled, y_test)))\n"
   ]
  },
  {
   "cell_type": "markdown",
   "metadata": {},
   "source": [
    "SVC 매개변수\n",
    "C, gamma(RBF 커널), coef0(다항, 시그모이드), degree(다항차수)\n",
    "\n",
    "#################################################################\n",
    "\n",
    "SVC 장점\n",
    "\n",
    "-강력하며 여러 종류의 데이터 셋에 적용 가능\n",
    "\n",
    "-특성이 적을 때에도 복잡한 결정 경계 만듬 (커널 트릭)\n",
    "\n",
    "0저차원 고차원에 모두 잘 맞음\n",
    "\n",
    "##################################################################"
   ]
  },
  {
   "cell_type": "markdown",
   "metadata": {},
   "source": [
    "단점\n",
    "\n",
    "-샘플이 많을 경우 느림 (>100,000)\n",
    "\n",
    "-데이터 전처리와 매개변수에 민감\n",
    "\n",
    "-분석하기 어렵고 설명하기 어려움"
   ]
  },
  {
   "cell_type": "code",
   "execution_count": null,
   "metadata": {},
   "outputs": [],
   "source": []
  }
 ],
 "metadata": {
  "kernelspec": {
   "display_name": "Python 3",
   "language": "python",
   "name": "python3"
  },
  "language_info": {
   "codemirror_mode": {
    "name": "ipython",
    "version": 3
   },
   "file_extension": ".py",
   "mimetype": "text/x-python",
   "name": "python",
   "nbconvert_exporter": "python",
   "pygments_lexer": "ipython3",
   "version": "3.8.3"
  }
 },
 "nbformat": 4,
 "nbformat_minor": 4
}
