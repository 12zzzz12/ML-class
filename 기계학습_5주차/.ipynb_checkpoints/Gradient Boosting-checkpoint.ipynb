{
 "cells": [
  {
   "cell_type": "markdown",
   "metadata": {},
   "source": [
    "-다수의 결정 트리 기반 앙상블\n",
    "\n",
    "- 회귀/ 분류에 모두 사용 (DecisionTreeRegressor 기반)\n",
    "\n",
    "- 이전 트리의 오차 보완 순차적으로 트리 생성\n",
    "\n",
    "- 5 이하 깊이의 트리\n",
    "\n",
    "- 매개 변수 설정에 민감(매개변수 조정으로 성능 개선 가능)\n",
    "\n",
    "- n_estimator : 큰값 -> 더 많은 트리, 복잡도 상승, 훈련세트의 실수 보정 기회 상승\n"
   ]
  },
  {
   "cell_type": "code",
   "execution_count": 2,
   "metadata": {},
   "outputs": [],
   "source": [
    "from sklearn.model_selection import train_test_split\n",
    "from sklearn import datasets\n",
    "import pandas as pd\n",
    "import numpy as np\n",
    "import matplotlib\n",
    "import matplotlib.pyplot as plt\n",
    "import mglearn\n",
    "\n",
    "#한글을 출력하기 위한 import\n",
    "#한글 font를 설정해준다.\n",
    "\n",
    "from matplotlib import font_manager, rc\n",
    "font_name = font_manager.FontProperties(fname =\"c:/Windows/Fonts/malgun.ttf\").get_name()\n",
    "rc('font',family=font_name)\n",
    "\n",
    "import matplotlib as mpl # -깨짐 현상을 해결하기 위햏 matplotlib을 import\n",
    "mpl.rcParams['axes.unicode_minus'] = False # - 깨짐 현상을 해결하기 위한 구문\n",
    "\n"
   ]
  },
  {
   "cell_type": "code",
   "execution_count": 16,
   "metadata": {},
   "outputs": [
    {
     "name": "stdout",
     "output_type": "stream",
     "text": [
      "훈련 세트 정확도: 1.000\n",
      "테스트 세트 정확도: 0.965\n"
     ]
    }
   ],
   "source": [
    "from sklearn.ensemble import GradientBoostingClassifier\n",
    "from sklearn.datasets import load_breast_cancer\n",
    "\n",
    "#cancer에 cancer 데이터 저장\n",
    "cancer = load_breast_cancer()\n",
    "\n",
    "#cancer데이터 훈련, 테스트 셋으로 나누기\n",
    "X_train, X_test, y_train, y_test = train_test_split(cancer.data,\n",
    "                                                   cancer.target,\n",
    "                                                   random_state = 0)\n",
    "# Gradient 모델 gbrt 객체에 저장 및 훈련세트 학습시키기\n",
    "gbrt = GradientBoostingClassifier(random_state=0)\n",
    "gbrt.fit(X_train, y_train)\n",
    "\n",
    "#훈련세트, 테스트 세트 정확도 출력\n",
    "print(\"훈련 세트 정확도: {:.3f}\".format(gbrt.score(X_train,y_train)))\n",
    "print(\"테스트 세트 정확도: {:.3f}\".format(gbrt.score(X_test, y_test)))"
   ]
  },
  {
   "cell_type": "code",
   "execution_count": 17,
   "metadata": {},
   "outputs": [
    {
     "name": "stdout",
     "output_type": "stream",
     "text": [
      "테스트 세트 정확도  cv=10: 0.960\n",
      "\n",
      "테스트 세트 정확도  cv=5: 0.958\n",
      "\n"
     ]
    }
   ],
   "source": [
    "from sklearn.model_selection import cross_val_score\n",
    "\n",
    "#cv = 10으로 하여 테스트 세트 정확도 출력 -> 과대적합 줄여줌\n",
    "cvscores = cross_val_score(gbrt, X_train, y_train, cv = 10)\n",
    "print(\"테스트 세트 정확도  cv=10: {:.3f}\\n\".format(cvscores.mean()))\n",
    "\n",
    "#cv = 5으로 하여 테스트 세트 정확도 출력 -> 과대적합 줄여줌\n",
    "cvscores = cross_val_score(gbrt, X_train,y_train, cv = 5)\n",
    "print(\"테스트 세트 정확도  cv=5: {:.3f}\\n\".format(cvscores.mean()))"
   ]
  },
  {
   "cell_type": "code",
   "execution_count": 25,
   "metadata": {},
   "outputs": [
    {
     "name": "stdout",
     "output_type": "stream",
     "text": [
      "훈련 세트 정확도: 0.991\n",
      "테스트 세트 정확도: 0.972\n",
      "테스트 세트 정확도  cv = 10: 0.951\n",
      "테스트 세트 정확도  cv = 5: 0.951\n",
      "\n"
     ]
    }
   ],
   "source": [
    "#매개변수 조정하여 학습시키기 max_depth을 1로 설정\n",
    "gbrt = GradientBoostingClassifier(random_state=0, max_depth = 1)\n",
    "gbrt.fit(X_train, y_train)\n",
    "\n",
    "\n",
    "print(\"훈련 세트 정확도: {:.3f}\".format(gbrt.score(X_train,y_train)))\n",
    "print(\"테스트 세트 정확도: {:.3f}\".format(gbrt.score(X_test, y_test)))\n",
    "\n",
    "#cv = 10으로 하여 테스트 세트 정확도 출력 -> 과대적합 줄여줌\n",
    "cvscores = cross_val_score(gbrt, X_train, y_train, cv = 10)\n",
    "print(\"테스트 세트 정확도  cv = 10: {:.3f}\".format(cvscores.mean()))\n",
    "\n",
    "#cv = 5으로 하여 테스트 세트 정확도 출력 -> 과대적합 줄여줌\n",
    "cvscores = cross_val_score(gbrt, X_train,y_train, cv = 5)\n",
    "print(\"테스트 세트 정확도  cv = 5: {:.3f}\\n\".format(cvscores.mean()))"
   ]
  },
  {
   "cell_type": "code",
   "execution_count": 26,
   "metadata": {},
   "outputs": [
    {
     "name": "stdout",
     "output_type": "stream",
     "text": [
      "훈련 세트 정확도: 0.988\n",
      "테스트 세트 정확도: 0.965\n",
      "테스트 세트 정확도  cv = 10: 0.956\n",
      "테스트 세트 정확도  cv = 5: 0.941\n",
      "\n"
     ]
    }
   ],
   "source": [
    "#매개변수 조정하여 학습시키기 max_depth을 1로 설정\n",
    "gbrt = GradientBoostingClassifier(random_state=0,learning_rate = 0.01)\n",
    "gbrt.fit(X_train, y_train)\n",
    "\n",
    "print(\"훈련 세트 정확도: {:.3f}\".format(gbrt.score(X_train,y_train)))\n",
    "print(\"테스트 세트 정확도: {:.3f}\".format(gbrt.score(X_test, y_test)))\n",
    "\n",
    "#cv = 10으로 하여 테스트 세트 정확도 출력 -> 과대적합 줄여줌\n",
    "cvscores = cross_val_score(gbrt, X_train, y_train, cv = 10)\n",
    "print(\"테스트 세트 정확도  cv = 10: {:.3f}\".format(cvscores.mean()))\n",
    "\n",
    "#cv = 5으로 하여 테스트 세트 정확도 출력 -> 과대적합 줄여줌\n",
    "cvscores = cross_val_score(gbrt, X_train,y_train, cv = 5)\n",
    "print(\"테스트 세트 정확도  cv = 5: {:.3f}\\n\".format(cvscores.mean()))\n"
   ]
  },
  {
   "cell_type": "code",
   "execution_count": 33,
   "metadata": {},
   "outputs": [
    {
     "data": {
      "image/png": "[encoded data removed]",
      "text/plain": [
       "<Figure size 432x288 with 1 Axes>"
      ]
     },
     "metadata": {
      "needs_background": "light"
     },
     "output_type": "display_data"
    }
   ],
   "source": [
    "def plot_feature_importances_cancer(model):\n",
    "    \n",
    "    #cancer의 피처(30개)들을 n_feature에 저장한다.\n",
    "    n_features = cancer.data.shape[1]\n",
    "    \n",
    "    # barh = 가로막대 그리는 함수\n",
    "    # range()=  범위(개수 말하는듯?) , model.feature의 중요도, 간우데 맞춤\n",
    "    plt.barh(range(n_features), model.feature_importances_, align='center')\n",
    "    \n",
    "    #yticks = y축 눈금값 설정 \n",
    "    # arange() n_feature들의 개수, cancer의 피처이름들을 축에 적음\n",
    "    plt.yticks(np.arange(n_features), cancer.feature_names)\n",
    "    \n",
    "    #x, y라벨의 이름 출력\n",
    "    plt.xlabel(\"특성 중요도\")\n",
    "    plt.ylabel(\"특성\")\n",
    "    \n",
    "    #y축의 범위 1만큼의 길이에 n_features로 나눔\n",
    "    plt.ylim(-1, n_features)\n",
    "    \n",
    "#트리 최대 깊이 =1 로 하여 모델 생성 및 학습\n",
    "gbrt = GradientBoostingClassifier(random_state = 0 , max_depth = 1)\n",
    "gbrt.fit(X_train, y_train)\n",
    "\n",
    "#해당 모델의 특성 중요도를 표로 그린다.\n",
    "plot_feature_importances_cancer(gbrt)"
   ]
  },
  {
   "cell_type": "markdown",
   "metadata": {},
   "source": [
    "장점\n",
    "-랜덤 포레스트에서 더 성능을 쥐어짜야 할 떄 사용\n",
    "-특성, 스케일 조정 필요없고 이진, 연속적인 특성에 사용 가능\n",
    "\n",
    "단점\n",
    "-희소한 고차원 데이터에 잘 작동하지 않음\n",
    "-매개변수에 민감, 훈련시간이 오래걸림\n"
   ]
  },
  {
   "cell_type": "markdown",
   "metadata": {},
   "source": [
    "매개변수\n",
    "learning_rate -> 낮추면 복잡도가 낮아져 성능을 올리려면 더 많은 트리 필요\n",
    "\n",
    "랜덤 포레스트와 달리 n_estimators를 크게하면 과대적합 가능성 높아짐\n"
   ]
  }
 ],
 "metadata": {
  "kernelspec": {
   "display_name": "Python 3",
   "language": "python",
   "name": "python3"
  },
  "language_info": {
   "codemirror_mode": {
    "name": "ipython",
    "version": 3
   },
   "file_extension": ".py",
   "mimetype": "text/x-python",
   "name": "python",
   "nbconvert_exporter": "python",
   "pygments_lexer": "ipython3",
   "version": "3.8.3"
  }
 },
 "nbformat": 4,
 "nbformat_minor": 4
}
