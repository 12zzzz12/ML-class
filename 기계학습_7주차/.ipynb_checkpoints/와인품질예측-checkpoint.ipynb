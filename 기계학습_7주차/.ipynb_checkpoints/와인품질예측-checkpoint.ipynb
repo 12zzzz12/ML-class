{
 "cells": [
  {
   "cell_type": "code",
   "execution_count": 72,
   "id": "8ad9a724",
   "metadata": {},
   "outputs": [],
   "source": [
    "import pandas as pd\n",
    "import numpy as np\n",
    "# import seaborn as sns\n",
    "import matplotlib.pyplot as plt\n",
    "from sklearn import tree\n",
    "from sklearn.neighbors import KNeighborsClassifier\n",
    "from sklearn.ensemble import RandomForestClassifier\n",
    "from sklearn.ensemble import GradientBoostingClassifier\n",
    "#from xgboost import XGBClassifier <- pip install xgboost\n",
    "from sklearn.svm import SVC\n",
    "from sklearn.svm import SVR # Support Vector Regression\n",
    "from sklearn.linear_model import LinearRegression, Ridge, Lasso, LogisticRegression\n",
    "from sklearn.metrics import confusion_matrix, classification_report, roc_curve, auc\n",
    "from sklearn.metrics import mean_squared_error, mean_absolute_error, r2_score\n",
    "from sklearn.preprocessing import StandardScaler, LabelEncoder\n",
    "from sklearn.model_selection import train_test_split, GridSearchCV, cross_val_score \n",
    "%matplotlib inline"
   ]
  },
  {
   "cell_type": "code",
   "execution_count": 73,
   "id": "a467f879",
   "metadata": {},
   "outputs": [],
   "source": [
    "#데이터 읽기데이터 읽기\n",
    "wine = pd.read_csv('winequality-red.csv')\n",
    "# 데이터 사본 https://goo.gl/m3eCrf"
   ]
  },
  {
   "cell_type": "code",
   "execution_count": 74,
   "id": "1736c910",
   "metadata": {},
   "outputs": [
    {
     "data": {
      "text/html": [
       "<div>\n",
       "<style scoped>\n",
       "    .dataframe tbody tr th:only-of-type {\n",
       "        vertical-align: middle;\n",
       "    }\n",
       "\n",
       "    .dataframe tbody tr th {\n",
       "        vertical-align: top;\n",
       "    }\n",
       "\n",
       "    .dataframe thead th {\n",
       "        text-align: right;\n",
       "    }\n",
       "</style>\n",
       "<table border=\"1\" class=\"dataframe\">\n",
       "  <thead>\n",
       "    <tr style=\"text-align: right;\">\n",
       "      <th></th>\n",
       "      <th>fixed acidity</th>\n",
       "      <th>volatile acidity</th>\n",
       "      <th>citric acid</th>\n",
       "      <th>residual sugar</th>\n",
       "      <th>chlorides</th>\n",
       "      <th>free sulfur dioxide</th>\n",
       "      <th>total sulfur dioxide</th>\n",
       "      <th>density</th>\n",
       "      <th>pH</th>\n",
       "      <th>sulphates</th>\n",
       "      <th>alcohol</th>\n",
       "      <th>quality</th>\n",
       "    </tr>\n",
       "  </thead>\n",
       "  <tbody>\n",
       "    <tr>\n",
       "      <th>0</th>\n",
       "      <td>7.4</td>\n",
       "      <td>0.70</td>\n",
       "      <td>0.00</td>\n",
       "      <td>1.9</td>\n",
       "      <td>0.076</td>\n",
       "      <td>11.0</td>\n",
       "      <td>34.0</td>\n",
       "      <td>0.9978</td>\n",
       "      <td>3.51</td>\n",
       "      <td>0.56</td>\n",
       "      <td>9.4</td>\n",
       "      <td>5</td>\n",
       "    </tr>\n",
       "    <tr>\n",
       "      <th>1</th>\n",
       "      <td>7.8</td>\n",
       "      <td>0.88</td>\n",
       "      <td>0.00</td>\n",
       "      <td>2.6</td>\n",
       "      <td>0.098</td>\n",
       "      <td>25.0</td>\n",
       "      <td>67.0</td>\n",
       "      <td>0.9968</td>\n",
       "      <td>3.20</td>\n",
       "      <td>0.68</td>\n",
       "      <td>9.8</td>\n",
       "      <td>5</td>\n",
       "    </tr>\n",
       "    <tr>\n",
       "      <th>2</th>\n",
       "      <td>7.8</td>\n",
       "      <td>0.76</td>\n",
       "      <td>0.04</td>\n",
       "      <td>2.3</td>\n",
       "      <td>0.092</td>\n",
       "      <td>15.0</td>\n",
       "      <td>54.0</td>\n",
       "      <td>0.9970</td>\n",
       "      <td>3.26</td>\n",
       "      <td>0.65</td>\n",
       "      <td>9.8</td>\n",
       "      <td>5</td>\n",
       "    </tr>\n",
       "    <tr>\n",
       "      <th>3</th>\n",
       "      <td>11.2</td>\n",
       "      <td>0.28</td>\n",
       "      <td>0.56</td>\n",
       "      <td>1.9</td>\n",
       "      <td>0.075</td>\n",
       "      <td>17.0</td>\n",
       "      <td>60.0</td>\n",
       "      <td>0.9980</td>\n",
       "      <td>3.16</td>\n",
       "      <td>0.58</td>\n",
       "      <td>9.8</td>\n",
       "      <td>6</td>\n",
       "    </tr>\n",
       "    <tr>\n",
       "      <th>4</th>\n",
       "      <td>7.4</td>\n",
       "      <td>0.70</td>\n",
       "      <td>0.00</td>\n",
       "      <td>1.9</td>\n",
       "      <td>0.076</td>\n",
       "      <td>11.0</td>\n",
       "      <td>34.0</td>\n",
       "      <td>0.9978</td>\n",
       "      <td>3.51</td>\n",
       "      <td>0.56</td>\n",
       "      <td>9.4</td>\n",
       "      <td>5</td>\n",
       "    </tr>\n",
       "  </tbody>\n",
       "</table>\n",
       "</div>"
      ],
      "text/plain": [
       "   fixed acidity  volatile acidity  citric acid  residual sugar  chlorides  \\\n",
       "0            7.4              0.70         0.00             1.9      0.076   \n",
       "1            7.8              0.88         0.00             2.6      0.098   \n",
       "2            7.8              0.76         0.04             2.3      0.092   \n",
       "3           11.2              0.28         0.56             1.9      0.075   \n",
       "4            7.4              0.70         0.00             1.9      0.076   \n",
       "\n",
       "   free sulfur dioxide  total sulfur dioxide  density    pH  sulphates  \\\n",
       "0                 11.0                  34.0   0.9978  3.51       0.56   \n",
       "1                 25.0                  67.0   0.9968  3.20       0.68   \n",
       "2                 15.0                  54.0   0.9970  3.26       0.65   \n",
       "3                 17.0                  60.0   0.9980  3.16       0.58   \n",
       "4                 11.0                  34.0   0.9978  3.51       0.56   \n",
       "\n",
       "   alcohol  quality  \n",
       "0      9.4        5  \n",
       "1      9.8        5  \n",
       "2      9.8        5  \n",
       "3      9.8        6  \n",
       "4      9.4        5  "
      ]
     },
     "execution_count": 74,
     "metadata": {},
     "output_type": "execute_result"
    }
   ],
   "source": [
    "#읽어온 데이터 처음 5개 불러오기#읽어온 데이터 처음 5개 불러오기\n",
    "wine.head(5)"
   ]
  },
  {
   "cell_type": "code",
   "execution_count": 75,
   "id": "c3a2a86d",
   "metadata": {},
   "outputs": [
    {
     "data": {
      "text/plain": [
       "(1599, 12)"
      ]
     },
     "execution_count": 75,
     "metadata": {},
     "output_type": "execute_result"
    }
   ],
   "source": [
    "#읽어온 데이터의 shape 출력 1599개 row, 12개 feature\n",
    "wine.shape"
   ]
  },
  {
   "cell_type": "code",
   "execution_count": 76,
   "id": "1da269be",
   "metadata": {},
   "outputs": [
    {
     "name": "stdout",
     "output_type": "stream",
     "text": [
      "<class 'pandas.core.frame.DataFrame'>\n",
      "RangeIndex: 1599 entries, 0 to 1598\n",
      "Data columns (total 12 columns):\n",
      " #   Column                Non-Null Count  Dtype  \n",
      "---  ------                --------------  -----  \n",
      " 0   fixed acidity         1599 non-null   float64\n",
      " 1   volatile acidity      1599 non-null   float64\n",
      " 2   citric acid           1599 non-null   float64\n",
      " 3   residual sugar        1599 non-null   float64\n",
      " 4   chlorides             1599 non-null   float64\n",
      " 5   free sulfur dioxide   1599 non-null   float64\n",
      " 6   total sulfur dioxide  1599 non-null   float64\n",
      " 7   density               1599 non-null   float64\n",
      " 8   pH                    1599 non-null   float64\n",
      " 9   sulphates             1599 non-null   float64\n",
      " 10  alcohol               1599 non-null   float64\n",
      " 11  quality               1599 non-null   int64  \n",
      "dtypes: float64(11), int64(1)\n",
      "memory usage: 150.0 KB\n"
     ]
    }
   ],
   "source": [
    "wine.info() # 데이터 정보\n",
    "\n",
    "#각 feature의 번호 와 데이터 타입을 확인할 수 있다."
   ]
  },
  {
   "cell_type": "code",
   "execution_count": 77,
   "id": "e0cc3c96",
   "metadata": {},
   "outputs": [
    {
     "data": {
      "text/plain": [
       "Index(['fixed acidity', 'volatile acidity', 'citric acid', 'residual sugar',\n",
       "       'chlorides', 'free sulfur dioxide', 'total sulfur dioxide', 'density',\n",
       "       'pH', 'sulphates', 'alcohol', 'quality'],\n",
       "      dtype='object')"
      ]
     },
     "execution_count": 77,
     "metadata": {},
     "output_type": "execute_result"
    }
   ],
   "source": [
    "#wine 데이터의 feature 이름들을 출력한다.\n",
    "wine.columns"
   ]
  },
  {
   "cell_type": "code",
   "execution_count": 78,
   "id": "f9c44a32",
   "metadata": {},
   "outputs": [
    {
     "data": {
      "text/plain": [
       "(array([ 1,  2,  3,  4,  5,  6,  7,  8,  9, 10, 11, 12]),\n",
       " [Text(1, 0, 'fixed acidity'),\n",
       "  Text(2, 0, 'volatile acidity'),\n",
       "  Text(3, 0, 'citric acid'),\n",
       "  Text(4, 0, 'residual sugar'),\n",
       "  Text(5, 0, 'chlorides'),\n",
       "  Text(6, 0, 'free sulfur dioxide'),\n",
       "  Text(7, 0, 'total sulfur dioxide'),\n",
       "  Text(8, 0, 'density'),\n",
       "  Text(9, 0, 'pH'),\n",
       "  Text(10, 0, 'sulphates'),\n",
       "  Text(11, 0, 'alcohol'),\n",
       "  Text(12, 0, 'quality')])"
      ]
     },
     "execution_count": 78,
     "metadata": {},
     "output_type": "execute_result"
    },
    {
     "data": {
      "image/png": "[encoded data removed]",
      "text/plain": [
       "<Figure size 720x576 with 1 Axes>"
      ]
     },
     "metadata": {
      "needs_background": "light"
     },
     "output_type": "display_data"
    }
   ],
   "source": [
    "#맨처음에 박스플롯을 그린다 거의 한눈에 다보여주기 때문에\n",
    "wine.boxplot(figsize = (10,8))\n",
    "plt.xticks(rotation=30)\n",
    "\n",
    "#rotation 은 격자 설명란의 거리\n",
    "# array = feature 개수와 각 부여번호\n",
    "\n",
    "#free sulfur dioxide, total sulfur dioxde의 값이 너무 높아\n",
    "# 다른 feature들의 정보를 한눈에 알아보기 어렵다."
   ]
  },
  {
   "cell_type": "code",
   "execution_count": 79,
   "id": "61adb3e8",
   "metadata": {},
   "outputs": [
    {
     "data": {
      "text/plain": [
       "<AxesSubplot:>"
      ]
     },
     "execution_count": 79,
     "metadata": {},
     "output_type": "execute_result"
    },
    {
     "data": {
      "image/png": "[encoded data removed]",
      "text/plain": [
       "<Figure size 720x576 with 1 Axes>"
      ]
     },
     "metadata": {
      "needs_background": "light"
     },
     "output_type": "display_data"
    }
   ],
   "source": [
    "#위에서 크게나온 그림 빼고 다시그림 다른것들을 자세히 보기위해서\n",
    "wine.drop(['free sulfur dioxide', 'total sulfur dioxide'], axis=1).boxplot(figsize = (10,8))\n",
    "\n",
    "#free sulfur dioxide, totalsulfur dioxide 를 제외한 나머지 feature의 \n",
    "#박스플롯을 그린다.\n",
    "#이제 데이터 값이 한눈에 들어온다."
   ]
  },
  {
   "cell_type": "code",
   "execution_count": 80,
   "id": "98ca7d2e",
   "metadata": {},
   "outputs": [
    {
     "data": {
      "text/html": [
       "<div>\n",
       "<style scoped>\n",
       "    .dataframe tbody tr th:only-of-type {\n",
       "        vertical-align: middle;\n",
       "    }\n",
       "\n",
       "    .dataframe tbody tr th {\n",
       "        vertical-align: top;\n",
       "    }\n",
       "\n",
       "    .dataframe thead th {\n",
       "        text-align: right;\n",
       "    }\n",
       "</style>\n",
       "<table border=\"1\" class=\"dataframe\">\n",
       "  <thead>\n",
       "    <tr style=\"text-align: right;\">\n",
       "      <th></th>\n",
       "      <th>alcohol</th>\n",
       "      <th>quality</th>\n",
       "    </tr>\n",
       "  </thead>\n",
       "  <tbody>\n",
       "    <tr>\n",
       "      <th>0</th>\n",
       "      <td>9.4</td>\n",
       "      <td>5</td>\n",
       "    </tr>\n",
       "    <tr>\n",
       "      <th>1</th>\n",
       "      <td>9.8</td>\n",
       "      <td>5</td>\n",
       "    </tr>\n",
       "    <tr>\n",
       "      <th>2</th>\n",
       "      <td>9.8</td>\n",
       "      <td>5</td>\n",
       "    </tr>\n",
       "    <tr>\n",
       "      <th>3</th>\n",
       "      <td>9.8</td>\n",
       "      <td>6</td>\n",
       "    </tr>\n",
       "    <tr>\n",
       "      <th>4</th>\n",
       "      <td>9.4</td>\n",
       "      <td>5</td>\n",
       "    </tr>\n",
       "    <tr>\n",
       "      <th>5</th>\n",
       "      <td>9.4</td>\n",
       "      <td>5</td>\n",
       "    </tr>\n",
       "    <tr>\n",
       "      <th>6</th>\n",
       "      <td>9.4</td>\n",
       "      <td>5</td>\n",
       "    </tr>\n",
       "    <tr>\n",
       "      <th>7</th>\n",
       "      <td>10.0</td>\n",
       "      <td>7</td>\n",
       "    </tr>\n",
       "    <tr>\n",
       "      <th>8</th>\n",
       "      <td>9.5</td>\n",
       "      <td>7</td>\n",
       "    </tr>\n",
       "    <tr>\n",
       "      <th>9</th>\n",
       "      <td>10.5</td>\n",
       "      <td>5</td>\n",
       "    </tr>\n",
       "  </tbody>\n",
       "</table>\n",
       "</div>"
      ],
      "text/plain": [
       "   alcohol  quality\n",
       "0      9.4        5\n",
       "1      9.8        5\n",
       "2      9.8        5\n",
       "3      9.8        6\n",
       "4      9.4        5\n",
       "5      9.4        5\n",
       "6      9.4        5\n",
       "7     10.0        7\n",
       "8      9.5        7\n",
       "9     10.5        5"
      ]
     },
     "execution_count": 80,
     "metadata": {},
     "output_type": "execute_result"
    }
   ],
   "source": [
    "#alcohol, quality 피쳐의 첫번째 10개 데이터값을 출력한다.\n",
    "\n",
    "wine[['alcohol', 'quality']].head(10)"
   ]
  },
  {
   "cell_type": "code",
   "execution_count": 81,
   "id": "a7786189",
   "metadata": {},
   "outputs": [
    {
     "data": {
      "text/plain": [
       "<AxesSubplot:>"
      ]
     },
     "execution_count": 81,
     "metadata": {},
     "output_type": "execute_result"
    },
    {
     "data": {
      "image/png": "[encoded data removed]",
      "text/plain": [
       "<Figure size 720x576 with 1 Axes>"
      ]
     },
     "metadata": {
      "needs_background": "light"
     },
     "output_type": "display_data"
    }
   ],
   "source": [
    "#alcohol, quality 두가지의 값으로만 박스플롯을 그린다.\n",
    "wine[['alcohol', 'quality']].boxplot(figsize = (10,8))"
   ]
  },
  {
   "cell_type": "code",
   "execution_count": 82,
   "id": "6bb5baa7",
   "metadata": {},
   "outputs": [
    {
     "data": {
      "text/plain": [
       "array([[<AxesSubplot:title={'center':'alcohol'}>,\n",
       "        <AxesSubplot:title={'center':'quality'}>]], dtype=object)"
      ]
     },
     "execution_count": 82,
     "metadata": {},
     "output_type": "execute_result"
    },
    {
     "data": {
      "image/png": "[encoded data removed]",
      "text/plain": [
       "<Figure size 720x576 with 2 Axes>"
      ]
     },
     "metadata": {
      "needs_background": "light"
     },
     "output_type": "display_data"
    }
   ],
   "source": [
    "#alcohol, quality의 각각 데이터값으로 히스토그램을 그린다.\n",
    "wine[['alcohol', 'quality']].hist(figsize = (10,8))"
   ]
  },
  {
   "cell_type": "code",
   "execution_count": 83,
   "id": "f809c6e2",
   "metadata": {},
   "outputs": [
    {
     "data": {
      "text/plain": [
       "<AxesSubplot:title={'center':'alcohol'}, xlabel='[quality]'>"
      ]
     },
     "execution_count": 83,
     "metadata": {},
     "output_type": "execute_result"
    },
    {
     "data": {
      "image/png": "[encoded data removed]",
      "text/plain": [
       "<Figure size 576x432 with 1 Axes>"
      ]
     },
     "metadata": {
      "needs_background": "light"
     },
     "output_type": "display_data"
    }
   ],
   "source": [
    "#quality를 기준으로 alcohol과 quality 박스플롯을 그린다.\n",
    "wine[['alcohol', 'quality']].boxplot(by='quality',figsize = (8,6)) # by값 - 기준\n",
    "#quality가 좋은건 평균적으로 알코올 성분이 좋다.\n",
    "#포도주도 알코올이 있는것들을 좋아함"
   ]
  },
  {
   "cell_type": "code",
   "execution_count": 84,
   "id": "bc5812c6",
   "metadata": {},
   "outputs": [
    {
     "data": {
      "text/plain": [
       "array([<AxesSubplot:title={'center':'chlorides'}, xlabel='[quality]'>,\n",
       "       <AxesSubplot:title={'center':'citric acid'}, xlabel='[quality]'>],\n",
       "      dtype=object)"
      ]
     },
     "execution_count": 84,
     "metadata": {},
     "output_type": "execute_result"
    },
    {
     "data": {
      "image/png": "[encoded data removed]",
      "text/plain": [
       "<Figure size 576x432 with 2 Axes>"
      ]
     },
     "metadata": {
      "needs_background": "light"
     },
     "output_type": "display_data"
    }
   ],
   "source": [
    "#chlorides : 염화물 , citric acid : 시트르산\n",
    "#wine 데이터에서 염화물, 시트르산, 퀄리티 를 따로 wine1에 저장한다.\n",
    "#새로 만든 wine1을 박스플롯하는데 기준은 quality로 그린다.\n",
    "wine1 = wine[[ 'chlorides', 'citric acid', 'quality']]\n",
    "wine1.boxplot(by='quality',figsize = (8,6))"
   ]
  },
  {
   "cell_type": "code",
   "execution_count": 85,
   "id": "fd544601",
   "metadata": {},
   "outputs": [
    {
     "data": {
      "text/plain": [
       "array([[<AxesSubplot:title={'center':'alcohol'}, xlabel='[quality]'>,\n",
       "        <AxesSubplot:title={'center':'chlorides'}, xlabel='[quality]'>,\n",
       "        <AxesSubplot:title={'center':'citric acid'}, xlabel='[quality]'>],\n",
       "       [<AxesSubplot:title={'center':'density'}, xlabel='[quality]'>,\n",
       "        <AxesSubplot:title={'center':'fixed acidity'}, xlabel='[quality]'>,\n",
       "        <AxesSubplot:title={'center':'free sulfur dioxide'}, xlabel='[quality]'>],\n",
       "       [<AxesSubplot:title={'center':'pH'}, xlabel='[quality]'>,\n",
       "        <AxesSubplot:title={'center':'residual sugar'}, xlabel='[quality]'>,\n",
       "        <AxesSubplot:title={'center':'sulphates'}, xlabel='[quality]'>],\n",
       "       [<AxesSubplot:title={'center':'total sulfur dioxide'}, xlabel='[quality]'>,\n",
       "        <AxesSubplot:title={'center':'volatile acidity'}, xlabel='[quality]'>,\n",
       "        <AxesSubplot:>]], dtype=object)"
      ]
     },
     "execution_count": 85,
     "metadata": {},
     "output_type": "execute_result"
    },
    {
     "data": {
      "image/png": "[encoded data removed]",
      "text/plain": [
       "<Figure size 1296x1152 with 12 Axes>"
      ]
     },
     "metadata": {
      "needs_background": "light"
     },
     "output_type": "display_data"
    }
   ],
   "source": [
    "#wine 데이터를 박스플롯으로 그리는데 기준을 quality로 한다.\n",
    "#즉 11개의 feature들(quality제외)을 모두 quality를 기준으로 박스플롯 그림.\n",
    "wine.boxplot(by='quality',figsize = (18,16))\n",
    "\n",
    "#이번에도 역시 free sulfur dioxide, total sulfur dioxide로 인해\n",
    "#한 눈에 알아보기 어렵다."
   ]
  },
  {
   "cell_type": "code",
   "execution_count": 86,
   "id": "3612f755",
   "metadata": {},
   "outputs": [
    {
     "data": {
      "text/plain": [
       "array([[<AxesSubplot:title={'center':'alcohol'}, xlabel='[quality]'>,\n",
       "        <AxesSubplot:title={'center':'chlorides'}, xlabel='[quality]'>,\n",
       "        <AxesSubplot:title={'center':'citric acid'}, xlabel='[quality]'>],\n",
       "       [<AxesSubplot:title={'center':'density'}, xlabel='[quality]'>,\n",
       "        <AxesSubplot:title={'center':'fixed acidity'}, xlabel='[quality]'>,\n",
       "        <AxesSubplot:title={'center':'pH'}, xlabel='[quality]'>],\n",
       "       [<AxesSubplot:title={'center':'residual sugar'}, xlabel='[quality]'>,\n",
       "        <AxesSubplot:title={'center':'sulphates'}, xlabel='[quality]'>,\n",
       "        <AxesSubplot:title={'center':'volatile acidity'}, xlabel='[quality]'>]],\n",
       "      dtype=object)"
      ]
     },
     "execution_count": 86,
     "metadata": {},
     "output_type": "execute_result"
    },
    {
     "data": {
      "image/png": "[encoded data removed]",
      "text/plain": [
       "<Figure size 1296x1152 with 9 Axes>"
      ]
     },
     "metadata": {
      "needs_background": "light"
     },
     "output_type": "display_data"
    }
   ],
   "source": [
    "#가장 높은 값을 가지는 free sulfur dioxide, total sulfur dioxide 데이터를 제외한다.\n",
    "#두 feature를 제외한 나머지 9개 feature의 박스플롯을 퀄리티를 기준으로 그린다.\n",
    "wine.drop(['free sulfur dioxide', 'total sulfur dioxide'], axis=1).boxplot(by='quality',figsize = (18,16))\n",
    "\n",
    "# 편차 가 큰 두개의 feature를 제외함으로 다른 값들을 좀 더 알아보기 쉬워졌다."
   ]
  },
  {
   "cell_type": "code",
   "execution_count": 87,
   "id": "36b4e3f9",
   "metadata": {},
   "outputs": [
    {
     "data": {
      "text/plain": [
       "array([[<AxesSubplot:title={'center':'chlorides'}, xlabel='[quality]'>,\n",
       "        <AxesSubplot:title={'center':'citric acid'}, xlabel='[quality]'>],\n",
       "       [<AxesSubplot:title={'center':'density'}, xlabel='[quality]'>,\n",
       "        <AxesSubplot:title={'center':'sulphates'}, xlabel='[quality]'>],\n",
       "       [<AxesSubplot:title={'center':'volatile acidity'}, xlabel='[quality]'>,\n",
       "        <AxesSubplot:>]], dtype=object)"
      ]
     },
     "execution_count": 87,
     "metadata": {},
     "output_type": "execute_result"
    },
    {
     "data": {
      "image/png": "[encoded data removed]",
      "text/plain": [
       "<Figure size 1296x1152 with 6 Axes>"
      ]
     },
     "metadata": {
      "needs_background": "light"
     },
     "output_type": "display_data"
    }
   ],
   "source": [
    "#이번에는 5개의 feature를 제외한 나머지 11개의 feature의 박스플롯을 그린다.\n",
    "#물론 이번에도 기준은 퀄리티로 박스플롯을 그린다.\n",
    "wine.drop(['free sulfur dioxide', 'total sulfur dioxide','alcohol','fixed acidity','residual sugar','pH'], axis=1).boxplot(by='quality',figsize = (18,16))"
   ]
  },
  {
   "cell_type": "code",
   "execution_count": 88,
   "id": "874188e5",
   "metadata": {},
   "outputs": [
    {
     "data": {
      "text/plain": [
       "array([5, 6, 7, 4, 8, 3], dtype=int64)"
      ]
     },
     "execution_count": 88,
     "metadata": {},
     "output_type": "execute_result"
    }
   ],
   "source": [
    "#데이터 전처리\n",
    "\n",
    "#quality특성이 가지고 있는 값 1개씩만을 np값으로 출력해준다.\n",
    "#quality 값은 3,4,5,6,7,8 값으로만 이루어져 있음.\n",
    "#데이터 타입 또한 표시해준다.\n",
    "wine['quality'].unique()"
   ]
  },
  {
   "cell_type": "code",
   "execution_count": 89,
   "id": "90f0c234",
   "metadata": {},
   "outputs": [
    {
     "data": {
      "text/plain": [
       "array([5, 6, 7, 4, 8, 3], dtype=int64)"
      ]
     },
     "execution_count": 89,
     "metadata": {},
     "output_type": "execute_result"
    }
   ],
   "source": [
    "#위와 같은 의미를 갖는 문장이다.\n",
    "wine.quality.unique() \n",
    "\n",
    "#wine.pH.unique()"
   ]
  },
  {
   "cell_type": "code",
   "execution_count": 90,
   "id": "0d30d6ae",
   "metadata": {},
   "outputs": [
    {
     "data": {
      "text/plain": [
       "5    681\n",
       "6    638\n",
       "7    199\n",
       "4     53\n",
       "8     18\n",
       "3     10\n",
       "Name: quality, dtype: int64"
      ]
     },
     "execution_count": 90,
     "metadata": {},
     "output_type": "execute_result"
    }
   ],
   "source": [
    "#quality 특성이 가지는 유니크한 값들의 빈도수를 출력해준다.(내림차순내림차순)\n",
    "# 5 -> 681번, 6-> 638번 .....  3 -> 10번\n",
    "\n",
    "wine['quality'].value_counts()"
   ]
  },
  {
   "cell_type": "code",
   "execution_count": 91,
   "id": "741808b3",
   "metadata": {},
   "outputs": [],
   "source": [
    "# 품질이 좋고 나쁜 것을 나누는 기준 설정\n",
    "# 6.5를 기준으로 bad(0) good(1)으로 나눈다 (임의로 나눈 것임)\n",
    "\n",
    "#bins 구간을 나눌때 쓴다.(마지막에 8을썼더니 컴퓨터나 8을 뺴버렸다. 그래서 8을 포함시키기 위해 안전하게 8.1을 사용)\n",
    "bins = (2.9, 5.7, 8.1)\n",
    "\n",
    "#8만 잡게하면 성능이 좋아진다.\n",
    "\n",
    "# 0 = bad, 1 = good\n",
    "group_names = [0, 1]\n",
    "\n",
    "#cut 함수 2.9 초과 6.5 이하, 6.5 초과 8.1 이하로 범위를 나눠줌\n",
    "#즉, qual특성을 만들어 주는데\n",
    "#quality의 값이 2.9~6.5 일떄는 0\n",
    "#               6.6~8.1 일때는 1의 값을 갖는다.\n",
    "wine['qual'] = pd.cut(wine['quality'], bins = bins, labels = group_names)"
   ]
  },
  {
   "cell_type": "code",
   "execution_count": null,
   "id": "779cff47",
   "metadata": {},
   "outputs": [],
   "source": []
  },
  {
   "cell_type": "code",
   "execution_count": 92,
   "id": "5c74f020",
   "metadata": {},
   "outputs": [
    {
     "data": {
      "text/html": [
       "<div>\n",
       "<style scoped>\n",
       "    .dataframe tbody tr th:only-of-type {\n",
       "        vertical-align: middle;\n",
       "    }\n",
       "\n",
       "    .dataframe tbody tr th {\n",
       "        vertical-align: top;\n",
       "    }\n",
       "\n",
       "    .dataframe thead th {\n",
       "        text-align: right;\n",
       "    }\n",
       "</style>\n",
       "<table border=\"1\" class=\"dataframe\">\n",
       "  <thead>\n",
       "    <tr style=\"text-align: right;\">\n",
       "      <th></th>\n",
       "      <th>fixed acidity</th>\n",
       "      <th>volatile acidity</th>\n",
       "      <th>citric acid</th>\n",
       "      <th>residual sugar</th>\n",
       "      <th>chlorides</th>\n",
       "      <th>free sulfur dioxide</th>\n",
       "      <th>total sulfur dioxide</th>\n",
       "      <th>density</th>\n",
       "      <th>pH</th>\n",
       "      <th>sulphates</th>\n",
       "      <th>alcohol</th>\n",
       "      <th>quality</th>\n",
       "      <th>qual</th>\n",
       "    </tr>\n",
       "  </thead>\n",
       "  <tbody>\n",
       "    <tr>\n",
       "      <th>0</th>\n",
       "      <td>7.4</td>\n",
       "      <td>0.70</td>\n",
       "      <td>0.00</td>\n",
       "      <td>1.9</td>\n",
       "      <td>0.076</td>\n",
       "      <td>11.0</td>\n",
       "      <td>34.0</td>\n",
       "      <td>0.9978</td>\n",
       "      <td>3.51</td>\n",
       "      <td>0.56</td>\n",
       "      <td>9.4</td>\n",
       "      <td>5</td>\n",
       "      <td>0</td>\n",
       "    </tr>\n",
       "    <tr>\n",
       "      <th>1</th>\n",
       "      <td>7.8</td>\n",
       "      <td>0.88</td>\n",
       "      <td>0.00</td>\n",
       "      <td>2.6</td>\n",
       "      <td>0.098</td>\n",
       "      <td>25.0</td>\n",
       "      <td>67.0</td>\n",
       "      <td>0.9968</td>\n",
       "      <td>3.20</td>\n",
       "      <td>0.68</td>\n",
       "      <td>9.8</td>\n",
       "      <td>5</td>\n",
       "      <td>0</td>\n",
       "    </tr>\n",
       "    <tr>\n",
       "      <th>2</th>\n",
       "      <td>7.8</td>\n",
       "      <td>0.76</td>\n",
       "      <td>0.04</td>\n",
       "      <td>2.3</td>\n",
       "      <td>0.092</td>\n",
       "      <td>15.0</td>\n",
       "      <td>54.0</td>\n",
       "      <td>0.9970</td>\n",
       "      <td>3.26</td>\n",
       "      <td>0.65</td>\n",
       "      <td>9.8</td>\n",
       "      <td>5</td>\n",
       "      <td>0</td>\n",
       "    </tr>\n",
       "    <tr>\n",
       "      <th>3</th>\n",
       "      <td>11.2</td>\n",
       "      <td>0.28</td>\n",
       "      <td>0.56</td>\n",
       "      <td>1.9</td>\n",
       "      <td>0.075</td>\n",
       "      <td>17.0</td>\n",
       "      <td>60.0</td>\n",
       "      <td>0.9980</td>\n",
       "      <td>3.16</td>\n",
       "      <td>0.58</td>\n",
       "      <td>9.8</td>\n",
       "      <td>6</td>\n",
       "      <td>1</td>\n",
       "    </tr>\n",
       "    <tr>\n",
       "      <th>4</th>\n",
       "      <td>7.4</td>\n",
       "      <td>0.70</td>\n",
       "      <td>0.00</td>\n",
       "      <td>1.9</td>\n",
       "      <td>0.076</td>\n",
       "      <td>11.0</td>\n",
       "      <td>34.0</td>\n",
       "      <td>0.9978</td>\n",
       "      <td>3.51</td>\n",
       "      <td>0.56</td>\n",
       "      <td>9.4</td>\n",
       "      <td>5</td>\n",
       "      <td>0</td>\n",
       "    </tr>\n",
       "  </tbody>\n",
       "</table>\n",
       "</div>"
      ],
      "text/plain": [
       "   fixed acidity  volatile acidity  citric acid  residual sugar  chlorides  \\\n",
       "0            7.4              0.70         0.00             1.9      0.076   \n",
       "1            7.8              0.88         0.00             2.6      0.098   \n",
       "2            7.8              0.76         0.04             2.3      0.092   \n",
       "3           11.2              0.28         0.56             1.9      0.075   \n",
       "4            7.4              0.70         0.00             1.9      0.076   \n",
       "\n",
       "   free sulfur dioxide  total sulfur dioxide  density    pH  sulphates  \\\n",
       "0                 11.0                  34.0   0.9978  3.51       0.56   \n",
       "1                 25.0                  67.0   0.9968  3.20       0.68   \n",
       "2                 15.0                  54.0   0.9970  3.26       0.65   \n",
       "3                 17.0                  60.0   0.9980  3.16       0.58   \n",
       "4                 11.0                  34.0   0.9978  3.51       0.56   \n",
       "\n",
       "   alcohol  quality qual  \n",
       "0      9.4        5    0  \n",
       "1      9.8        5    0  \n",
       "2      9.8        5    0  \n",
       "3      9.8        6    1  \n",
       "4      9.4        5    0  "
      ]
     },
     "execution_count": 92,
     "metadata": {},
     "output_type": "execute_result"
    }
   ],
   "source": [
    "wine.head(5)\n",
    "#qual이라는 feautre가 생성된것을 확인할 수 있다.\n",
    "# quality의 값이 2.9~6.5 사이 이므로 0의 값을 갖는것 또한 확인할 수 있다."
   ]
  },
  {
   "cell_type": "code",
   "execution_count": 93,
   "id": "1005165a",
   "metadata": {},
   "outputs": [
    {
     "data": {
      "text/plain": [
       "1    855\n",
       "0    744\n",
       "Name: qual, dtype: int64"
      ]
     },
     "execution_count": 93,
     "metadata": {},
     "output_type": "execute_result"
    }
   ],
   "source": [
    "wine['qual'].value_counts()\n",
    "# 0 -> 1382 번 즉, quality 2.9~6.5 사이는 1382개\n",
    "# 1 -> 217  번 즉, quality 6.6~8.1 사이는 217개"
   ]
  },
  {
   "cell_type": "code",
   "execution_count": 94,
   "id": "a9fcd5ed",
   "metadata": {},
   "outputs": [],
   "source": [
    "# 예측변수와 레이블을 나눈다\n",
    "# X 데이터에서는 'quality'와 'qual' 컬럼 제거\n",
    "# y는 레이블만 담는다\n",
    "\n",
    "#X_new 는 quality,와 qual 컬럼을 제거한 wine 데이터 값을 갖는다.\n",
    "X_new = wine.drop(['quality', 'qual'], axis = 1)\n",
    "\n",
    "# y_는 quality컬럼의 데이터 값을 갖는다.\n",
    "y_ = wine['quality'] # regression 용\n",
    "\n",
    "# y는 qual 컬럼의 데이터 값을 갖는다.\n",
    "y = wine['qual']"
   ]
  },
  {
   "cell_type": "code",
   "execution_count": 95,
   "id": "70556d37",
   "metadata": {},
   "outputs": [
    {
     "data": {
      "text/html": [
       "<div>\n",
       "<style scoped>\n",
       "    .dataframe tbody tr th:only-of-type {\n",
       "        vertical-align: middle;\n",
       "    }\n",
       "\n",
       "    .dataframe tbody tr th {\n",
       "        vertical-align: top;\n",
       "    }\n",
       "\n",
       "    .dataframe thead th {\n",
       "        text-align: right;\n",
       "    }\n",
       "</style>\n",
       "<table border=\"1\" class=\"dataframe\">\n",
       "  <thead>\n",
       "    <tr style=\"text-align: right;\">\n",
       "      <th></th>\n",
       "      <th>fixed acidity</th>\n",
       "      <th>volatile acidity</th>\n",
       "      <th>citric acid</th>\n",
       "      <th>residual sugar</th>\n",
       "      <th>chlorides</th>\n",
       "      <th>free sulfur dioxide</th>\n",
       "      <th>total sulfur dioxide</th>\n",
       "      <th>density</th>\n",
       "      <th>pH</th>\n",
       "      <th>sulphates</th>\n",
       "      <th>alcohol</th>\n",
       "    </tr>\n",
       "  </thead>\n",
       "  <tbody>\n",
       "    <tr>\n",
       "      <th>0</th>\n",
       "      <td>7.4</td>\n",
       "      <td>0.70</td>\n",
       "      <td>0.00</td>\n",
       "      <td>1.9</td>\n",
       "      <td>0.076</td>\n",
       "      <td>11.0</td>\n",
       "      <td>34.0</td>\n",
       "      <td>0.9978</td>\n",
       "      <td>3.51</td>\n",
       "      <td>0.56</td>\n",
       "      <td>9.4</td>\n",
       "    </tr>\n",
       "    <tr>\n",
       "      <th>1</th>\n",
       "      <td>7.8</td>\n",
       "      <td>0.88</td>\n",
       "      <td>0.00</td>\n",
       "      <td>2.6</td>\n",
       "      <td>0.098</td>\n",
       "      <td>25.0</td>\n",
       "      <td>67.0</td>\n",
       "      <td>0.9968</td>\n",
       "      <td>3.20</td>\n",
       "      <td>0.68</td>\n",
       "      <td>9.8</td>\n",
       "    </tr>\n",
       "    <tr>\n",
       "      <th>2</th>\n",
       "      <td>7.8</td>\n",
       "      <td>0.76</td>\n",
       "      <td>0.04</td>\n",
       "      <td>2.3</td>\n",
       "      <td>0.092</td>\n",
       "      <td>15.0</td>\n",
       "      <td>54.0</td>\n",
       "      <td>0.9970</td>\n",
       "      <td>3.26</td>\n",
       "      <td>0.65</td>\n",
       "      <td>9.8</td>\n",
       "    </tr>\n",
       "    <tr>\n",
       "      <th>3</th>\n",
       "      <td>11.2</td>\n",
       "      <td>0.28</td>\n",
       "      <td>0.56</td>\n",
       "      <td>1.9</td>\n",
       "      <td>0.075</td>\n",
       "      <td>17.0</td>\n",
       "      <td>60.0</td>\n",
       "      <td>0.9980</td>\n",
       "      <td>3.16</td>\n",
       "      <td>0.58</td>\n",
       "      <td>9.8</td>\n",
       "    </tr>\n",
       "    <tr>\n",
       "      <th>4</th>\n",
       "      <td>7.4</td>\n",
       "      <td>0.70</td>\n",
       "      <td>0.00</td>\n",
       "      <td>1.9</td>\n",
       "      <td>0.076</td>\n",
       "      <td>11.0</td>\n",
       "      <td>34.0</td>\n",
       "      <td>0.9978</td>\n",
       "      <td>3.51</td>\n",
       "      <td>0.56</td>\n",
       "      <td>9.4</td>\n",
       "    </tr>\n",
       "  </tbody>\n",
       "</table>\n",
       "</div>"
      ],
      "text/plain": [
       "   fixed acidity  volatile acidity  citric acid  residual sugar  chlorides  \\\n",
       "0            7.4              0.70         0.00             1.9      0.076   \n",
       "1            7.8              0.88         0.00             2.6      0.098   \n",
       "2            7.8              0.76         0.04             2.3      0.092   \n",
       "3           11.2              0.28         0.56             1.9      0.075   \n",
       "4            7.4              0.70         0.00             1.9      0.076   \n",
       "\n",
       "   free sulfur dioxide  total sulfur dioxide  density    pH  sulphates  \\\n",
       "0                 11.0                  34.0   0.9978  3.51       0.56   \n",
       "1                 25.0                  67.0   0.9968  3.20       0.68   \n",
       "2                 15.0                  54.0   0.9970  3.26       0.65   \n",
       "3                 17.0                  60.0   0.9980  3.16       0.58   \n",
       "4                 11.0                  34.0   0.9978  3.51       0.56   \n",
       "\n",
       "   alcohol  \n",
       "0      9.4  \n",
       "1      9.8  \n",
       "2      9.8  \n",
       "3      9.8  \n",
       "4      9.4  "
      ]
     },
     "execution_count": 95,
     "metadata": {},
     "output_type": "execute_result"
    }
   ],
   "source": [
    "X_new.head(5)\n",
    "#quality, qual 컬럼이 삭제된것을 확인할 수 있다."
   ]
  },
  {
   "cell_type": "code",
   "execution_count": 96,
   "id": "71974f69",
   "metadata": {},
   "outputs": [
    {
     "data": {
      "text/plain": [
       "1    855\n",
       "0    744\n",
       "Name: qual, dtype: int64"
      ]
     },
     "execution_count": 96,
     "metadata": {},
     "output_type": "execute_result"
    }
   ],
   "source": [
    "y.value_counts()\n",
    "#y는 qual 컬럼의 데이터 값을 갖고 있다.\n",
    "#즉, qual의 데이터값 개수를 출력한 것이다."
   ]
  },
  {
   "cell_type": "markdown",
   "id": "0a537242",
   "metadata": {},
   "source": [
    "표준 스케일링\n"
   ]
  },
  {
   "cell_type": "code",
   "execution_count": 97,
   "id": "1063bf2c",
   "metadata": {},
   "outputs": [],
   "source": [
    "sc = StandardScaler()\n",
    "X = sc.fit_transform(X_new)\n",
    "#fit을 하고 transform을 한번에 한것, 코드를 줄여주기 위해서\n",
    "#fit은 데이터를 읽고 평균과 시그마를 구한다.\n",
    "#(하나의 모델을 만듬, 여기에 들어가는 파라미터가 평균과 시그마) -> 스케일링 하기위한 상수구하기\n",
    "#transform은 실제 값들을 넣어서 나오는 값들\n",
    "#원래는 데이터를 자체적으로 나눠서 cross valredation을 해야한다. 하지만 지금은 통으로했다.\n",
    "\n",
    "#X_new = wine데이터에서 qual, quality 컬럼을 뺀 데이터\n",
    "#X_new데이터를 스케일링 한 것이다. \n"
   ]
  },
  {
   "cell_type": "code",
   "execution_count": 98,
   "id": "f6b124ad",
   "metadata": {},
   "outputs": [
    {
     "data": {
      "text/plain": [
       "array([[-0.52835961,  0.96187667, -1.39147228, -0.45321841, -0.24370669,\n",
       "        -0.46619252, -0.37913269,  0.55827446,  1.28864292, -0.57920652,\n",
       "        -0.96024611],\n",
       "       [-0.29854743,  1.96744245, -1.39147228,  0.04341614,  0.2238752 ,\n",
       "         0.87263823,  0.62436323,  0.02826077, -0.7199333 ,  0.1289504 ,\n",
       "        -0.58477711],\n",
       "       [-0.29854743,  1.29706527, -1.18607043, -0.16942723,  0.09635286,\n",
       "        -0.08366945,  0.22904665,  0.13426351, -0.33117661, -0.04808883,\n",
       "        -0.58477711],\n",
       "       [ 1.65485608, -1.38444349,  1.4841536 , -0.45321841, -0.26496041,\n",
       "         0.10759209,  0.41150046,  0.6642772 , -0.97910442, -0.46118037,\n",
       "        -0.58477711],\n",
       "       [-0.52835961,  0.96187667, -1.39147228, -0.45321841, -0.24370669,\n",
       "        -0.46619252, -0.37913269,  0.55827446,  1.28864292, -0.57920652,\n",
       "        -0.96024611]])"
      ]
     },
     "execution_count": 98,
     "metadata": {},
     "output_type": "execute_result"
    }
   ],
   "source": [
    "# 데이터 프레임에 스케일링 연산을 하면 ndarray로 바뀐다\n",
    "X[:5]\n",
    "#X의 11개 컬럼들이 스케일링이 잘 된것을 확인할 수 있다."
   ]
  },
  {
   "cell_type": "code",
   "execution_count": 99,
   "id": "539ddb65",
   "metadata": {},
   "outputs": [
    {
     "data": {
      "text/plain": [
       "-4.888534022029489e-11"
      ]
     },
     "execution_count": 99,
     "metadata": {},
     "output_type": "execute_result"
    }
   ],
   "source": [
    "X.sum()\n",
    "#스케일링 된 X의 모든 값을 더해서 출력했다."
   ]
  },
  {
   "cell_type": "code",
   "execution_count": 100,
   "id": "1476aabd",
   "metadata": {},
   "outputs": [],
   "source": [
    "# 데이터를 랜덤하게 섞은 후 80%를 훈련데이터로 사용\n",
    "# random_state 같은 값으로 지정하면 랜덤하게 섞이는 순서가 같다.\n",
    "X_train, X_test, y_train, y_test = train_test_split(X, y, test_size = 0.2, random_state = 7) # 분류용\n",
    "X_train_, X_test_, y_train_, y_test_ = train_test_split(X, y_, test_size = 0.2, random_state = 7) # 회귀용\n",
    "\n",
    "# y = quality 컬럼\n",
    "# y_ = qual 컬럼\n",
    "\n",
    "#직접 실습을 해보는데 지금은 80%이지만 다르게 할 수도 있다.\n",
    "#위에 모델을 바꿔서 6.5가 맛있다가 아니라 8만 맛있다 등 바꿔본다."
   ]
  },
  {
   "cell_type": "code",
   "execution_count": 101,
   "id": "1d8821e0",
   "metadata": {},
   "outputs": [
    {
     "data": {
      "text/plain": [
       "((1279, 11), (1279,))"
      ]
     },
     "execution_count": 101,
     "metadata": {},
     "output_type": "execute_result"
    }
   ],
   "source": [
    "X_train.shape, y_train.shape"
   ]
  },
  {
   "cell_type": "code",
   "execution_count": 102,
   "id": "6c53506c",
   "metadata": {},
   "outputs": [
    {
     "data": {
      "text/plain": [
       "((320, 11), (320,))"
      ]
     },
     "execution_count": 102,
     "metadata": {},
     "output_type": "execute_result"
    }
   ],
   "source": [
    "X_test.shape, y_test.shape"
   ]
  },
  {
   "cell_type": "markdown",
   "id": "f2ee9984",
   "metadata": {},
   "source": [
    "1. 분류\n",
    "\n",
    "KNN"
   ]
  },
  {
   "cell_type": "code",
   "execution_count": 103,
   "id": "c0a3b091",
   "metadata": {},
   "outputs": [
    {
     "data": {
      "text/plain": [
       "0.76875"
      ]
     },
     "execution_count": 103,
     "metadata": {},
     "output_type": "execute_result"
    }
   ],
   "source": [
    "clf = KNeighborsClassifier(n_neighbors=3)\n",
    "clf = clf.fit(X_train, y_train)\n",
    "clf.score(X_test, y_test)"
   ]
  },
  {
   "cell_type": "markdown",
   "id": "deff5454",
   "metadata": {},
   "source": [
    "결정 트리"
   ]
  },
  {
   "cell_type": "code",
   "execution_count": 104,
   "id": "d0f8dc11",
   "metadata": {},
   "outputs": [
    {
     "data": {
      "text/plain": [
       "0.7875"
      ]
     },
     "execution_count": 104,
     "metadata": {},
     "output_type": "execute_result"
    }
   ],
   "source": [
    "clf = tree.DecisionTreeClassifier()\n",
    "clf = clf.fit(X_train, y_train)\n",
    "clf.score(X_test, y_test)"
   ]
  },
  {
   "cell_type": "markdown",
   "id": "d1306c5a",
   "metadata": {},
   "source": [
    "랜덤 포레스트"
   ]
  },
  {
   "cell_type": "code",
   "execution_count": 105,
   "id": "4d78146f",
   "metadata": {},
   "outputs": [
    {
     "data": {
      "text/plain": [
       "0.8"
      ]
     },
     "execution_count": 105,
     "metadata": {},
     "output_type": "execute_result"
    }
   ],
   "source": [
    "rfc = RandomForestClassifier(max_depth = 7, n_estimators=300)\n",
    "rfc.fit(X_train, y_train)\n",
    "rfc.score(X_test, y_test)"
   ]
  },
  {
   "cell_type": "markdown",
   "id": "7d2f0daf",
   "metadata": {},
   "source": [
    "그라디언트 부스팅"
   ]
  },
  {
   "cell_type": "code",
   "execution_count": 106,
   "id": "8cbe0811",
   "metadata": {},
   "outputs": [
    {
     "data": {
      "text/plain": [
       "0.825"
      ]
     },
     "execution_count": 106,
     "metadata": {},
     "output_type": "execute_result"
    }
   ],
   "source": [
    "GBC = GradientBoostingClassifier(max_depth=5, n_estimators=100, learning_rate=0.1,\n",
    "                                random_state=42)\n",
    "GBC.fit(X_train, y_train)\n",
    "GBC.score(X_test, y_test)"
   ]
  },
  {
   "cell_type": "markdown",
   "id": "639b75f5",
   "metadata": {},
   "source": [
    "정적 평가, 혼돈 매트릭스"
   ]
  },
  {
   "cell_type": "code",
   "execution_count": 107,
   "id": "2a78b3c9",
   "metadata": {},
   "outputs": [
    {
     "data": {
      "text/plain": [
       "array([[107,  26],\n",
       "       [ 38, 149]], dtype=int64)"
      ]
     },
     "execution_count": 107,
     "metadata": {},
     "output_type": "execute_result"
    }
   ],
   "source": [
    "pred_rfc = rfc.predict(X_test)\n",
    "confusion_matrix(y_test, pred_rfc)"
   ]
  },
  {
   "cell_type": "code",
   "execution_count": 108,
   "id": "c083a05f",
   "metadata": {},
   "outputs": [
    {
     "name": "stdout",
     "output_type": "stream",
     "text": [
      "              precision    recall  f1-score   support\n",
      "\n",
      "           0       0.74      0.80      0.77       133\n",
      "           1       0.85      0.80      0.82       187\n",
      "\n",
      "    accuracy                           0.80       320\n",
      "   macro avg       0.79      0.80      0.80       320\n",
      "weighted avg       0.80      0.80      0.80       320\n",
      "\n"
     ]
    }
   ],
   "source": [
    "print(classification_report(y_test, pred_rfc))\n",
    "#밑에 숫자는 0을 기준으로 0.94 맞춤 \n",
    "#pos 긍정이 아닌 내가 찾고자 하는 답을 pos라고 봄(암환자)"
   ]
  },
  {
   "cell_type": "markdown",
   "id": "02039f42",
   "metadata": {},
   "source": [
    "- Precision  = 모델이 옳다고 한 것이 실제로 옳은 비율     TP / ( TP + FP ) \n",
    "- Recall =  실제 정답인 것들 중, 모델이 정답이라고 예측한 것    TP / TP+FN\n",
    "- f1-score = Precision과 Recall의 조화평균  (2 x  Precision x Recall ) /  (Precision + Recall)\n",
    "- support는 이 모델에서 응답한 샘플의 수이다"
   ]
  },
  {
   "cell_type": "markdown",
   "id": "80161fbc",
   "metadata": {},
   "source": [
    "## Support Vector Classifier (SVC)"
   ]
  },
  {
   "cell_type": "code",
   "execution_count": 109,
   "id": "9652794c",
   "metadata": {},
   "outputs": [
    {
     "data": {
      "text/plain": [
       "0.790625"
      ]
     },
     "execution_count": 109,
     "metadata": {},
     "output_type": "execute_result"
    }
   ],
   "source": [
    "svc = SVC()\n",
    "svc.fit(X_train, y_train)\n",
    "svc.score(X_test,y_test)"
   ]
  },
  {
   "cell_type": "markdown",
   "id": "317cb510",
   "metadata": {},
   "source": [
    "Logistic Regression\n",
    "--"
   ]
  },
  {
   "cell_type": "code",
   "execution_count": 110,
   "id": "b14c6744",
   "metadata": {},
   "outputs": [
    {
     "data": {
      "text/plain": [
       "0.7625"
      ]
     },
     "execution_count": 110,
     "metadata": {},
     "output_type": "execute_result"
    }
   ],
   "source": [
    "log = LogisticRegression()\n",
    "log.fit(X_train, y_train)\n",
    "log.score(X_test,y_test)"
   ]
  },
  {
   "cell_type": "markdown",
   "id": "2cc12230",
   "metadata": {},
   "source": [
    "## Cross validation(교차 검증)"
   ]
  },
  {
   "cell_type": "code",
   "execution_count": 111,
   "id": "515d424e",
   "metadata": {},
   "outputs": [
    {
     "data": {
      "text/plain": [
       "array([0.70625   , 0.709375  , 0.775     , 0.71875   , 0.73040752])"
      ]
     },
     "execution_count": 111,
     "metadata": {},
     "output_type": "execute_result"
    }
   ],
   "source": [
    "#rfc 랜덤포레스트 모델 위에 변수로 선언해줌(제일 잘나와서)\n",
    "# estimator = 모델, cv는 분할 테스트 숫자\n",
    "rfc_eval = cross_val_score(rfc, X = X, y = y, cv = 5)  \n",
    "rfc_eval  # 5번의 교차 검증 결과를 보여준다"
   ]
  },
  {
   "cell_type": "code",
   "execution_count": 112,
   "id": "e9d135fb",
   "metadata": {},
   "outputs": [
    {
     "data": {
      "text/plain": [
       "0.7279565047021943"
      ]
     },
     "execution_count": 112,
     "metadata": {},
     "output_type": "execute_result"
    }
   ],
   "source": [
    "rfc_eval.mean()"
   ]
  },
  {
   "cell_type": "markdown",
   "id": "d1919cac",
   "metadata": {},
   "source": [
    "Percentile Test\n",
    "=="
   ]
  },
  {
   "cell_type": "markdown",
   "id": "77362264",
   "metadata": {},
   "source": [
    "분류 성능 평가 (정적)\n",
    "--"
   ]
  },
  {
   "cell_type": "code",
   "execution_count": 113,
   "id": "8765c996",
   "metadata": {},
   "outputs": [],
   "source": [
    "from itertools import cycle\n",
    "from sklearn import svm, datasets\n",
    "import sklearn.metrics \n",
    "from sklearn.preprocessing import label_binarize\n",
    "from scipy import interp"
   ]
  },
  {
   "cell_type": "code",
   "execution_count": 114,
   "id": "e81df9db",
   "metadata": {},
   "outputs": [
    {
     "data": {
      "text/plain": [
       "((1599, 11), (1599,))"
      ]
     },
     "execution_count": 114,
     "metadata": {},
     "output_type": "execute_result"
    }
   ],
   "source": [
    "X.shape, y.shape"
   ]
  },
  {
   "cell_type": "markdown",
   "id": "481dfb9b",
   "metadata": {},
   "source": [
    "선형모델\n",
    "--"
   ]
  },
  {
   "cell_type": "code",
   "execution_count": 115,
   "id": "b6ea02d7",
   "metadata": {},
   "outputs": [
    {
     "name": "stdout",
     "output_type": "stream",
     "text": [
      "0.7625\n"
     ]
    },
    {
     "data": {
      "text/plain": [
       "array([ 0.05251648,  0.21227076,  0.76454358, -0.72070741,  1.10919458,\n",
       "        0.49951116,  0.02161846,  2.3593618 , -0.52119976, -0.36721583,\n",
       "        1.56851385,  3.08573636,  3.29498598, -0.73450148, -0.93701917,\n",
       "       -2.31276031,  0.76637361, -1.21567977,  0.50322133,  0.98304827,\n",
       "       -0.03324112, -1.40879414, -1.09788012,  1.10126032, -0.99474717,\n",
       "        1.08012767, -0.47724024, -1.85856368,  1.7899085 , -1.22726382,\n",
       "        0.71000407, -1.85287304,  0.19850283,  0.06268753, -1.60974178,\n",
       "       -2.05398454,  2.85224811, -1.20873817,  0.96921973, -0.67827668,\n",
       "       -0.57373672,  1.70324612,  1.4973922 ,  0.50582121,  1.26759511,\n",
       "        0.70519085,  0.20759625,  1.52541702,  1.38537448,  3.13816883,\n",
       "        1.57774376, -0.47445478,  2.35887266,  3.24461276,  0.25598836,\n",
       "        0.84694025,  1.44343985,  0.28268981, -1.18122725,  4.09789778,\n",
       "       -0.63002624,  1.87147419,  1.77407398, -1.44939863, -0.79498086,\n",
       "       -1.27725217,  1.56993062,  0.78027482,  0.5550496 ,  1.40882497,\n",
       "        2.83106625,  0.75036564,  1.89597968,  1.33294084, -1.71375211,\n",
       "        2.2515471 ,  0.82868216,  0.69580885, -0.86818392,  1.02872485,\n",
       "        0.45097642,  1.42611002, -0.13060334, -1.2264079 , -0.21086607,\n",
       "        1.45229684,  0.07263695, -1.80551461,  0.5007537 , -0.92976551,\n",
       "        1.80450919, -0.93695673, -0.40431485, -1.282127  ,  1.03686169,\n",
       "        1.33457892,  2.46783069, -1.36204289,  2.32681932,  1.17901267,\n",
       "       -1.73007381,  0.53314988, -0.85554573, -1.63121748, -1.06537957,\n",
       "        0.17095918,  0.6728718 ,  0.17517502,  0.98816311, -0.88893146,\n",
       "        0.67856191, -0.91785119,  1.06727851,  1.60847465, -1.89183227,\n",
       "       -0.4423694 , -1.30389188,  1.52080091, -0.76951039, -0.51028884,\n",
       "       -1.27988315, -1.13343771,  0.14110149,  2.32370655,  1.09999336,\n",
       "       -0.79766462, -0.65048029,  2.29555738,  2.67468942,  0.30566799,\n",
       "        2.8396074 , -1.35060583,  1.61197949, -1.69960459,  3.667921  ,\n",
       "        1.8833825 ,  0.36962223, -1.03221398, -1.12645874, -1.9481601 ,\n",
       "       -2.14202083, -0.29552169,  0.18242592, -1.32441966, -0.68575964,\n",
       "        0.5674757 ,  0.43257415, -1.33590497, -0.59439315,  0.38535542,\n",
       "       -2.2719285 , -0.59904786, -0.78726135,  2.05035811, -0.60713859,\n",
       "       -0.75657148, -0.6193144 , -0.81446076,  0.10757032,  1.01280475,\n",
       "       -2.44457698,  0.94548895,  3.10041178,  1.82862573, -0.37490947,\n",
       "       -1.85448793, -0.72585623, -0.56771706,  2.51829772, -0.35051827,\n",
       "       -1.59321143, -0.34045917, -0.90801207,  1.20482254,  0.87406455,\n",
       "        0.56478817,  0.38727078, -1.06588847,  0.69591407, -0.18479406,\n",
       "        2.3143637 ,  0.76482402,  1.33294084,  0.11002902, -0.08459519,\n",
       "        0.76651085,  1.4236273 , -0.1373923 ,  0.22979911,  2.68925335,\n",
       "       -0.18063821,  3.46898624, -1.02055834, -0.18063821, -0.85821254,\n",
       "       -0.05441417, -1.67445233,  2.04815236,  2.75111452,  2.62829449,\n",
       "       -1.00247912,  1.40306142, -0.29851736,  1.30510431,  1.61892085,\n",
       "        3.9287992 ,  2.31607552,  0.35013073,  2.70360464,  0.41881682,\n",
       "        0.85027985, -0.25725281,  1.21541562, -0.55650721,  1.14303841,\n",
       "       -1.9481601 , -0.39465391,  1.21507588, -1.23100915,  0.74771366,\n",
       "        0.58711704,  0.04343614, -1.16937013,  1.49478305,  1.56530232,\n",
       "        2.57984539, -1.86126773,  2.25447725, -0.23263241,  0.79674781,\n",
       "       -0.73966932, -0.33175789,  1.44498991,  0.77907064,  0.53438588,\n",
       "       -1.64386369, -0.62894799,  3.08171971, -0.03725945,  0.02678669,\n",
       "       -1.33851619, -1.01614554, -0.17224936, -1.60612509,  1.29616114,\n",
       "       -0.40577934,  0.63193481, -1.69965553, -0.07280177,  1.67911226,\n",
       "        0.97616403, -0.20727715,  1.51219175,  1.98308983,  2.46378666,\n",
       "        1.41336183, -0.67578769,  2.00553877,  0.4076747 ,  0.17729043,\n",
       "        1.5286399 , -3.27480167,  4.18971201,  2.02239306, -0.59979951,\n",
       "       -1.0365336 , -2.13074302, -0.02582895, -0.10905397,  0.40658229,\n",
       "        3.31697254, -0.29734798,  3.52889214,  0.48632947, -0.15264067,\n",
       "       -1.62890255,  0.78268816, -1.70449694,  1.56987487,  3.88965118,\n",
       "        2.68925335,  0.90730239, -1.43505866,  0.79204599,  2.54198682,\n",
       "        0.5370974 ,  2.62641216, -1.95704029,  2.61409678,  0.9623556 ,\n",
       "       -2.28145351,  1.47466634,  0.07800238,  1.87844436, -4.31093103,\n",
       "        0.55792773, -0.29125156, -1.90887839, -0.77899621,  6.12841332,\n",
       "       -3.54363884,  1.25080816,  1.96874237, -0.61169837, -0.06918758,\n",
       "        0.3804426 , -2.04091266,  0.78134514, -0.47063703, -2.32048567,\n",
       "       -0.08258345,  3.88965118,  0.33487601,  2.97185908,  0.35015354,\n",
       "        1.18696394,  3.01767929, -0.84634303, -1.96073628,  2.46783069])"
      ]
     },
     "execution_count": 115,
     "metadata": {},
     "output_type": "execute_result"
    }
   ],
   "source": [
    "classifier = LogisticRegression()\n",
    "y_score = classifier.fit(X_train, y_train).decision_function(X_test)#decision_function() 어떤 클래스라고 분류한 확률을 리턴해줌\n",
    "print(classifier.score(X_test, y_test))\n",
    "y_score"
   ]
  },
  {
   "cell_type": "markdown",
   "id": "5c4669b4",
   "metadata": {},
   "source": [
    "ROC로 성능 평가 (맞춘 순서를 평가)\n",
    "--"
   ]
  },
  {
   "cell_type": "code",
   "execution_count": 116,
   "id": "f208ba38",
   "metadata": {},
   "outputs": [
    {
     "data": {
      "text/plain": [
       "0.824976880704435"
      ]
     },
     "execution_count": 116,
     "metadata": {},
     "output_type": "execute_result"
    }
   ],
   "source": [
    "fpr = dict()\n",
    "tpr = dict()\n",
    "roc_auc = dict()\n",
    "fpr, tpr, _ = roc_curve(y_test, y_score)\n",
    "roc_auc = auc(fpr, tpr)\n",
    "\n",
    "#roc_auc는 그래프의 넓이를 구한다. 초반에 빨리 올라가면 면적이 넓다.\n",
    "#가장 낮은건 평균인 0.5, 최대는 1이 된다.\n",
    "roc_auc"
   ]
  },
  {
   "cell_type": "markdown",
   "id": "39fcf98e",
   "metadata": {},
   "source": [
    "# ROC그림 실습해보기"
   ]
  },
  {
   "cell_type": "code",
   "execution_count": 117,
   "id": "bb22a331",
   "metadata": {},
   "outputs": [
    {
     "data": {
      "text/plain": [
       "<matplotlib.legend.Legend at 0x184b4e60c40>"
      ]
     },
     "execution_count": 117,
     "metadata": {},
     "output_type": "execute_result"
    },
    {
     "data": {
      "image/png": "[encoded data removed]",
      "text/plain": [
       "<Figure size 432x432 with 1 Axes>"
      ]
     },
     "metadata": {
      "needs_background": "light"
     },
     "output_type": "display_data"
    }
   ],
   "source": [
    "plt.figure(figsize=(6,6))\n",
    "plt.plot(fpr, tpr, color='r', label='ROC curve (area = %0.2f)' % roc_auc)\n",
    "plt.plot([0, 1], [0, 1], linestyle='--')\n",
    "plt.xlim([0.0, 1.0])\n",
    "plt.ylim([0.0, 1.05])\n",
    "plt.xlabel('False Positive Rate')\n",
    "plt.ylabel('True Positive Rate')\n",
    "plt.title('ROC')\n",
    "plt.legend(loc=\"lower right\")"
   ]
  },
  {
   "cell_type": "markdown",
   "id": "f87e611a",
   "metadata": {},
   "source": [
    "# 2. 회귀"
   ]
  },
  {
   "cell_type": "code",
   "execution_count": 118,
   "id": "56e48b12",
   "metadata": {},
   "outputs": [],
   "source": [
    "def rmse(true,pred):\n",
    "    return np.sqrt(mean_squared_error(true,pred))\n",
    "\n",
    "metrics = {'MSE': mean_squared_error,\n",
    "              'RMSE': mean_absolute_error,\n",
    "              'MAE': rmse,\n",
    "              'R2': r2_score}\n",
    "\n",
    "def linear_eval(model):\n",
    "    for i in metrics.keys():\n",
    "        print(f'{i} : {metrics[i](y_test_, model.predict(X_test_))}')"
   ]
  },
  {
   "cell_type": "markdown",
   "id": "1ae9c6c6",
   "metadata": {},
   "source": [
    "## 선형 모델"
   ]
  },
  {
   "cell_type": "code",
   "execution_count": 119,
   "id": "b3402ebf",
   "metadata": {},
   "outputs": [
    {
     "name": "stdout",
     "output_type": "stream",
     "text": [
      "MSE : 0.37959710850229783\n",
      "RMSE : 0.48139673183329795\n",
      "MAE : 0.6161145254758225\n",
      "R2 : 0.3468858137200871\n"
     ]
    }
   ],
   "source": [
    "lr = LinearRegression()\n",
    "lr.fit(X_train_, y_train_)\n",
    "linear_eval(lr)"
   ]
  },
  {
   "cell_type": "code",
   "execution_count": 120,
   "id": "aea50814",
   "metadata": {},
   "outputs": [
    {
     "name": "stdout",
     "output_type": "stream",
     "text": [
      "MSE : 0.3795970406146914\n",
      "RMSE : 0.4813967058727731\n",
      "MAE : 0.6161144703824861\n",
      "R2 : 0.3468859305238189\n"
     ]
    }
   ],
   "source": [
    "ridge = Ridge(alpha=0.001)\n",
    "ridge.fit(X_train_, y_train_)\n",
    "linear_eval(ridge)"
   ]
  },
  {
   "cell_type": "code",
   "execution_count": 121,
   "id": "39e57627",
   "metadata": {},
   "outputs": [
    {
     "name": "stdout",
     "output_type": "stream",
     "text": [
      "MSE : 0.3784675443075926\n",
      "RMSE : 0.4812691170602232\n",
      "MAE : 0.6151971588910279\n",
      "R2 : 0.34882928057837415\n"
     ]
    }
   ],
   "source": [
    "lasso = Lasso(alpha=0.001)\n",
    "lasso.fit(X_train_, y_train_)\n",
    "linear_eval(lasso)"
   ]
  },
  {
   "cell_type": "markdown",
   "id": "f7ed5dd1",
   "metadata": {},
   "source": [
    "## Support Vector Regressor(SVR)"
   ]
  },
  {
   "cell_type": "code",
   "execution_count": 122,
   "id": "a348d724",
   "metadata": {},
   "outputs": [
    {
     "name": "stdout",
     "output_type": "stream",
     "text": [
      "MSE : 0.33437518713082554\n",
      "RMSE : 0.4293437239999129\n",
      "MAE : 0.5782518371184181\n",
      "R2 : 0.4246921976914354\n"
     ]
    }
   ],
   "source": [
    "svr = SVR(kernel='rbf',gamma='auto',C=1, epsilon=0.1)\n",
    "svr.fit(X_train_, y_train_)\n",
    "linear_eval(svr)"
   ]
  },
  {
   "cell_type": "code",
   "execution_count": null,
   "id": "d6444f62",
   "metadata": {},
   "outputs": [],
   "source": []
  }
 ],
 "metadata": {
  "kernelspec": {
   "display_name": "Python 3",
   "language": "python",
   "name": "python3"
  },
  "language_info": {
   "codemirror_mode": {
    "name": "ipython",
    "version": 3
   },
   "file_extension": ".py",
   "mimetype": "text/x-python",
   "name": "python",
   "nbconvert_exporter": "python",
   "pygments_lexer": "ipython3",
   "version": "3.8.8"
  }
 },
 "nbformat": 4,
 "nbformat_minor": 5
}
