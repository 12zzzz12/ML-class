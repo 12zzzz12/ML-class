{
 "cells": [
  {
   "cell_type": "code",
   "execution_count": 2,
   "id": "1988d1f1",
   "metadata": {},
   "outputs": [],
   "source": [
    "import pandas as pd\n",
    "import numpy as np\n",
    "# import seaborn as sns\n",
    "import matplotlib.pyplot as plt\n",
    "from sklearn import tree\n",
    "from sklearn.neighbors import KNeighborsClassifier\n",
    "from sklearn.ensemble import RandomForestClassifier\n",
    "from sklearn.ensemble import GradientBoostingClassifier\n",
    "#from xgboost import XGBClassifier <- pip install xgboost\n",
    "from sklearn.svm import SVC\n",
    "from sklearn.svm import SVR # Support Vector Regression\n",
    "from sklearn.linear_model import LinearRegression, Ridge, Lasso, LogisticRegression\n",
    "from sklearn.metrics import confusion_matrix, classification_report, roc_curve, auc\n",
    "from sklearn.metrics import mean_squared_error, mean_absolute_error, r2_score\n",
    "from sklearn.preprocessing import StandardScaler, LabelEncoder\n",
    "from sklearn.model_selection import train_test_split, GridSearchCV, cross_val_score \n",
    "%matplotlib inline"
   ]
  },
  {
   "cell_type": "code",
   "execution_count": 3,
   "id": "336fc17e",
   "metadata": {},
   "outputs": [],
   "source": [
    "#데이터 읽기데이터 읽기\n",
    "wine = pd.read_csv('winequality-red.csv')\n",
    "# 데이터 사본 https://goo.gl/m3eCrf"
   ]
  },
  {
   "cell_type": "code",
   "execution_count": 58,
   "id": "0b323c67",
   "metadata": {},
   "outputs": [],
   "source": [
    "\n",
    "bins = (2.9,8.0, 8.1)\n",
    "\n",
    "group_names = [0, 1]\n",
    "\n",
    "wine['qual'] = pd.cut(wine['quality'], bins = bins, labels = group_names)"
   ]
  },
  {
   "cell_type": "code",
   "execution_count": 59,
   "id": "ebf3676b",
   "metadata": {},
   "outputs": [],
   "source": [
    "#X_new 는 quality,와 qual 컬럼을 제거한 wine 데이터 값을 갖는다.\n",
    "X_new = wine.drop(['quality', 'qual'], axis = 1)\n",
    "\n",
    "# y_는 quality컬럼의 데이터 값을 갖는다.\n",
    "y_ = wine['quality'] # regression 용\n",
    "\n",
    "# y는 qual 컬럼의 데이터 값을 갖는다.\n",
    "y = wine['qual']"
   ]
  },
  {
   "cell_type": "code",
   "execution_count": 60,
   "id": "8d405043",
   "metadata": {},
   "outputs": [],
   "source": [
    "sc = StandardScaler()\n",
    "X = sc.fit_transform(X_new)"
   ]
  },
  {
   "cell_type": "code",
   "execution_count": 61,
   "id": "60d07be7",
   "metadata": {},
   "outputs": [],
   "source": [
    "X_train, X_test, y_train, y_test = train_test_split(X, y, test_size = 0.2, random_state = 7) # 분류용\n",
    "X_train_, X_test_, y_train_, y_test_ = train_test_split(X, y_, test_size = 0.2, random_state = 7) # 회귀용\n"
   ]
  },
  {
   "cell_type": "code",
   "execution_count": 62,
   "id": "c6243270",
   "metadata": {},
   "outputs": [
    {
     "name": "stdout",
     "output_type": "stream",
     "text": [
      "(quality 7.0기준) KNN : 1.0\n"
     ]
    }
   ],
   "source": [
    "#7.0이상\n",
    "clf = KNeighborsClassifier(n_neighbors=3)\n",
    "clf = clf.fit(X_train, y_train)\n",
    "clf.score(X_test, y_test)\n",
    "print(\"(quality 7.0기준) KNN :\",clf.score(X_test, y_test))"
   ]
  },
  {
   "cell_type": "code",
   "execution_count": 63,
   "id": "9613259b",
   "metadata": {},
   "outputs": [
    {
     "name": "stdout",
     "output_type": "stream",
     "text": [
      "(quality 7.0기준) 결정 트리 : 1.0\n"
     ]
    }
   ],
   "source": [
    "clf = tree.DecisionTreeClassifier()\n",
    "clf = clf.fit(X_train, y_train)\n",
    "clf.score(X_test, y_test)\n",
    "print(\"(quality 7.0기준) 결정 트리 :\",clf.score(X_test, y_test))"
   ]
  },
  {
   "cell_type": "code",
   "execution_count": 64,
   "id": "d9d98778",
   "metadata": {},
   "outputs": [
    {
     "name": "stdout",
     "output_type": "stream",
     "text": [
      "(quality 7.0기준) 랜덤 포레스트 : 1.0\n"
     ]
    }
   ],
   "source": [
    "rfc = RandomForestClassifier(max_depth = 7, n_estimators=300)\n",
    "rfc.fit(X_train, y_train)\n",
    "rfc.score(X_test, y_test)\n",
    "print(\"(quality 7.0기준) 랜덤 포레스트 :\",clf.score(X_test, y_test))"
   ]
  },
  {
   "cell_type": "code",
   "execution_count": 65,
   "id": "a6adbaba",
   "metadata": {},
   "outputs": [
    {
     "ename": "ValueError",
     "evalue": "y contains 1 class after sample_weight trimmed classes with zero weights, while a minimum of 2 classes are required.",
     "output_type": "error",
     "traceback": [
      "\u001b[1;31m---------------------------------------------------------------------------\u001b[0m",
      "\u001b[1;31mValueError\u001b[0m                                Traceback (most recent call last)",
      "\u001b[1;32m<ipython-input-65-6b435a83879c>\u001b[0m in \u001b[0;36m<module>\u001b[1;34m\u001b[0m\n\u001b[0;32m      1\u001b[0m GBC = GradientBoostingClassifier(max_depth=5, n_estimators=100, learning_rate=0.1,\n\u001b[0;32m      2\u001b[0m                                 random_state=42)\n\u001b[1;32m----> 3\u001b[1;33m \u001b[0mGBC\u001b[0m\u001b[1;33m.\u001b[0m\u001b[0mfit\u001b[0m\u001b[1;33m(\u001b[0m\u001b[0mX_train\u001b[0m\u001b[1;33m,\u001b[0m \u001b[0my_train\u001b[0m\u001b[1;33m)\u001b[0m\u001b[1;33m\u001b[0m\u001b[1;33m\u001b[0m\u001b[0m\n\u001b[0m\u001b[0;32m      4\u001b[0m \u001b[0mGBC\u001b[0m\u001b[1;33m.\u001b[0m\u001b[0mscore\u001b[0m\u001b[1;33m(\u001b[0m\u001b[0mX_test\u001b[0m\u001b[1;33m,\u001b[0m \u001b[0my_test\u001b[0m\u001b[1;33m)\u001b[0m\u001b[1;33m\u001b[0m\u001b[1;33m\u001b[0m\u001b[0m\n\u001b[0;32m      5\u001b[0m \u001b[0mprint\u001b[0m\u001b[1;33m(\u001b[0m\u001b[1;34m\"(quality 7.0기준) 그라디언트 부스팅 :\"\u001b[0m\u001b[1;33m,\u001b[0m\u001b[0mclf\u001b[0m\u001b[1;33m.\u001b[0m\u001b[0mscore\u001b[0m\u001b[1;33m(\u001b[0m\u001b[0mX_test\u001b[0m\u001b[1;33m,\u001b[0m \u001b[0my_test\u001b[0m\u001b[1;33m)\u001b[0m\u001b[1;33m)\u001b[0m\u001b[1;33m\u001b[0m\u001b[1;33m\u001b[0m\u001b[0m\n",
      "\u001b[1;32m~\\anaconda3\\lib\\site-packages\\sklearn\\ensemble\\_gb.py\u001b[0m in \u001b[0;36mfit\u001b[1;34m(self, X, y, sample_weight, monitor)\u001b[0m\n\u001b[0;32m    421\u001b[0m \u001b[1;33m\u001b[0m\u001b[0m\n\u001b[0;32m    422\u001b[0m         \u001b[1;32mif\u001b[0m \u001b[0mis_classifier\u001b[0m\u001b[1;33m(\u001b[0m\u001b[0mself\u001b[0m\u001b[1;33m)\u001b[0m\u001b[1;33m:\u001b[0m\u001b[1;33m\u001b[0m\u001b[1;33m\u001b[0m\u001b[0m\n\u001b[1;32m--> 423\u001b[1;33m             \u001b[0my\u001b[0m \u001b[1;33m=\u001b[0m \u001b[0mself\u001b[0m\u001b[1;33m.\u001b[0m\u001b[0m_validate_y\u001b[0m\u001b[1;33m(\u001b[0m\u001b[0my\u001b[0m\u001b[1;33m,\u001b[0m \u001b[0msample_weight\u001b[0m\u001b[1;33m)\u001b[0m\u001b[1;33m\u001b[0m\u001b[1;33m\u001b[0m\u001b[0m\n\u001b[0m\u001b[0;32m    424\u001b[0m         \u001b[1;32melse\u001b[0m\u001b[1;33m:\u001b[0m\u001b[1;33m\u001b[0m\u001b[1;33m\u001b[0m\u001b[0m\n\u001b[0;32m    425\u001b[0m             \u001b[0my\u001b[0m \u001b[1;33m=\u001b[0m \u001b[0mself\u001b[0m\u001b[1;33m.\u001b[0m\u001b[0m_validate_y\u001b[0m\u001b[1;33m(\u001b[0m\u001b[0my\u001b[0m\u001b[1;33m)\u001b[0m\u001b[1;33m\u001b[0m\u001b[1;33m\u001b[0m\u001b[0m\n",
      "\u001b[1;32m~\\anaconda3\\lib\\site-packages\\sklearn\\ensemble\\_gb.py\u001b[0m in \u001b[0;36m_validate_y\u001b[1;34m(self, y, sample_weight)\u001b[0m\n\u001b[0;32m   1105\u001b[0m         \u001b[0mn_trim_classes\u001b[0m \u001b[1;33m=\u001b[0m \u001b[0mnp\u001b[0m\u001b[1;33m.\u001b[0m\u001b[0mcount_nonzero\u001b[0m\u001b[1;33m(\u001b[0m\u001b[0mnp\u001b[0m\u001b[1;33m.\u001b[0m\u001b[0mbincount\u001b[0m\u001b[1;33m(\u001b[0m\u001b[0my\u001b[0m\u001b[1;33m,\u001b[0m \u001b[0msample_weight\u001b[0m\u001b[1;33m)\u001b[0m\u001b[1;33m)\u001b[0m\u001b[1;33m\u001b[0m\u001b[1;33m\u001b[0m\u001b[0m\n\u001b[0;32m   1106\u001b[0m         \u001b[1;32mif\u001b[0m \u001b[0mn_trim_classes\u001b[0m \u001b[1;33m<\u001b[0m \u001b[1;36m2\u001b[0m\u001b[1;33m:\u001b[0m\u001b[1;33m\u001b[0m\u001b[1;33m\u001b[0m\u001b[0m\n\u001b[1;32m-> 1107\u001b[1;33m             raise ValueError(\"y contains %d class after sample_weight \"\n\u001b[0m\u001b[0;32m   1108\u001b[0m                              \u001b[1;34m\"trimmed classes with zero weights, while a \"\u001b[0m\u001b[1;33m\u001b[0m\u001b[1;33m\u001b[0m\u001b[0m\n\u001b[0;32m   1109\u001b[0m                              \u001b[1;34m\"minimum of 2 classes are required.\"\u001b[0m\u001b[1;33m\u001b[0m\u001b[1;33m\u001b[0m\u001b[0m\n",
      "\u001b[1;31mValueError\u001b[0m: y contains 1 class after sample_weight trimmed classes with zero weights, while a minimum of 2 classes are required."
     ]
    }
   ],
   "source": [
    "GBC = GradientBoostingClassifier(max_depth=5, n_estimators=100, learning_rate=0.1,\n",
    "                                random_state=42)\n",
    "GBC.fit(X_train, y_train)\n",
    "GBC.score(X_test, y_test)\n",
    "print(\"(quality 7.0기준) 그라디언트 부스팅 :\",clf.score(X_test, y_test))"
   ]
  },
  {
   "cell_type": "code",
   "execution_count": null,
   "id": "aa3745b3",
   "metadata": {},
   "outputs": [],
   "source": [
    "pred_rfc = rfc.predict(X_test)\n",
    "print(classification_report(y_test, pred_rfc))"
   ]
  },
  {
   "cell_type": "code",
   "execution_count": null,
   "id": "2e663144",
   "metadata": {},
   "outputs": [],
   "source": [
    "def rmse(true,pred):\n",
    "    return np.sqrt(mean_squared_error(true,pred))\n",
    "\n",
    "metrics = {'MSE': mean_squared_error,\n",
    "              'RMSE': mean_absolute_error,\n",
    "              'MAE': rmse,\n",
    "              'R2': r2_score}\n",
    "\n",
    "def linear_eval(model):\n",
    "    for i in metrics.keys():\n",
    "        print(f'{i} : {metrics[i](y_test_, model.predict(X_test_))}')"
   ]
  },
  {
   "cell_type": "markdown",
   "id": "13dabb17",
   "metadata": {},
   "source": [
    "## 선형 모델 (7.0 기준)"
   ]
  },
  {
   "cell_type": "code",
   "execution_count": 66,
   "id": "efbf8467",
   "metadata": {},
   "outputs": [
    {
     "name": "stdout",
     "output_type": "stream",
     "text": [
      "MSE : 0.37959710850229783\n",
      "RMSE : 0.48139673183329795\n",
      "MAE : 0.6161145254758225\n",
      "R2 : 0.3468858137200871\n"
     ]
    }
   ],
   "source": [
    "lr = LinearRegression()\n",
    "lr.fit(X_train_, y_train_)\n",
    "linear_eval(lr)"
   ]
  },
  {
   "cell_type": "code",
   "execution_count": 67,
   "id": "5b02d802",
   "metadata": {},
   "outputs": [
    {
     "name": "stdout",
     "output_type": "stream",
     "text": [
      "MSE : 0.3795970406146914\n",
      "RMSE : 0.4813967058727731\n",
      "MAE : 0.6161144703824861\n",
      "R2 : 0.3468859305238189\n"
     ]
    }
   ],
   "source": [
    "ridge = Ridge(alpha=0.001)\n",
    "ridge.fit(X_train_, y_train_)\n",
    "linear_eval(ridge)"
   ]
  },
  {
   "cell_type": "code",
   "execution_count": 68,
   "id": "52212c39",
   "metadata": {},
   "outputs": [
    {
     "name": "stdout",
     "output_type": "stream",
     "text": [
      "MSE : 0.3784675443075926\n",
      "RMSE : 0.4812691170602232\n",
      "MAE : 0.6151971588910279\n",
      "R2 : 0.34882928057837415\n"
     ]
    }
   ],
   "source": [
    "lasso = Lasso(alpha=0.001)\n",
    "lasso.fit(X_train_, y_train_)\n",
    "linear_eval(lasso)"
   ]
  },
  {
   "cell_type": "code",
   "execution_count": null,
   "id": "1e586405",
   "metadata": {},
   "outputs": [],
   "source": []
  },
  {
   "cell_type": "code",
   "execution_count": null,
   "id": "0308999b",
   "metadata": {},
   "outputs": [],
   "source": []
  },
  {
   "cell_type": "code",
   "execution_count": null,
   "id": "f26313d8",
   "metadata": {},
   "outputs": [],
   "source": []
  }
 ],
 "metadata": {
  "kernelspec": {
   "display_name": "Python 3",
   "language": "python",
   "name": "python3"
  },
  "language_info": {
   "codemirror_mode": {
    "name": "ipython",
    "version": 3
   },
   "file_extension": ".py",
   "mimetype": "text/x-python",
   "name": "python",
   "nbconvert_exporter": "python",
   "pygments_lexer": "ipython3",
   "version": "3.8.8"
  }
 },
 "nbformat": 4,
 "nbformat_minor": 5
}
