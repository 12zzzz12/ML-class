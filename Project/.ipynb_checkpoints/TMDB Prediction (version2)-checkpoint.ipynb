{
 "cells": [
  {
   "cell_type": "markdown",
   "id": "confirmed-stand",
   "metadata": {
    "papermill": {
     "duration": 0.067931,
     "end_time": "2021-05-24T17:21:16.405872",
     "exception": false,
     "start_time": "2021-05-24T17:21:16.337941",
     "status": "completed"
    },
    "tags": []
   },
   "source": [
    "**Import all necessary libraries"
   ]
  },
  {
   "cell_type": "code",
   "execution_count": 3,
   "id": "amber-ceremony",
   "metadata": {
    "execution": {
     "iopub.execute_input": "2021-05-24T17:21:16.544201Z",
     "iopub.status.busy": "2021-05-24T17:21:16.542200Z",
     "iopub.status.idle": "2021-05-24T17:21:26.348657Z",
     "shell.execute_reply": "2021-05-24T17:21:26.347771Z",
     "shell.execute_reply.started": "2021-05-24T17:19:02.849674Z"
    },
    "papermill": {
     "duration": 9.877954,
     "end_time": "2021-05-24T17:21:26.348880",
     "exception": false,
     "start_time": "2021-05-24T17:21:16.470926",
     "status": "completed"
    },
    "tags": []
   },
   "outputs": [
    {
     "name": "stdout",
     "output_type": "stream",
     "text": [
      "Requirement already satisfied: missingno in c:\\users\\12zzz\\anaconda3\\lib\\site-packages (0.4.2)\n",
      "Requirement already satisfied: matplotlib in c:\\users\\12zzz\\anaconda3\\lib\\site-packages (from missingno) (3.3.4)\n",
      "Requirement already satisfied: seaborn in c:\\users\\12zzz\\anaconda3\\lib\\site-packages (from missingno) (0.11.1)\n",
      "Requirement already satisfied: numpy in c:\\users\\12zzz\\anaconda3\\lib\\site-packages (from missingno) (1.19.2)\n",
      "Requirement already satisfied: scipy in c:\\users\\12zzz\\anaconda3\\lib\\site-packages (from missingno) (1.5.4)\n",
      "Requirement already satisfied: kiwisolver>=1.0.1 in c:\\users\\12zzz\\anaconda3\\lib\\site-packages (from matplotlib->missingno) (1.3.1)\n",
      "Requirement already satisfied: pyparsing!=2.0.4,!=2.1.2,!=2.1.6,>=2.0.3 in c:\\users\\12zzz\\anaconda3\\lib\\site-packages (from matplotlib->missingno) (2.4.7)\n",
      "Requirement already satisfied: pillow>=6.2.0 in c:\\users\\12zzz\\anaconda3\\lib\\site-packages (from matplotlib->missingno) (8.2.0)\n",
      "Requirement already satisfied: cycler>=0.10 in c:\\users\\12zzz\\anaconda3\\lib\\site-packages (from matplotlib->missingno) (0.10.0)\n",
      "Requirement already satisfied: python-dateutil>=2.1 in c:\\users\\12zzz\\anaconda3\\lib\\site-packages (from matplotlib->missingno) (2.8.1)\n",
      "Requirement already satisfied: six in c:\\users\\12zzz\\anaconda3\\lib\\site-packages (from cycler>=0.10->matplotlib->missingno) (1.15.0)\n",
      "Requirement already satisfied: pandas>=0.23 in c:\\users\\12zzz\\anaconda3\\lib\\site-packages (from seaborn->missingno) (1.2.3)\n",
      "Requirement already satisfied: pytz>=2017.3 in c:\\users\\12zzz\\anaconda3\\lib\\site-packages (from pandas>=0.23->seaborn->missingno) (2021.1)\n"
     ]
    }
   ],
   "source": [
    "import numpy as np\n",
    "import pandas as pd\n",
    "import matplotlib.pyplot as plt\n",
    "import seaborn as sns \n",
    "plt.style.use('fast')\n",
    "!pip install missingno\n",
    "import missingno as msngno \n",
    "%matplotlib inline\n",
    "import ast\n",
    "from sklearn.metrics import mean_squared_error\n",
    "from math import sqrt\n",
    "import warnings\n",
    "warnings.filterwarnings('ignore')"
   ]
  },
  {
   "cell_type": "code",
   "execution_count": 4,
   "id": "confirmed-uncle",
   "metadata": {
    "execution": {
     "iopub.execute_input": "2021-05-24T17:21:26.491818Z",
     "iopub.status.busy": "2021-05-24T17:21:26.491199Z",
     "iopub.status.idle": "2021-05-24T17:21:27.987429Z",
     "shell.execute_reply": "2021-05-24T17:21:27.986373Z",
     "shell.execute_reply.started": "2021-05-24T17:19:08.204892Z"
    },
    "papermill": {
     "duration": 1.570527,
     "end_time": "2021-05-24T17:21:27.987590",
     "exception": false,
     "start_time": "2021-05-24T17:21:26.417063",
     "status": "completed"
    },
    "tags": []
   },
   "outputs": [
    {
     "ename": "NameError",
     "evalue": "name 'train_extra' is not defined",
     "output_type": "error",
     "traceback": [
      "\u001b[1;31m---------------------------------------------------------------------------\u001b[0m",
      "\u001b[1;31mNameError\u001b[0m                                 Traceback (most recent call last)",
      "\u001b[1;32m<ipython-input-4-cf693a295b74>\u001b[0m in \u001b[0;36m<module>\u001b[1;34m\u001b[0m\n\u001b[0;32m      2\u001b[0m \u001b[0mtest\u001b[0m \u001b[1;33m=\u001b[0m \u001b[0mpd\u001b[0m\u001b[1;33m.\u001b[0m\u001b[0mread_csv\u001b[0m\u001b[1;33m(\u001b[0m\u001b[1;34m'test.csv'\u001b[0m\u001b[1;33m)\u001b[0m\u001b[1;33m\u001b[0m\u001b[1;33m\u001b[0m\u001b[0m\n\u001b[0;32m      3\u001b[0m \u001b[1;33m\u001b[0m\u001b[0m\n\u001b[1;32m----> 4\u001b[1;33m \u001b[0mtrain\u001b[0m \u001b[1;33m=\u001b[0m \u001b[0mpd\u001b[0m\u001b[1;33m.\u001b[0m\u001b[0mmerge\u001b[0m\u001b[1;33m(\u001b[0m\u001b[0mtrain\u001b[0m\u001b[1;33m,\u001b[0m \u001b[0mtrain_extra\u001b[0m\u001b[1;33m,\u001b[0m \u001b[0mhow\u001b[0m\u001b[1;33m=\u001b[0m\u001b[1;34m'left'\u001b[0m\u001b[1;33m,\u001b[0m \u001b[0mon\u001b[0m\u001b[1;33m=\u001b[0m\u001b[1;33m[\u001b[0m\u001b[1;34m'imdb_id'\u001b[0m\u001b[1;33m]\u001b[0m\u001b[1;33m)\u001b[0m\u001b[1;33m\u001b[0m\u001b[1;33m\u001b[0m\u001b[0m\n\u001b[0m\u001b[0;32m      5\u001b[0m \u001b[0mtest\u001b[0m \u001b[1;33m=\u001b[0m \u001b[0mpd\u001b[0m\u001b[1;33m.\u001b[0m\u001b[0mmerge\u001b[0m\u001b[1;33m(\u001b[0m\u001b[0mtest\u001b[0m\u001b[1;33m,\u001b[0m \u001b[0mtest_extra\u001b[0m\u001b[1;33m,\u001b[0m \u001b[0mhow\u001b[0m\u001b[1;33m=\u001b[0m\u001b[1;34m'left'\u001b[0m\u001b[1;33m,\u001b[0m \u001b[0mon\u001b[0m\u001b[1;33m=\u001b[0m\u001b[1;33m[\u001b[0m\u001b[1;34m'imdb_id'\u001b[0m\u001b[1;33m]\u001b[0m\u001b[1;33m)\u001b[0m\u001b[1;33m\u001b[0m\u001b[1;33m\u001b[0m\u001b[0m\n\u001b[0;32m      6\u001b[0m \u001b[1;33m\u001b[0m\u001b[0m\n",
      "\u001b[1;31mNameError\u001b[0m: name 'train_extra' is not defined"
     ]
    }
   ],
   "source": [
    "train = pd.read_csv('train.csv')\n",
    "test = pd.read_csv('test.csv')\n",
    "train_extra = pd.read_csv('../input/tmdb-competition-additional-features/TrainAdditionalFeatures.csv')\n",
    "test_extra = pd.read_csv('../input/tmdb-competition-additional-features/TestAdditionalFeatures.csv')\n",
    "\n",
    "train = pd.merge(train, train_extra, how='left', on=['imdb_id'])\n",
    "test = pd.merge(test, test_extra, how='left', on=['imdb_id'])\n",
    "\n"
   ]
  },
  {
   "cell_type": "markdown",
   "id": "athletic-canyon",
   "metadata": {
    "papermill": {
     "duration": 0.113405,
     "end_time": "2021-05-24T17:21:28.167853",
     "exception": false,
     "start_time": "2021-05-24T17:21:28.054448",
     "status": "completed"
    },
    "tags": []
   },
   "source": [
    "**Loading the dataset, Train and Test\n",
    "I have also added additional features from an external source (both test and train)\n",
    "\n",
    "**Note: When the data is in the local machine, it is easier to load. The data was however loaded through GitHub link and it might take a while :)\n"
   ]
  },
  {
   "cell_type": "code",
   "execution_count": null,
   "id": "dietary-fusion",
   "metadata": {
    "execution": {
     "iopub.execute_input": "2021-05-24T17:21:28.402114Z",
     "iopub.status.busy": "2021-05-24T17:21:28.401167Z",
     "iopub.status.idle": "2021-05-24T17:21:28.409898Z",
     "shell.execute_reply": "2021-05-24T17:21:28.410588Z",
     "shell.execute_reply.started": "2021-05-24T17:19:08.751373Z"
    },
    "papermill": {
     "duration": 0.129213,
     "end_time": "2021-05-24T17:21:28.410839",
     "exception": false,
     "start_time": "2021-05-24T17:21:28.281626",
     "status": "completed"
    },
    "tags": []
   },
   "outputs": [],
   "source": [
    "train.shape, test.shape"
   ]
  },
  {
   "cell_type": "code",
   "execution_count": null,
   "id": "standard-imaging",
   "metadata": {
    "execution": {
     "iopub.execute_input": "2021-05-24T17:21:28.635776Z",
     "iopub.status.busy": "2021-05-24T17:21:28.634867Z",
     "iopub.status.idle": "2021-05-24T17:21:28.640542Z",
     "shell.execute_reply": "2021-05-24T17:21:28.641197Z",
     "shell.execute_reply.started": "2021-05-24T17:19:08.762737Z"
    },
    "papermill": {
     "duration": 0.122448,
     "end_time": "2021-05-24T17:21:28.641462",
     "exception": false,
     "start_time": "2021-05-24T17:21:28.519014",
     "status": "completed"
    },
    "tags": []
   },
   "outputs": [],
   "source": [
    "train_extra.shape, test_extra.shape"
   ]
  },
  {
   "cell_type": "code",
   "execution_count": null,
   "id": "average-opinion",
   "metadata": {
    "execution": {
     "iopub.execute_input": "2021-05-24T17:21:28.815670Z",
     "iopub.status.busy": "2021-05-24T17:21:28.814493Z",
     "iopub.status.idle": "2021-05-24T17:21:28.832662Z",
     "shell.execute_reply": "2021-05-24T17:21:28.833182Z",
     "shell.execute_reply.started": "2021-05-24T17:19:08.776666Z"
    },
    "papermill": {
     "duration": 0.111362,
     "end_time": "2021-05-24T17:21:28.833378",
     "exception": false,
     "start_time": "2021-05-24T17:21:28.722016",
     "status": "completed"
    },
    "tags": []
   },
   "outputs": [],
   "source": [
    "train.head()"
   ]
  },
  {
   "cell_type": "markdown",
   "id": "noticed-cycle",
   "metadata": {
    "papermill": {
     "duration": 0.067059,
     "end_time": "2021-05-24T17:21:28.971402",
     "exception": false,
     "start_time": "2021-05-24T17:21:28.904343",
     "status": "completed"
    },
    "tags": []
   },
   "source": [
    "**Checking the duplicates"
   ]
  },
  {
   "cell_type": "code",
   "execution_count": null,
   "id": "middle-mathematics",
   "metadata": {
    "execution": {
     "iopub.execute_input": "2021-05-24T17:21:29.111978Z",
     "iopub.status.busy": "2021-05-24T17:21:29.110855Z",
     "iopub.status.idle": "2021-05-24T17:21:29.211000Z",
     "shell.execute_reply": "2021-05-24T17:21:29.211498Z",
     "shell.execute_reply.started": "2021-05-24T17:19:08.810978Z"
    },
    "papermill": {
     "duration": 0.172856,
     "end_time": "2021-05-24T17:21:29.211667",
     "exception": false,
     "start_time": "2021-05-24T17:21:29.038811",
     "status": "completed"
    },
    "tags": []
   },
   "outputs": [],
   "source": [
    "sum(train.duplicated()), sum(test.duplicated())"
   ]
  },
  {
   "cell_type": "markdown",
   "id": "linear-startup",
   "metadata": {
    "papermill": {
     "duration": 0.067111,
     "end_time": "2021-05-24T17:21:29.347172",
     "exception": false,
     "start_time": "2021-05-24T17:21:29.280061",
     "status": "completed"
    },
    "tags": []
   },
   "source": [
    "**Fixing the values that were missing/wrong for the complete dataset\n",
    "These were pre-released in the discussion section"
   ]
  },
  {
   "cell_type": "code",
   "execution_count": null,
   "id": "indie-montgomery",
   "metadata": {
    "execution": {
     "iopub.execute_input": "2021-05-24T17:21:29.535077Z",
     "iopub.status.busy": "2021-05-24T17:21:29.519401Z",
     "iopub.status.idle": "2021-05-24T17:21:29.646051Z",
     "shell.execute_reply": "2021-05-24T17:21:29.645545Z",
     "shell.execute_reply.started": "2021-05-24T17:19:08.901973Z"
    },
    "papermill": {
     "duration": 0.232083,
     "end_time": "2021-05-24T17:21:29.646199",
     "exception": false,
     "start_time": "2021-05-24T17:21:29.414116",
     "status": "completed"
    },
    "tags": []
   },
   "outputs": [],
   "source": [
    "train.loc[train['id'] == 16,'revenue'] = 192864          # Skinning\n",
    "train.loc[train['id'] == 90,'budget'] = 30000000         # Sommersby          \n",
    "train.loc[train['id'] == 118,'budget'] = 60000000        # Wild Hogs\n",
    "train.loc[train['id'] == 149,'budget'] = 18000000        # Beethoven\n",
    "train.loc[train['id'] == 313,'revenue'] = 12000000       # The Cookout \n",
    "train.loc[train['id'] == 451,'revenue'] = 12000000       # Chasing Liberty\n",
    "train.loc[train['id'] == 464,'budget'] = 20000000        # Parenthood\n",
    "train.loc[train['id'] == 470,'budget'] = 13000000        # The Karate Kid, Part II\n",
    "train.loc[train['id'] == 513,'budget'] = 930000          # From Prada to Nada\n",
    "train.loc[train['id'] == 797,'budget'] = 8000000         # Welcome to Dongmakgol\n",
    "train.loc[train['id'] == 819,'budget'] = 90000000        # Alvin and the Chipmunks: The Road Chip\n",
    "train.loc[train['id'] == 850,'budget'] = 90000000        # Modern Times\n",
    "train.loc[train['id'] == 1007,'budget'] = 2              # Zyzzyx Road \n",
    "train.loc[train['id'] == 1112,'budget'] = 7500000        # An Officer and a Gentleman\n",
    "train.loc[train['id'] == 1131,'budget'] = 4300000        # Smokey and the Bandit   \n",
    "train.loc[train['id'] == 1359,'budget'] = 10000000       # Stir Crazy \n",
    "train.loc[train['id'] == 1542,'budget'] = 1              # All at Once\n",
    "train.loc[train['id'] == 1570,'budget'] = 15800000       # Crocodile Dundee II\n",
    "train.loc[train['id'] == 1571,'budget'] = 4000000        # Lady and the Tramp\n",
    "train.loc[train['id'] == 1714,'budget'] = 46000000       # The Recruit\n",
    "train.loc[train['id'] == 1721,'budget'] = 17500000       # Cocoon\n",
    "train.loc[train['id'] == 1865,'revenue'] = 25000000      # Scooby-Doo 2: Monsters Unleashed\n",
    "train.loc[train['id'] == 1885,'budget'] = 12             # In the Cut\n",
    "train.loc[train['id'] == 2091,'budget'] = 10             # Deadfall\n",
    "train.loc[train['id'] == 2268,'budget'] = 17500000       # Madea Goes to Jail budget\n",
    "train.loc[train['id'] == 2491,'budget'] = 6              # Never Talk to Strangers\n",
    "train.loc[train['id'] == 2602,'budget'] = 31000000       # Mr. Holland's Opus\n",
    "train.loc[train['id'] == 2612,'budget'] = 15000000       # Field of Dreams\n",
    "train.loc[train['id'] == 2696,'budget'] = 10000000       # Nurse 3-D\n",
    "train.loc[train['id'] == 2801,'budget'] = 10000000       # Fracture\n",
    "train.loc[train['id'] == 335,'budget'] = 2 \n",
    "train.loc[train['id'] == 348,'budget'] = 12\n",
    "train.loc[train['id'] == 470,'budget'] = 13000000 \n",
    "train.loc[train['id'] == 513,'budget'] = 1100000\n",
    "train.loc[train['id'] == 640,'budget'] = 6 \n",
    "train.loc[train['id'] == 696,'budget'] = 1\n",
    "train.loc[train['id'] == 797,'budget'] = 8000000 \n",
    "train.loc[train['id'] == 850,'budget'] = 1500000\n",
    "train.loc[train['id'] == 1199,'budget'] = 5 \n",
    "train.loc[train['id'] == 1282,'budget'] = 9               # Death at a Funeral\n",
    "train.loc[train['id'] == 1347,'budget'] = 1\n",
    "train.loc[train['id'] == 1755,'budget'] = 2\n",
    "train.loc[train['id'] == 1801,'budget'] = 5\n",
    "train.loc[train['id'] == 1918,'budget'] = 592 \n",
    "train.loc[train['id'] == 2033,'budget'] = 4\n",
    "train.loc[train['id'] == 2118,'budget'] = 344 \n",
    "train.loc[train['id'] == 2252,'budget'] = 130\n",
    "train.loc[train['id'] == 2256,'budget'] = 1 \n",
    "train.loc[train['id'] == 2696,'budget'] = 10000000\n",
    "\n",
    "\n",
    "test.loc[test['id'] == 6733,'budget'] = 5000000\n",
    "test.loc[test['id'] == 3889,'budget'] = 15000000\n",
    "test.loc[test['id'] == 6683,'budget'] = 50000000\n",
    "test.loc[test['id'] == 5704,'budget'] = 4300000\n",
    "test.loc[test['id'] == 6109,'budget'] = 281756\n",
    "test.loc[test['id'] == 7242,'budget'] = 10000000\n",
    "test.loc[test['id'] == 7021,'budget'] = 17540562       #  Two Is a Family\n",
    "test.loc[test['id'] == 5591,'budget'] = 4000000        # The Orphanage\n",
    "test.loc[test['id'] == 4282,'budget'] = 20000000       # Big Top Pee-wee\n",
    "test.loc[test['id'] == 3033,'budget'] = 250 \n",
    "test.loc[test['id'] == 3051,'budget'] = 50\n",
    "test.loc[test['id'] == 3084,'budget'] = 337\n",
    "test.loc[test['id'] == 3224,'budget'] = 4  \n",
    "test.loc[test['id'] == 3594,'budget'] = 25  \n",
    "test.loc[test['id'] == 3619,'budget'] = 500  \n",
    "test.loc[test['id'] == 3831,'budget'] = 3  \n",
    "test.loc[test['id'] == 3935,'budget'] = 500  \n",
    "test.loc[test['id'] == 4049,'budget'] = 995946 \n",
    "test.loc[test['id'] == 4424,'budget'] = 3  \n",
    "test.loc[test['id'] == 4460,'budget'] = 8  \n",
    "test.loc[test['id'] == 4555,'budget'] = 1200000 \n",
    "test.loc[test['id'] == 4624,'budget'] = 30 \n",
    "test.loc[test['id'] == 4645,'budget'] = 500 \n",
    "test.loc[test['id'] == 4709,'budget'] = 450 \n",
    "test.loc[test['id'] == 4839,'budget'] = 7\n",
    "test.loc[test['id'] == 3125,'budget'] = 25 \n",
    "test.loc[test['id'] == 3142,'budget'] = 1\n",
    "test.loc[test['id'] == 3201,'budget'] = 450\n",
    "test.loc[test['id'] == 3222,'budget'] = 6\n",
    "test.loc[test['id'] == 3545,'budget'] = 38\n",
    "test.loc[test['id'] == 3670,'budget'] = 18\n",
    "test.loc[test['id'] == 3792,'budget'] = 19\n",
    "test.loc[test['id'] == 3881,'budget'] = 7\n",
    "test.loc[test['id'] == 3969,'budget'] = 400\n",
    "test.loc[test['id'] == 4196,'budget'] = 6\n",
    "test.loc[test['id'] == 4221,'budget'] = 11\n",
    "test.loc[test['id'] == 4222,'budget'] = 500\n",
    "test.loc[test['id'] == 4285,'budget'] = 11\n",
    "test.loc[test['id'] == 4319,'budget'] = 1\n",
    "test.loc[test['id'] == 4639,'budget'] = 10\n",
    "test.loc[test['id'] == 4719,'budget'] = 45\n",
    "test.loc[test['id'] == 4822,'budget'] = 22\n",
    "test.loc[test['id'] == 4829,'budget'] = 20\n",
    "test.loc[test['id'] == 4969,'budget'] = 20\n",
    "test.loc[test['id'] == 5021,'budget'] = 40 \n",
    "test.loc[test['id'] == 5035,'budget'] = 1 \n",
    "test.loc[test['id'] == 5063,'budget'] = 14 \n",
    "test.loc[test['id'] == 5119,'budget'] = 2 \n",
    "test.loc[test['id'] == 5214,'budget'] = 30 \n",
    "test.loc[test['id'] == 5221,'budget'] = 50 \n",
    "test.loc[test['id'] == 4903,'budget'] = 15\n",
    "test.loc[test['id'] == 4983,'budget'] = 3\n",
    "test.loc[test['id'] == 5102,'budget'] = 28\n",
    "test.loc[test['id'] == 5217,'budget'] = 75\n",
    "test.loc[test['id'] == 5224,'budget'] = 3 \n",
    "test.loc[test['id'] == 5469,'budget'] = 20 \n",
    "test.loc[test['id'] == 5840,'budget'] = 1 \n",
    "test.loc[test['id'] == 5960,'budget'] = 30\n",
    "test.loc[test['id'] == 6506,'budget'] = 11 \n",
    "test.loc[test['id'] == 6553,'budget'] = 280\n",
    "test.loc[test['id'] == 6561,'budget'] = 7\n",
    "test.loc[test['id'] == 6582,'budget'] = 218\n",
    "test.loc[test['id'] == 6638,'budget'] = 5\n",
    "test.loc[test['id'] == 6749,'budget'] = 8 \n",
    "test.loc[test['id'] == 6759,'budget'] = 50 \n",
    "test.loc[test['id'] == 6856,'budget'] = 10\n",
    "test.loc[test['id'] == 6858,'budget'] =  100\n",
    "test.loc[test['id'] == 6876,'budget'] =  250\n",
    "test.loc[test['id'] == 6972,'budget'] = 1\n",
    "test.loc[test['id'] == 7079,'budget'] = 8000000\n",
    "test.loc[test['id'] == 7150,'budget'] = 118\n",
    "test.loc[test['id'] == 6506,'budget'] = 118\n",
    "test.loc[test['id'] == 7225,'budget'] = 6\n",
    "test.loc[test['id'] == 7231,'budget'] = 85\n",
    "test.loc[test['id'] == 5222,'budget'] = 5\n",
    "test.loc[test['id'] == 5322,'budget'] = 90\n",
    "test.loc[test['id'] == 5350,'budget'] = 70\n",
    "test.loc[test['id'] == 5378,'budget'] = 10\n",
    "test.loc[test['id'] == 5545,'budget'] = 80\n",
    "test.loc[test['id'] == 5810,'budget'] = 8\n",
    "test.loc[test['id'] == 5926,'budget'] = 300\n",
    "test.loc[test['id'] == 5927,'budget'] = 4\n",
    "test.loc[test['id'] == 5986,'budget'] = 1\n",
    "test.loc[test['id'] == 6053,'budget'] = 20\n",
    "test.loc[test['id'] == 6104,'budget'] = 1\n",
    "test.loc[test['id'] == 6130,'budget'] = 30\n",
    "test.loc[test['id'] == 6301,'budget'] = 150\n",
    "test.loc[test['id'] == 6276,'budget'] = 100\n",
    "test.loc[test['id'] == 6473,'budget'] = 100\n",
    "test.loc[test['id'] == 6842,'budget'] = 30"
   ]
  },
  {
   "cell_type": "markdown",
   "id": "apart-lodge",
   "metadata": {
    "papermill": {
     "duration": 0.068225,
     "end_time": "2021-05-24T17:21:29.781312",
     "exception": false,
     "start_time": "2021-05-24T17:21:29.713087",
     "status": "completed"
    },
    "tags": []
   },
   "source": [
    "**Checking for null values for both train and test dataset**"
   ]
  },
  {
   "cell_type": "code",
   "execution_count": null,
   "id": "unlikely-hypothesis",
   "metadata": {
    "execution": {
     "iopub.execute_input": "2021-05-24T17:21:29.927640Z",
     "iopub.status.busy": "2021-05-24T17:21:29.926646Z",
     "iopub.status.idle": "2021-05-24T17:21:29.934150Z",
     "shell.execute_reply": "2021-05-24T17:21:29.933667Z",
     "shell.execute_reply.started": "2021-05-24T17:19:09.032316Z"
    },
    "papermill": {
     "duration": 0.085878,
     "end_time": "2021-05-24T17:21:29.934310",
     "exception": false,
     "start_time": "2021-05-24T17:21:29.848432",
     "status": "completed"
    },
    "tags": []
   },
   "outputs": [],
   "source": [
    "train.isna().sum()"
   ]
  },
  {
   "cell_type": "code",
   "execution_count": null,
   "id": "bigger-gravity",
   "metadata": {
    "execution": {
     "iopub.execute_input": "2021-05-24T17:21:30.084194Z",
     "iopub.status.busy": "2021-05-24T17:21:30.074818Z",
     "iopub.status.idle": "2021-05-24T17:21:30.092090Z",
     "shell.execute_reply": "2021-05-24T17:21:30.091608Z",
     "shell.execute_reply.started": "2021-05-24T17:19:09.047053Z"
    },
    "papermill": {
     "duration": 0.090344,
     "end_time": "2021-05-24T17:21:30.092250",
     "exception": false,
     "start_time": "2021-05-24T17:21:30.001906",
     "status": "completed"
    },
    "tags": []
   },
   "outputs": [],
   "source": [
    "test.isna().sum()"
   ]
  },
  {
   "cell_type": "markdown",
   "id": "suited-venture",
   "metadata": {
    "papermill": {
     "duration": 0.070522,
     "end_time": "2021-05-24T17:21:30.231262",
     "exception": false,
     "start_time": "2021-05-24T17:21:30.160740",
     "status": "completed"
    },
    "tags": []
   },
   "source": [
    "**Plotting the missing values to get a clear picture of how many variables have missing values"
   ]
  },
  {
   "cell_type": "code",
   "execution_count": null,
   "id": "initial-forty",
   "metadata": {
    "execution": {
     "iopub.execute_input": "2021-05-24T17:21:30.381523Z",
     "iopub.status.busy": "2021-05-24T17:21:30.380507Z",
     "iopub.status.idle": "2021-05-24T17:21:30.827465Z",
     "shell.execute_reply": "2021-05-24T17:21:30.827987Z",
     "shell.execute_reply.started": "2021-05-24T17:19:09.064868Z"
    },
    "papermill": {
     "duration": 0.528353,
     "end_time": "2021-05-24T17:21:30.828164",
     "exception": false,
     "start_time": "2021-05-24T17:21:30.299811",
     "status": "completed"
    },
    "tags": []
   },
   "outputs": [],
   "source": [
    "missing_values=train.isna().sum().sort_values(ascending=False)\n",
    "sns.barplot(missing_values[:10],missing_values[:10].index,palette=\"rocket\")\n",
    "plt.show()\n",
    "\n",
    "missing_values1=test.isna().sum().sort_values(ascending=False)\n",
    "sns.barplot(missing_values1[:10],missing_values1[:10].index,palette=\"rocket\")\n",
    "plt.show()"
   ]
  },
  {
   "cell_type": "markdown",
   "id": "romance-wrist",
   "metadata": {
    "papermill": {
     "duration": 0.071707,
     "end_time": "2021-05-24T17:21:30.969630",
     "exception": false,
     "start_time": "2021-05-24T17:21:30.897923",
     "status": "completed"
    },
    "tags": []
   },
   "source": [
    "**Mapping the plot for the number of non missing values "
   ]
  },
  {
   "cell_type": "code",
   "execution_count": null,
   "id": "aboriginal-hobby",
   "metadata": {
    "execution": {
     "iopub.execute_input": "2021-05-24T17:21:31.123483Z",
     "iopub.status.busy": "2021-05-24T17:21:31.122529Z",
     "iopub.status.idle": "2021-05-24T17:21:34.005699Z",
     "shell.execute_reply": "2021-05-24T17:21:34.005126Z",
     "shell.execute_reply.started": "2021-05-24T17:19:09.569263Z"
    },
    "papermill": {
     "duration": 2.965333,
     "end_time": "2021-05-24T17:21:34.005842",
     "exception": false,
     "start_time": "2021-05-24T17:21:31.040509",
     "status": "completed"
    },
    "tags": []
   },
   "outputs": [],
   "source": [
    "msngno.bar(train)"
   ]
  },
  {
   "cell_type": "markdown",
   "id": "nervous-palmer",
   "metadata": {
    "papermill": {
     "duration": 0.073512,
     "end_time": "2021-05-24T17:21:34.152608",
     "exception": false,
     "start_time": "2021-05-24T17:21:34.079096",
     "status": "completed"
    },
    "tags": []
   },
   "source": [
    "**Visualising correlation between missing values in different columns\n",
    "(might be missing values in the same row)"
   ]
  },
  {
   "cell_type": "code",
   "execution_count": null,
   "id": "regulated-broadcast",
   "metadata": {
    "execution": {
     "iopub.execute_input": "2021-05-24T17:21:34.310106Z",
     "iopub.status.busy": "2021-05-24T17:21:34.309112Z",
     "iopub.status.idle": "2021-05-24T17:21:35.327464Z",
     "shell.execute_reply": "2021-05-24T17:21:35.327916Z",
     "shell.execute_reply.started": "2021-05-24T17:19:11.835960Z"
    },
    "papermill": {
     "duration": 1.10227,
     "end_time": "2021-05-24T17:21:35.328096",
     "exception": false,
     "start_time": "2021-05-24T17:21:34.225826",
     "status": "completed"
    },
    "tags": []
   },
   "outputs": [],
   "source": [
    "msngno.heatmap(train)"
   ]
  },
  {
   "cell_type": "code",
   "execution_count": null,
   "id": "needed-thought",
   "metadata": {
    "execution": {
     "iopub.execute_input": "2021-05-24T17:21:35.492266Z",
     "iopub.status.busy": "2021-05-24T17:21:35.491114Z",
     "iopub.status.idle": "2021-05-24T17:21:35.529037Z",
     "shell.execute_reply": "2021-05-24T17:21:35.529619Z",
     "shell.execute_reply.started": "2021-05-24T17:19:12.710659Z"
    },
    "papermill": {
     "duration": 0.125109,
     "end_time": "2021-05-24T17:21:35.529800",
     "exception": false,
     "start_time": "2021-05-24T17:21:35.404691",
     "status": "completed"
    },
    "tags": []
   },
   "outputs": [],
   "source": [
    "train.describe()"
   ]
  },
  {
   "cell_type": "markdown",
   "id": "widespread-clarity",
   "metadata": {
    "papermill": {
     "duration": 0.076509,
     "end_time": "2021-05-24T17:21:35.691128",
     "exception": false,
     "start_time": "2021-05-24T17:21:35.614619",
     "status": "completed"
    },
    "tags": []
   },
   "source": [
    "**Various columns in the are in JSON format, converting it to dictionary"
   ]
  },
  {
   "cell_type": "code",
   "execution_count": null,
   "id": "indoor-castle",
   "metadata": {
    "execution": {
     "iopub.execute_input": "2021-05-24T17:21:35.885342Z",
     "iopub.status.busy": "2021-05-24T17:21:35.880178Z",
     "iopub.status.idle": "2021-05-24T17:21:48.931442Z",
     "shell.execute_reply": "2021-05-24T17:21:48.930913Z",
     "shell.execute_reply.started": "2021-05-24T17:19:12.748358Z"
    },
    "papermill": {
     "duration": 13.16333,
     "end_time": "2021-05-24T17:21:48.931591",
     "exception": false,
     "start_time": "2021-05-24T17:21:35.768261",
     "status": "completed"
    },
    "tags": []
   },
   "outputs": [],
   "source": [
    "dict_columns = ['belongs_to_collection', 'genres', 'production_companies',\n",
    "                'production_countries', 'spoken_languages', 'Keywords', 'cast', 'crew']\n",
    "\n",
    "def text_to_dict(df):\n",
    "    for column in dict_columns:\n",
    "        df[column] = df[column].apply(lambda x: {} if pd.isna(x) else ast.literal_eval(x) )\n",
    "    return df\n",
    "        \n",
    "train = text_to_dict(train)\n",
    "test = text_to_dict(test)"
   ]
  },
  {
   "cell_type": "markdown",
   "id": "creative-challenge",
   "metadata": {
    "papermill": {
     "duration": 0.081464,
     "end_time": "2021-05-24T17:21:49.090171",
     "exception": false,
     "start_time": "2021-05-24T17:21:49.008707",
     "status": "completed"
    },
    "tags": []
   },
   "source": [
    "**List out the different values in the columns\n",
    "These columns were all in JSON format and to have a clear picture I needed to look through the details of what information each column has that will be used for our modelling phase"
   ]
  },
  {
   "cell_type": "code",
   "execution_count": null,
   "id": "disabled-workstation",
   "metadata": {
    "execution": {
     "iopub.execute_input": "2021-05-24T17:21:49.265768Z",
     "iopub.status.busy": "2021-05-24T17:21:49.264441Z",
     "iopub.status.idle": "2021-05-24T17:21:49.273178Z",
     "shell.execute_reply": "2021-05-24T17:21:49.273941Z",
     "shell.execute_reply.started": "2021-05-24T17:19:24.447675Z"
    },
    "papermill": {
     "duration": 0.10333,
     "end_time": "2021-05-24T17:21:49.274149",
     "exception": false,
     "start_time": "2021-05-24T17:21:49.170819",
     "status": "completed"
    },
    "tags": []
   },
   "outputs": [],
   "source": [
    "for count,value in enumerate(train['belongs_to_collection'][:2]):\n",
    "    print(count,value)\n",
    "\n",
    "for count,value in enumerate(test['genres'][:2]):\n",
    "    print(count,value)\n",
    "    \n",
    "for count,value in enumerate(train['genres'][:2]):\n",
    "    print(count,value)\n",
    "    \n",
    "for count,value in enumerate(train['spoken_languages'][:2]):\n",
    "    print(count,value)\n",
    "    \n",
    "for count,value in enumerate(train['Keywords'][:2]):\n",
    "    print(count,value)\n",
    "    \n",
    "for count,value in enumerate(train['production_countries'][:2]):\n",
    "    print(count,value)\n",
    "    \n",
    "for count,value in enumerate(train['production_companies'][:2]):\n",
    "    print(count,value)\n",
    "    \n",
    "for count,value in enumerate(train['cast'][:2]):\n",
    "    print(count,value)\n",
    "    \n",
    "for count,value in enumerate(train['crew'][:2]):\n",
    "    print(count,value)"
   ]
  },
  {
   "cell_type": "markdown",
   "id": "agricultural-status",
   "metadata": {
    "papermill": {
     "duration": 0.078385,
     "end_time": "2021-05-24T17:21:49.430037",
     "exception": false,
     "start_time": "2021-05-24T17:21:49.351652",
     "status": "completed"
    },
    "tags": []
   },
   "source": [
    "**The release date column was in an unstructured format and to analyse the data and it's features, I have dissolved the column in three seperate columns giving the year,month and day respectively."
   ]
  },
  {
   "cell_type": "code",
   "execution_count": null,
   "id": "improving-conversation",
   "metadata": {
    "execution": {
     "iopub.execute_input": "2021-05-24T17:21:49.647137Z",
     "iopub.status.busy": "2021-05-24T17:21:49.611085Z",
     "iopub.status.idle": "2021-05-24T17:21:51.385719Z",
     "shell.execute_reply": "2021-05-24T17:21:51.386287Z",
     "shell.execute_reply.started": "2021-05-24T17:19:24.466460Z"
    },
    "papermill": {
     "duration": 1.877317,
     "end_time": "2021-05-24T17:21:51.386473",
     "exception": false,
     "start_time": "2021-05-24T17:21:49.509156",
     "status": "completed"
    },
    "tags": []
   },
   "outputs": [],
   "source": [
    "train['release_year']=pd.to_datetime(train['release_date']).dt.year\n",
    "train['release_month']=pd.to_datetime(train['release_date']).dt.month\n",
    "train['release_day']=pd.to_datetime(train['release_date']).dt.dayofweek\n",
    "\n",
    "\n",
    "test['release_year']=pd.to_datetime(test['release_date']).dt.year\n",
    "test['release_month']=pd.to_datetime(test['release_date']).dt.month\n",
    "test['release_day']=pd.to_datetime(test['release_date']).dt.dayofweek\n"
   ]
  },
  {
   "cell_type": "markdown",
   "id": "charming-montgomery",
   "metadata": {
    "papermill": {
     "duration": 0.079755,
     "end_time": "2021-05-24T17:21:51.544167",
     "exception": false,
     "start_time": "2021-05-24T17:21:51.464412",
     "status": "completed"
    },
    "tags": []
   },
   "source": [
    "**Imputing the missing values for Rating, TotalVotes, and Runtime by the average values in the dataset\n",
    "NOTE: The votes can't be in decimal hence I have rounded it upto the nearest integer."
   ]
  },
  {
   "cell_type": "code",
   "execution_count": null,
   "id": "alternative-capacity",
   "metadata": {
    "execution": {
     "iopub.execute_input": "2021-05-24T17:21:51.710962Z",
     "iopub.status.busy": "2021-05-24T17:21:51.709914Z",
     "iopub.status.idle": "2021-05-24T17:21:51.718589Z",
     "shell.execute_reply": "2021-05-24T17:21:51.718054Z",
     "shell.execute_reply.started": "2021-05-24T17:19:25.792053Z"
    },
    "papermill": {
     "duration": 0.094679,
     "end_time": "2021-05-24T17:21:51.718735",
     "exception": false,
     "start_time": "2021-05-24T17:21:51.624056",
     "status": "completed"
    },
    "tags": []
   },
   "outputs": [],
   "source": [
    "train['rating']=train['rating'].fillna(train['rating'].mean())\n",
    "test['rating']=test['rating'].fillna(test['rating'].mean())\n",
    "\n",
    "train['totalVotes']=train['totalVotes'].fillna(train['totalVotes'].mean())\n",
    "train['totalVotes']=train['totalVotes'].round()\n",
    "test['totalVotes']=test['totalVotes'].fillna(test['totalVotes'].mean())\n",
    "test['totalVotes']=test['totalVotes'].round()\n",
    "\n",
    "train['runtime']=train['runtime'].fillna(train['runtime'].mean())\n",
    "test['runtime']=test['runtime'].fillna(test['runtime'].mean())"
   ]
  },
  {
   "cell_type": "code",
   "execution_count": null,
   "id": "associate-paraguay",
   "metadata": {
    "execution": {
     "iopub.execute_input": "2021-05-24T17:21:51.908809Z",
     "iopub.status.busy": "2021-05-24T17:21:51.884007Z",
     "iopub.status.idle": "2021-05-24T17:21:52.062388Z",
     "shell.execute_reply": "2021-05-24T17:21:52.062934Z",
     "shell.execute_reply.started": "2021-05-24T17:19:25.805092Z"
    },
    "papermill": {
     "duration": 0.266509,
     "end_time": "2021-05-24T17:21:52.063117",
     "exception": false,
     "start_time": "2021-05-24T17:21:51.796608",
     "status": "completed"
    },
    "tags": []
   },
   "outputs": [],
   "source": [
    "train.head()"
   ]
  },
  {
   "cell_type": "markdown",
   "id": "thirty-secretary",
   "metadata": {
    "papermill": {
     "duration": 0.078658,
     "end_time": "2021-05-24T17:21:52.227135",
     "exception": false,
     "start_time": "2021-05-24T17:21:52.148477",
     "status": "completed"
    },
    "tags": []
   },
   "source": [
    "**Extracting the required data from the converted dictionary columns "
   ]
  },
  {
   "cell_type": "code",
   "execution_count": null,
   "id": "concrete-tomato",
   "metadata": {
    "execution": {
     "iopub.execute_input": "2021-05-24T17:21:52.417092Z",
     "iopub.status.busy": "2021-05-24T17:21:52.415517Z",
     "iopub.status.idle": "2021-05-24T17:21:52.420530Z",
     "shell.execute_reply": "2021-05-24T17:21:52.419972Z",
     "shell.execute_reply.started": "2021-05-24T17:19:25.954890Z"
    },
    "papermill": {
     "duration": 0.111576,
     "end_time": "2021-05-24T17:21:52.420684",
     "exception": false,
     "start_time": "2021-05-24T17:21:52.309108",
     "status": "completed"
    },
    "tags": []
   },
   "outputs": [],
   "source": [
    "train['numberofgenres']=train['genres'].apply(lambda x: len(x) if x != {} else 0)\n",
    "train['nameofcollection'] = train['belongs_to_collection'].apply(lambda x: x[0]['name'] if x != {} else 0)\n",
    "train['genres_info'] = train['genres'].apply(lambda x: x[0]['name'] if x != {} else 0)\n",
    "train['language'] = train['spoken_languages'].apply(lambda x: x[0]['name'] if x != {} else 0)\n",
    "train['production_country'] = train['production_countries'].apply(lambda x: x[0]['name'] if x != {} else 0)\n",
    "train['production_company'] = train['production_companies'].apply(lambda x: x[0]['name'] if x != {} else 0)"
   ]
  },
  {
   "cell_type": "code",
   "execution_count": null,
   "id": "animated-protein",
   "metadata": {
    "execution": {
     "iopub.execute_input": "2021-05-24T17:21:52.592311Z",
     "iopub.status.busy": "2021-05-24T17:21:52.591274Z",
     "iopub.status.idle": "2021-05-24T17:21:52.614255Z",
     "shell.execute_reply": "2021-05-24T17:21:52.613724Z",
     "shell.execute_reply.started": "2021-05-24T17:19:25.978017Z"
    },
    "papermill": {
     "duration": 0.114251,
     "end_time": "2021-05-24T17:21:52.614417",
     "exception": false,
     "start_time": "2021-05-24T17:21:52.500166",
     "status": "completed"
    },
    "tags": []
   },
   "outputs": [],
   "source": [
    "test['numberofgenres']=train['genres'].apply(lambda x: len(x) if x != {} else 0)\n",
    "test['numberofgenres']=test['numberofgenres'].replace(np.nan,0)\n",
    "test['nameofcollection'] = test['belongs_to_collection'].apply(lambda x: x[0]['name'] if x != {} else 0)\n",
    "test['genres_info'] = test['genres'].apply(lambda x: x[0]['name'] if x != {} else 0)\n",
    "test['language'] = test['spoken_languages'].apply(lambda x: x[0]['name'] if x != {} else 0)\n",
    "test['production_country'] = test['production_countries'].apply(lambda x: x[0]['name'] if x != {} else 0)\n",
    "test['production_company'] = test['production_companies'].apply(lambda x: x[0]['name'] if x != {} else 0)"
   ]
  },
  {
   "cell_type": "markdown",
   "id": "random-arrival",
   "metadata": {
    "papermill": {
     "duration": 0.079296,
     "end_time": "2021-05-24T17:21:52.773292",
     "exception": false,
     "start_time": "2021-05-24T17:21:52.693996",
     "status": "completed"
    },
    "tags": []
   },
   "source": [
    "**Exploring skewness of the Budget"
   ]
  },
  {
   "cell_type": "code",
   "execution_count": null,
   "id": "plastic-morning",
   "metadata": {
    "execution": {
     "iopub.execute_input": "2021-05-24T17:21:52.946230Z",
     "iopub.status.busy": "2021-05-24T17:21:52.945271Z",
     "iopub.status.idle": "2021-05-24T17:21:53.421621Z",
     "shell.execute_reply": "2021-05-24T17:21:53.422101Z",
     "shell.execute_reply.started": "2021-05-24T17:19:26.009758Z"
    },
    "papermill": {
     "duration": 0.569505,
     "end_time": "2021-05-24T17:21:53.422295",
     "exception": false,
     "start_time": "2021-05-24T17:21:52.852790",
     "status": "completed"
    },
    "tags": []
   },
   "outputs": [],
   "source": [
    "train = train.astype({\"budget\":'Int32',})\n",
    "fig, ax = plt.subplots(1,2,figsize=(12,5))\n",
    "sns.distplot(train['budget'],ax=ax[0],color='black')\n",
    "sns.distplot(np.log1p(train['budget']),ax=ax[1],color='black')\n"
   ]
  },
  {
   "cell_type": "markdown",
   "id": "ongoing-hypothesis",
   "metadata": {
    "papermill": {
     "duration": 0.080411,
     "end_time": "2021-05-24T17:21:53.583322",
     "exception": false,
     "start_time": "2021-05-24T17:21:53.502911",
     "status": "completed"
    },
    "tags": []
   },
   "source": [
    "**Exploring the skewness of the target variable \"Revenue\""
   ]
  },
  {
   "cell_type": "code",
   "execution_count": null,
   "id": "suitable-production",
   "metadata": {
    "execution": {
     "iopub.execute_input": "2021-05-24T17:21:53.768299Z",
     "iopub.status.busy": "2021-05-24T17:21:53.767160Z",
     "iopub.status.idle": "2021-05-24T17:21:54.301342Z",
     "shell.execute_reply": "2021-05-24T17:21:54.300781Z",
     "shell.execute_reply.started": "2021-05-24T17:19:26.382611Z"
    },
    "papermill": {
     "duration": 0.637763,
     "end_time": "2021-05-24T17:21:54.301488",
     "exception": false,
     "start_time": "2021-05-24T17:21:53.663725",
     "status": "completed"
    },
    "tags": []
   },
   "outputs": [],
   "source": [
    "fig, ax = plt.subplots(1,2,figsize=(12,5))\n",
    "sns.distplot(train['revenue'],ax=ax[0],color='black')\n",
    "sns.distplot(np.log(train['revenue']),ax=ax[1],color='black')\n"
   ]
  },
  {
   "cell_type": "markdown",
   "id": "renewable-adjustment",
   "metadata": {
    "papermill": {
     "duration": 0.086531,
     "end_time": "2021-05-24T17:21:54.469959",
     "exception": false,
     "start_time": "2021-05-24T17:21:54.383428",
     "status": "completed"
    },
    "tags": []
   },
   "source": [
    "**Feature Engineering (Test and Train)"
   ]
  },
  {
   "cell_type": "code",
   "execution_count": null,
   "id": "urban-norman",
   "metadata": {
    "execution": {
     "iopub.execute_input": "2021-05-24T17:21:54.645815Z",
     "iopub.status.busy": "2021-05-24T17:21:54.644988Z",
     "iopub.status.idle": "2021-05-24T17:21:54.656607Z",
     "shell.execute_reply": "2021-05-24T17:21:54.656075Z",
     "shell.execute_reply.started": "2021-05-24T17:19:26.822956Z"
    },
    "papermill": {
     "duration": 0.103915,
     "end_time": "2021-05-24T17:21:54.656755",
     "exception": false,
     "start_time": "2021-05-24T17:21:54.552840",
     "status": "completed"
    },
    "tags": []
   },
   "outputs": [],
   "source": [
    "train['lang_english']=0\n",
    "train.loc[train['original_language'].astype(str)==\"en\",\"lang_english\"]=1\n",
    "\n",
    "train['bud_runtime']=(train['budget']+1)/(train['runtime']+1)\n",
    "\n",
    "train['bud_year']=(train['budget']+1)/(train['release_year']+1)\n",
    "\n",
    "train['bud_popularity']=(train['budget']+1)/(train['popularity']+1)\n",
    "\n",
    "train['runtime_year']=(train['runtime']+1)/(train['release_year']+1)\n",
    "\n",
    "train['popularity_year']=(train['popularity']+1)/(train['release_year']+1)"
   ]
  },
  {
   "cell_type": "code",
   "execution_count": null,
   "id": "funny-intervention",
   "metadata": {
    "execution": {
     "iopub.execute_input": "2021-05-24T17:21:54.836854Z",
     "iopub.status.busy": "2021-05-24T17:21:54.835749Z",
     "iopub.status.idle": "2021-05-24T17:21:54.850664Z",
     "shell.execute_reply": "2021-05-24T17:21:54.850113Z",
     "shell.execute_reply.started": "2021-05-24T17:19:26.841268Z"
    },
    "papermill": {
     "duration": 0.107359,
     "end_time": "2021-05-24T17:21:54.850813",
     "exception": false,
     "start_time": "2021-05-24T17:21:54.743454",
     "status": "completed"
    },
    "tags": []
   },
   "outputs": [],
   "source": [
    "test['lang_english']=0\n",
    "test.loc[test['original_language'].astype(str)==\"en\",\"lang_english\"]=1\n",
    "\n",
    "test['bud_runtime']=(test['budget']+1)/(test['runtime']+1)\n",
    "\n",
    "test['bud_year']=(test['budget']+1)/(test['release_year']+1)\n",
    "\n",
    "test['bud_popularity']=(test['budget']+1)/(test['popularity']+1)\n",
    "\n",
    "test['runtime_year']=(test['runtime']+1)/(test['release_year']+1)\n",
    "\n",
    "test['popularity_year']=(test['popularity']+1)/(test['release_year']+1)"
   ]
  },
  {
   "cell_type": "markdown",
   "id": "adaptive-gallery",
   "metadata": {
    "papermill": {
     "duration": 0.081834,
     "end_time": "2021-05-24T17:21:55.014629",
     "exception": false,
     "start_time": "2021-05-24T17:21:54.932795",
     "status": "completed"
    },
    "tags": []
   },
   "source": [
    "**Encoding of some variables as per our requirement (Train and Test)"
   ]
  },
  {
   "cell_type": "code",
   "execution_count": null,
   "id": "hindu-alpha",
   "metadata": {
    "execution": {
     "iopub.execute_input": "2021-05-24T17:21:55.201390Z",
     "iopub.status.busy": "2021-05-24T17:21:55.200357Z",
     "iopub.status.idle": "2021-05-24T17:21:55.218727Z",
     "shell.execute_reply": "2021-05-24T17:21:55.218105Z",
     "shell.execute_reply.started": "2021-05-24T17:19:26.866937Z"
    },
    "papermill": {
     "duration": 0.111993,
     "end_time": "2021-05-24T17:21:55.218868",
     "exception": false,
     "start_time": "2021-05-24T17:21:55.106875",
     "status": "completed"
    },
    "tags": []
   },
   "outputs": [],
   "source": [
    "train['homepage'] = train['homepage'].fillna(0)\n",
    "train['homepage'] = train['homepage'].apply(lambda x: 0 if x==0 else 1)\n",
    "\n",
    "train['overview'] = train['overview'].fillna(0)\n",
    "train['overview'] = train['overview'].apply(lambda x: 0 if x==0 else 1)\n",
    "\n",
    "train['poster_path'] = train['poster_path'].fillna(0)\n",
    "train['poster_path'] = train['poster_path'].apply(lambda x: 0 if x==0 else 1)\n",
    "\n",
    "train['tagline'] = train['tagline'].fillna(0)\n",
    "train['tagline'] = train['tagline'].apply(lambda x: 0 if x==0 else 1)\n"
   ]
  },
  {
   "cell_type": "code",
   "execution_count": null,
   "id": "electric-viking",
   "metadata": {
    "execution": {
     "iopub.execute_input": "2021-05-24T17:21:55.406050Z",
     "iopub.status.busy": "2021-05-24T17:21:55.404979Z",
     "iopub.status.idle": "2021-05-24T17:21:55.424099Z",
     "shell.execute_reply": "2021-05-24T17:21:55.424573Z",
     "shell.execute_reply.started": "2021-05-24T17:19:26.890949Z"
    },
    "papermill": {
     "duration": 0.122798,
     "end_time": "2021-05-24T17:21:55.424753",
     "exception": false,
     "start_time": "2021-05-24T17:21:55.301955",
     "status": "completed"
    },
    "tags": []
   },
   "outputs": [],
   "source": [
    "test['homepage'] = test['homepage'].fillna(0)\n",
    "test['homepage'] = test['homepage'].apply(lambda x: 0 if x==0 else 1)\n",
    "\n",
    "test['overview'] = test['overview'].fillna(0)\n",
    "test['overview'] = test['overview'].apply(lambda x: 0 if x==0 else 1)\n",
    "\n",
    "test['poster_path'] = test['overview'].fillna(0)\n",
    "test['poster_path'] = test['poster_path'].apply(lambda x: 0 if x==0 else 1)\n",
    "\n",
    "test['tagline'] = test['tagline'].fillna(0)\n",
    "test['tagline'] = test['tagline'].apply(lambda x: 0 if x==0 else 1)"
   ]
  },
  {
   "cell_type": "code",
   "execution_count": null,
   "id": "unable-finance",
   "metadata": {
    "execution": {
     "iopub.execute_input": "2021-05-24T17:21:55.600814Z",
     "iopub.status.busy": "2021-05-24T17:21:55.599835Z",
     "iopub.status.idle": "2021-05-24T17:21:55.608072Z",
     "shell.execute_reply": "2021-05-24T17:21:55.607581Z",
     "shell.execute_reply.started": "2021-05-24T17:19:26.921416Z"
    },
    "papermill": {
     "duration": 0.101551,
     "end_time": "2021-05-24T17:21:55.608230",
     "exception": false,
     "start_time": "2021-05-24T17:21:55.506679",
     "status": "completed"
    },
    "tags": []
   },
   "outputs": [],
   "source": [
    "train.isna().sum()"
   ]
  },
  {
   "cell_type": "code",
   "execution_count": null,
   "id": "vulnerable-burton",
   "metadata": {
    "execution": {
     "iopub.execute_input": "2021-05-24T17:21:55.788765Z",
     "iopub.status.busy": "2021-05-24T17:21:55.787787Z",
     "iopub.status.idle": "2021-05-24T17:21:55.796324Z",
     "shell.execute_reply": "2021-05-24T17:21:55.795770Z",
     "shell.execute_reply.started": "2021-05-24T17:19:26.938893Z"
    },
    "papermill": {
     "duration": 0.106703,
     "end_time": "2021-05-24T17:21:55.796467",
     "exception": false,
     "start_time": "2021-05-24T17:21:55.689764",
     "status": "completed"
    },
    "tags": []
   },
   "outputs": [],
   "source": [
    "test.isna().sum()"
   ]
  },
  {
   "cell_type": "markdown",
   "id": "instructional-domain",
   "metadata": {
    "papermill": {
     "duration": 0.08195,
     "end_time": "2021-05-24T17:21:55.961471",
     "exception": false,
     "start_time": "2021-05-24T17:21:55.879521",
     "status": "completed"
    },
    "tags": []
   },
   "source": [
    "**There were few missing values in the test as seen above in the dates section\n",
    "Imputing year,month and day by the Mode and the continuous variables by the Mean"
   ]
  },
  {
   "cell_type": "code",
   "execution_count": null,
   "id": "fifth-tragedy",
   "metadata": {
    "execution": {
     "iopub.execute_input": "2021-05-24T17:21:56.134536Z",
     "iopub.status.busy": "2021-05-24T17:21:56.133508Z",
     "iopub.status.idle": "2021-05-24T17:21:56.140947Z",
     "shell.execute_reply": "2021-05-24T17:21:56.141479Z",
     "shell.execute_reply.started": "2021-05-24T17:19:26.958446Z"
    },
    "papermill": {
     "duration": 0.098059,
     "end_time": "2021-05-24T17:21:56.141658",
     "exception": false,
     "start_time": "2021-05-24T17:21:56.043599",
     "status": "completed"
    },
    "tags": []
   },
   "outputs": [],
   "source": [
    "test['release_year']=test['release_year'].fillna(test['release_year'].mode()[0])\n",
    "test['release_month']=test['release_month'].fillna(test['release_month'].mode()[0])\n",
    "test['release_day']=test['release_day'].fillna(test['release_day'].mode()[0])\n",
    "\n",
    "test['bud_year']=test['bud_year'].fillna(test['bud_year'].mean())\n",
    "\n",
    "test['popularity_year']=test['popularity_year'].fillna(test['popularity_year'].mean())\n",
    "\n",
    "test['runtime_year']=test['runtime_year'].fillna(test['runtime_year'].mean())"
   ]
  },
  {
   "cell_type": "markdown",
   "id": "quality-george",
   "metadata": {
    "papermill": {
     "duration": 0.085661,
     "end_time": "2021-05-24T17:21:56.311514",
     "exception": false,
     "start_time": "2021-05-24T17:21:56.225853",
     "status": "completed"
    },
    "tags": []
   },
   "source": [
    "**Release Year VS Revenue"
   ]
  },
  {
   "cell_type": "code",
   "execution_count": null,
   "id": "addressed-teddy",
   "metadata": {
    "execution": {
     "iopub.execute_input": "2021-05-24T17:21:56.486060Z",
     "iopub.status.busy": "2021-05-24T17:21:56.484913Z",
     "iopub.status.idle": "2021-05-24T17:21:56.661478Z",
     "shell.execute_reply": "2021-05-24T17:21:56.661971Z",
     "shell.execute_reply.started": "2021-05-24T17:19:26.971921Z"
    },
    "papermill": {
     "duration": 0.266768,
     "end_time": "2021-05-24T17:21:56.662143",
     "exception": false,
     "start_time": "2021-05-24T17:21:56.395375",
     "status": "completed"
    },
    "tags": []
   },
   "outputs": [],
   "source": [
    "train.groupby('release_year')['revenue'].mean().plot(color='black')\n",
    "plt.xlabel('Release_year',fontsize = 10)\n",
    "plt.ylabel('Revenue',fontsize = 10);\n",
    "plt.title(\"Release Year vs Revenue\")"
   ]
  },
  {
   "cell_type": "markdown",
   "id": "injured-parliament",
   "metadata": {
    "papermill": {
     "duration": 0.146721,
     "end_time": "2021-05-24T17:21:56.893220",
     "exception": false,
     "start_time": "2021-05-24T17:21:56.746499",
     "status": "completed"
    },
    "tags": []
   },
   "source": [
    "**We have revenue for the movies upto 2060!! Fishy :)"
   ]
  },
  {
   "cell_type": "code",
   "execution_count": null,
   "id": "otherwise-cologne",
   "metadata": {
    "execution": {
     "iopub.execute_input": "2021-05-24T17:21:57.203733Z",
     "iopub.status.busy": "2021-05-24T17:21:57.202720Z",
     "iopub.status.idle": "2021-05-24T17:21:57.213063Z",
     "shell.execute_reply": "2021-05-24T17:21:57.214320Z",
     "shell.execute_reply.started": "2021-05-24T17:19:27.112813Z"
    },
    "papermill": {
     "duration": 0.178356,
     "end_time": "2021-05-24T17:21:57.214652",
     "exception": false,
     "start_time": "2021-05-24T17:21:57.036296",
     "status": "completed"
    },
    "tags": []
   },
   "outputs": [],
   "source": [
    "train =train.loc[(train['release_year']<=2020)]"
   ]
  },
  {
   "cell_type": "code",
   "execution_count": null,
   "id": "electric-intermediate",
   "metadata": {
    "execution": {
     "iopub.execute_input": "2021-05-24T17:21:57.532806Z",
     "iopub.status.busy": "2021-05-24T17:21:57.531797Z",
     "iopub.status.idle": "2021-05-24T17:21:57.842974Z",
     "shell.execute_reply": "2021-05-24T17:21:57.844342Z",
     "shell.execute_reply.started": "2021-05-24T17:19:27.129173Z"
    },
    "papermill": {
     "duration": 0.465511,
     "end_time": "2021-05-24T17:21:57.844594",
     "exception": false,
     "start_time": "2021-05-24T17:21:57.379083",
     "status": "completed"
    },
    "tags": []
   },
   "outputs": [],
   "source": [
    "train.groupby('release_year')['revenue'].mean().plot(color='black')\n",
    "plt.xticks(np.arange(1970,2020,4),rotation=45)\n",
    "plt.xlabel('Release_year',fontsize = 10)\n",
    "plt.ylabel('Revenue',fontsize = 10);\n",
    "plt.title(\"Release Year vs Revenue\")"
   ]
  },
  {
   "cell_type": "markdown",
   "id": "middle-mother",
   "metadata": {
    "papermill": {
     "duration": 0.117129,
     "end_time": "2021-05-24T17:21:58.119232",
     "exception": false,
     "start_time": "2021-05-24T17:21:58.002103",
     "status": "completed"
    },
    "tags": []
   },
   "source": [
    "**Release Month VS Revenue"
   ]
  },
  {
   "cell_type": "code",
   "execution_count": null,
   "id": "motivated-third",
   "metadata": {
    "execution": {
     "iopub.execute_input": "2021-05-24T17:21:58.300538Z",
     "iopub.status.busy": "2021-05-24T17:21:58.299329Z",
     "iopub.status.idle": "2021-05-24T17:21:58.458102Z",
     "shell.execute_reply": "2021-05-24T17:21:58.458620Z",
     "shell.execute_reply.started": "2021-05-24T17:19:27.295047Z"
    },
    "papermill": {
     "duration": 0.254364,
     "end_time": "2021-05-24T17:21:58.458788",
     "exception": false,
     "start_time": "2021-05-24T17:21:58.204424",
     "status": "completed"
    },
    "tags": []
   },
   "outputs": [],
   "source": [
    "train.groupby('release_month')['revenue'].mean().plot(color='black')\n",
    "plt.xlabel('Release_month',fontsize = 10)\n",
    "plt.ylabel('Revenue',fontsize = 10)\n",
    "plt.title(\"Release Month vs Revenue\")"
   ]
  },
  {
   "cell_type": "markdown",
   "id": "whole-river",
   "metadata": {
    "papermill": {
     "duration": 0.086197,
     "end_time": "2021-05-24T17:21:58.632790",
     "exception": false,
     "start_time": "2021-05-24T17:21:58.546593",
     "status": "completed"
    },
    "tags": []
   },
   "source": [
    "**Release Day VS Revenue"
   ]
  },
  {
   "cell_type": "code",
   "execution_count": null,
   "id": "intended-jefferson",
   "metadata": {
    "execution": {
     "iopub.execute_input": "2021-05-24T17:21:58.815967Z",
     "iopub.status.busy": "2021-05-24T17:21:58.814886Z",
     "iopub.status.idle": "2021-05-24T17:21:58.988194Z",
     "shell.execute_reply": "2021-05-24T17:21:58.988646Z",
     "shell.execute_reply.started": "2021-05-24T17:19:27.427298Z"
    },
    "papermill": {
     "duration": 0.269603,
     "end_time": "2021-05-24T17:21:58.988825",
     "exception": false,
     "start_time": "2021-05-24T17:21:58.719222",
     "status": "completed"
    },
    "tags": []
   },
   "outputs": [],
   "source": [
    "train.groupby('release_day')['revenue'].mean().plot(color='black')\n",
    "plt.xlabel('Release_day',fontsize = 10)\n",
    "plt.ylabel('Revenue',fontsize = 10)\n",
    "plt.title(\"Release Day vs Revenue\")"
   ]
  },
  {
   "cell_type": "markdown",
   "id": "hungry-stereo",
   "metadata": {
    "papermill": {
     "duration": 0.086995,
     "end_time": "2021-05-24T17:21:59.162165",
     "exception": false,
     "start_time": "2021-05-24T17:21:59.075170",
     "status": "completed"
    },
    "tags": []
   },
   "source": [
    "**Movie Released VS Year"
   ]
  },
  {
   "cell_type": "code",
   "execution_count": null,
   "id": "dated-dance",
   "metadata": {
    "execution": {
     "iopub.execute_input": "2021-05-24T17:21:59.349735Z",
     "iopub.status.busy": "2021-05-24T17:21:59.348716Z",
     "iopub.status.idle": "2021-05-24T17:21:59.962820Z",
     "shell.execute_reply": "2021-05-24T17:21:59.963290Z",
     "shell.execute_reply.started": "2021-05-24T17:19:27.587814Z"
    },
    "papermill": {
     "duration": 0.712272,
     "end_time": "2021-05-24T17:21:59.963455",
     "exception": false,
     "start_time": "2021-05-24T17:21:59.251183",
     "status": "completed"
    },
    "tags": []
   },
   "outputs": [],
   "source": [
    "plt.figure(figsize=(20,10))\n",
    "sns.countplot(x='release_year',data=train,palette=\"rocket\")\n",
    "plt.title(\"Movie Released VS Year\",fontsize=15)\n",
    "loc, labels = plt.xticks()\n",
    "plt.xlabel('Year',fontsize = 10)\n",
    "plt.ylabel('Number of Movies',fontsize = 10)\n",
    "plt.xticks(fontsize=15,rotation='vertical')\n",
    "plt.show()"
   ]
  },
  {
   "cell_type": "markdown",
   "id": "several-consortium",
   "metadata": {
    "papermill": {
     "duration": 0.091775,
     "end_time": "2021-05-24T17:22:00.144345",
     "exception": false,
     "start_time": "2021-05-24T17:22:00.052570",
     "status": "completed"
    },
    "tags": []
   },
   "source": [
    "**Movie Released VS Day of week"
   ]
  },
  {
   "cell_type": "code",
   "execution_count": null,
   "id": "contained-munich",
   "metadata": {
    "execution": {
     "iopub.execute_input": "2021-05-24T17:22:00.330660Z",
     "iopub.status.busy": "2021-05-24T17:22:00.329598Z",
     "iopub.status.idle": "2021-05-24T17:22:00.519044Z",
     "shell.execute_reply": "2021-05-24T17:22:00.519561Z",
     "shell.execute_reply.started": "2021-05-24T17:19:28.079471Z"
    },
    "papermill": {
     "duration": 0.287093,
     "end_time": "2021-05-24T17:22:00.519732",
     "exception": false,
     "start_time": "2021-05-24T17:22:00.232639",
     "status": "completed"
    },
    "tags": []
   },
   "outputs": [],
   "source": [
    "plt.figure(figsize=(10,10))\n",
    "sns.countplot(x='release_day',data=train,palette=\"rocket\")\n",
    "loc, labels = plt.xticks()\n",
    "loc, labels = loc, ['Monday','Tuesday','Wednesday','Thursday',\"Friday\",\"Saturday\",\"Sunday\"]\n",
    "plt.xticks(loc, labels,fontsize=15)\n",
    "plt.xlabel('Release_day',fontsize = 10)\n",
    "plt.ylabel('Number of Movies',fontsize = 10)\n",
    "plt.title(\"Movies released VS Day of week\",fontsize=15)\n",
    "plt.show()"
   ]
  },
  {
   "cell_type": "markdown",
   "id": "sealed-pizza",
   "metadata": {
    "papermill": {
     "duration": 0.090622,
     "end_time": "2021-05-24T17:22:00.701158",
     "exception": false,
     "start_time": "2021-05-24T17:22:00.610536",
     "status": "completed"
    },
    "tags": []
   },
   "source": [
    "**Revenue VS Budget"
   ]
  },
  {
   "cell_type": "code",
   "execution_count": null,
   "id": "smooth-invasion",
   "metadata": {
    "execution": {
     "iopub.execute_input": "2021-05-24T17:22:01.082065Z",
     "iopub.status.busy": "2021-05-24T17:22:01.076575Z",
     "iopub.status.idle": "2021-05-24T17:22:01.459766Z",
     "shell.execute_reply": "2021-05-24T17:22:01.461031Z",
     "shell.execute_reply.started": "2021-05-24T17:19:28.230881Z"
    },
    "papermill": {
     "duration": 0.669117,
     "end_time": "2021-05-24T17:22:01.461287",
     "exception": false,
     "start_time": "2021-05-24T17:22:00.792170",
     "status": "completed"
    },
    "tags": []
   },
   "outputs": [],
   "source": [
    "train[['budget','revenue']].plot(kind='scatter',x='budget',y='revenue',figsize=(12,8))\n",
    "plt.title(\"Revenue VS Budget\",fontsize=15)\n",
    "plt.xlabel('Budget',fontsize = 10)\n",
    "plt.ylabel('Revenue',fontsize = 10)\n",
    "plt.show()"
   ]
  },
  {
   "cell_type": "markdown",
   "id": "horizontal-going",
   "metadata": {
    "papermill": {
     "duration": 0.128,
     "end_time": "2021-05-24T17:22:01.751512",
     "exception": false,
     "start_time": "2021-05-24T17:22:01.623512",
     "status": "completed"
    },
    "tags": []
   },
   "source": [
    "** Revenue of movies VS Status"
   ]
  },
  {
   "cell_type": "code",
   "execution_count": null,
   "id": "architectural-coating",
   "metadata": {
    "execution": {
     "iopub.execute_input": "2021-05-24T17:22:01.944654Z",
     "iopub.status.busy": "2021-05-24T17:22:01.943711Z",
     "iopub.status.idle": "2021-05-24T17:22:02.229116Z",
     "shell.execute_reply": "2021-05-24T17:22:02.228296Z",
     "shell.execute_reply.started": "2021-05-24T17:19:28.408096Z"
    },
    "papermill": {
     "duration": 0.385368,
     "end_time": "2021-05-24T17:22:02.229294",
     "exception": false,
     "start_time": "2021-05-24T17:22:01.843926",
     "status": "completed"
    },
    "tags": []
   },
   "outputs": [],
   "source": [
    "plt.figure(figsize=(10,5))\n",
    "sns.catplot(x='status', y='revenue', data=train,palette='rocket')\n",
    "plt.title('Revenue of movies VS Status',fontsize=13);\n",
    "plt.show()"
   ]
  },
  {
   "cell_type": "code",
   "execution_count": null,
   "id": "engaged-pearl",
   "metadata": {
    "execution": {
     "iopub.execute_input": "2021-05-24T17:22:02.427012Z",
     "iopub.status.busy": "2021-05-24T17:22:02.426061Z",
     "iopub.status.idle": "2021-05-24T17:22:02.506521Z",
     "shell.execute_reply": "2021-05-24T17:22:02.507050Z",
     "shell.execute_reply.started": "2021-05-24T17:19:28.655726Z"
    },
    "papermill": {
     "duration": 0.184234,
     "end_time": "2021-05-24T17:22:02.507247",
     "exception": false,
     "start_time": "2021-05-24T17:22:02.323013",
     "status": "completed"
    },
    "tags": []
   },
   "outputs": [],
   "source": [
    "train.describe()"
   ]
  },
  {
   "cell_type": "markdown",
   "id": "alone-spiritual",
   "metadata": {
    "papermill": {
     "duration": 0.094095,
     "end_time": "2021-05-24T17:22:02.704364",
     "exception": false,
     "start_time": "2021-05-24T17:22:02.610269",
     "status": "completed"
    },
    "tags": []
   },
   "source": [
    "**Dropping down the columns"
   ]
  },
  {
   "cell_type": "code",
   "execution_count": null,
   "id": "surprising-republican",
   "metadata": {
    "execution": {
     "iopub.execute_input": "2021-05-24T17:22:02.898192Z",
     "iopub.status.busy": "2021-05-24T17:22:02.897080Z",
     "iopub.status.idle": "2021-05-24T17:22:03.005046Z",
     "shell.execute_reply": "2021-05-24T17:22:03.005526Z",
     "shell.execute_reply.started": "2021-05-24T17:19:28.728605Z"
    },
    "papermill": {
     "duration": 0.209603,
     "end_time": "2021-05-24T17:22:03.005710",
     "exception": false,
     "start_time": "2021-05-24T17:22:02.796107",
     "status": "completed"
    },
    "tags": []
   },
   "outputs": [],
   "source": [
    "train = train.drop(['belongs_to_collection','genres','production_companies','nameofcollection','imdb_id','overview','poster_path','tagline','original_title','original_language','release_date','language','production_countries','cast','spoken_languages',\n",
    "                    'Keywords', 'status','genres_info','production_company','production_country','title','crew','popularity2'], axis=1)\n",
    "\n",
    "test = test.drop(['belongs_to_collection','genres','production_companies','nameofcollection','imdb_id','overview','poster_path','tagline','original_title','original_language','release_date','language','production_countries','cast','spoken_languages',\n",
    "                    'Keywords', 'status','genres_info','production_company','production_country','title','crew','popularity2'], axis=1)\n"
   ]
  },
  {
   "cell_type": "code",
   "execution_count": null,
   "id": "chemical-defensive",
   "metadata": {
    "execution": {
     "iopub.execute_input": "2021-05-24T17:22:03.201123Z",
     "iopub.status.busy": "2021-05-24T17:22:03.200042Z",
     "iopub.status.idle": "2021-05-24T17:22:13.843414Z",
     "shell.execute_reply": "2021-05-24T17:22:13.842900Z",
     "shell.execute_reply.started": "2021-05-24T17:19:28.835015Z"
    },
    "papermill": {
     "duration": 10.74489,
     "end_time": "2021-05-24T17:22:13.843562",
     "exception": false,
     "start_time": "2021-05-24T17:22:03.098672",
     "status": "completed"
    },
    "tags": []
   },
   "outputs": [],
   "source": [
    "gridpl = sns.PairGrid(data= train,vars = ['revenue', 'totalVotes', 'popularity'], size = 3)\n",
    "\n",
    "gridpl = gridpl.map_upper(plt.scatter, color = 'black')\n",
    "gridpl = gridpl.map_diag(plt.hist, bins = 15, color = 'black', edgecolor = 'k')\n",
    "gridpl = gridpl.map_lower(sns.kdeplot, cmap = 'Reds')\n"
   ]
  },
  {
   "cell_type": "markdown",
   "id": "italian-commitment",
   "metadata": {
    "papermill": {
     "duration": 0.09303,
     "end_time": "2021-05-24T17:22:14.031748",
     "exception": false,
     "start_time": "2021-05-24T17:22:13.938718",
     "status": "completed"
    },
    "tags": []
   },
   "source": [
    "**Taking the log values of \"Budget\" and \"Revenue\" in the train section and \"Budget\" in the test section as they were skewed and not normally distributed"
   ]
  },
  {
   "cell_type": "code",
   "execution_count": null,
   "id": "failing-gasoline",
   "metadata": {
    "execution": {
     "iopub.execute_input": "2021-05-24T17:22:14.221207Z",
     "iopub.status.busy": "2021-05-24T17:22:14.220143Z",
     "iopub.status.idle": "2021-05-24T17:22:14.225630Z",
     "shell.execute_reply": "2021-05-24T17:22:14.225136Z",
     "shell.execute_reply.started": "2021-05-24T17:19:37.951111Z"
    },
    "papermill": {
     "duration": 0.105565,
     "end_time": "2021-05-24T17:22:14.225768",
     "exception": false,
     "start_time": "2021-05-24T17:22:14.120203",
     "status": "completed"
    },
    "tags": []
   },
   "outputs": [],
   "source": [
    "test['budget']=np.log1p(test['budget'])\n",
    "train['budget']=np.log1p(train['budget'])\n",
    "\n",
    "train['revenue']=np.log1p(train['revenue'])"
   ]
  },
  {
   "cell_type": "code",
   "execution_count": null,
   "id": "dutch-pittsburgh",
   "metadata": {
    "execution": {
     "iopub.execute_input": "2021-05-24T17:22:14.424993Z",
     "iopub.status.busy": "2021-05-24T17:22:14.423883Z",
     "iopub.status.idle": "2021-05-24T17:22:14.445364Z",
     "shell.execute_reply": "2021-05-24T17:22:14.444795Z",
     "shell.execute_reply.started": "2021-05-24T17:19:37.960308Z"
    },
    "papermill": {
     "duration": 0.124963,
     "end_time": "2021-05-24T17:22:14.445527",
     "exception": false,
     "start_time": "2021-05-24T17:22:14.320564",
     "status": "completed"
    },
    "tags": []
   },
   "outputs": [],
   "source": [
    "train.head()"
   ]
  },
  {
   "cell_type": "code",
   "execution_count": null,
   "id": "interested-floor",
   "metadata": {
    "execution": {
     "iopub.execute_input": "2021-05-24T17:22:14.665164Z",
     "iopub.status.busy": "2021-05-24T17:22:14.664170Z",
     "iopub.status.idle": "2021-05-24T17:22:14.668047Z",
     "shell.execute_reply": "2021-05-24T17:22:14.668694Z",
     "shell.execute_reply.started": "2021-05-24T17:19:37.985305Z"
    },
    "papermill": {
     "duration": 0.120174,
     "end_time": "2021-05-24T17:22:14.668868",
     "exception": false,
     "start_time": "2021-05-24T17:22:14.548694",
     "status": "completed"
    },
    "tags": []
   },
   "outputs": [],
   "source": [
    "test.head()"
   ]
  },
  {
   "cell_type": "markdown",
   "id": "brilliant-workstation",
   "metadata": {
    "papermill": {
     "duration": 0.096965,
     "end_time": "2021-05-24T17:22:14.869663",
     "exception": false,
     "start_time": "2021-05-24T17:22:14.772698",
     "status": "completed"
    },
    "tags": []
   },
   "source": [
    "**Checking the correlation of the variables with the target variable \"Revenue\""
   ]
  },
  {
   "cell_type": "code",
   "execution_count": null,
   "id": "fleet-candy",
   "metadata": {
    "execution": {
     "iopub.execute_input": "2021-05-24T17:22:15.122720Z",
     "iopub.status.busy": "2021-05-24T17:22:15.121818Z",
     "iopub.status.idle": "2021-05-24T17:22:15.131399Z",
     "shell.execute_reply": "2021-05-24T17:22:15.131968Z",
     "shell.execute_reply.started": "2021-05-24T17:19:38.011210Z"
    },
    "papermill": {
     "duration": 0.120807,
     "end_time": "2021-05-24T17:22:15.132144",
     "exception": false,
     "start_time": "2021-05-24T17:22:15.011337",
     "status": "completed"
    },
    "tags": []
   },
   "outputs": [],
   "source": [
    "train.corr().revenue"
   ]
  },
  {
   "cell_type": "markdown",
   "id": "linear-polls",
   "metadata": {
    "papermill": {
     "duration": 0.096072,
     "end_time": "2021-05-24T17:22:15.332546",
     "exception": false,
     "start_time": "2021-05-24T17:22:15.236474",
     "status": "completed"
    },
    "tags": []
   },
   "source": [
    "**MODELLING"
   ]
  },
  {
   "cell_type": "code",
   "execution_count": null,
   "id": "broad-blackberry",
   "metadata": {
    "execution": {
     "iopub.execute_input": "2021-05-24T17:22:15.533826Z",
     "iopub.status.busy": "2021-05-24T17:22:15.532856Z",
     "iopub.status.idle": "2021-05-24T17:22:15.537218Z",
     "shell.execute_reply": "2021-05-24T17:22:15.536732Z",
     "shell.execute_reply.started": "2021-05-24T17:19:38.026400Z"
    },
    "papermill": {
     "duration": 0.106266,
     "end_time": "2021-05-24T17:22:15.537371",
     "exception": false,
     "start_time": "2021-05-24T17:22:15.431105",
     "status": "completed"
    },
    "tags": []
   },
   "outputs": [],
   "source": [
    "y=train.revenue\n",
    "X=train.drop( columns= ['revenue'])"
   ]
  },
  {
   "cell_type": "markdown",
   "id": "binding-power",
   "metadata": {
    "papermill": {
     "duration": 0.096401,
     "end_time": "2021-05-24T17:22:15.730579",
     "exception": false,
     "start_time": "2021-05-24T17:22:15.634178",
     "status": "completed"
    },
    "tags": []
   },
   "source": [
    "**Splitting the data in 80:20 (Train and Validation)"
   ]
  },
  {
   "cell_type": "code",
   "execution_count": null,
   "id": "enclosed-delay",
   "metadata": {
    "execution": {
     "iopub.execute_input": "2021-05-24T17:22:15.932058Z",
     "iopub.status.busy": "2021-05-24T17:22:15.931243Z",
     "iopub.status.idle": "2021-05-24T17:22:15.934575Z",
     "shell.execute_reply": "2021-05-24T17:22:15.935173Z",
     "shell.execute_reply.started": "2021-05-24T17:19:38.035990Z"
    },
    "papermill": {
     "duration": 0.10601,
     "end_time": "2021-05-24T17:22:15.935352",
     "exception": false,
     "start_time": "2021-05-24T17:22:15.829342",
     "status": "completed"
    },
    "tags": []
   },
   "outputs": [],
   "source": [
    "X.shape,y.shape,test.shape"
   ]
  },
  {
   "cell_type": "code",
   "execution_count": null,
   "id": "aboriginal-jackson",
   "metadata": {
    "execution": {
     "iopub.execute_input": "2021-05-24T17:22:16.133946Z",
     "iopub.status.busy": "2021-05-24T17:22:16.133158Z",
     "iopub.status.idle": "2021-05-24T17:22:16.157110Z",
     "shell.execute_reply": "2021-05-24T17:22:16.156566Z",
     "shell.execute_reply.started": "2021-05-24T17:19:38.047163Z"
    },
    "papermill": {
     "duration": 0.126143,
     "end_time": "2021-05-24T17:22:16.157282",
     "exception": false,
     "start_time": "2021-05-24T17:22:16.031139",
     "status": "completed"
    },
    "tags": []
   },
   "outputs": [],
   "source": [
    "from sklearn.model_selection import train_test_split\n",
    "X_train,X_val,y_train,y_val= train_test_split(X,y,test_size=0.2,random_state=39)"
   ]
  },
  {
   "cell_type": "markdown",
   "id": "nuclear-procurement",
   "metadata": {
    "papermill": {
     "duration": 0.097923,
     "end_time": "2021-05-24T17:22:16.354036",
     "exception": false,
     "start_time": "2021-05-24T17:22:16.256113",
     "status": "completed"
    },
    "tags": []
   },
   "source": [
    "**LinearRegression"
   ]
  },
  {
   "cell_type": "code",
   "execution_count": null,
   "id": "athletic-simon",
   "metadata": {
    "execution": {
     "iopub.execute_input": "2021-05-24T17:22:16.555687Z",
     "iopub.status.busy": "2021-05-24T17:22:16.554927Z",
     "iopub.status.idle": "2021-05-24T17:22:16.664672Z",
     "shell.execute_reply": "2021-05-24T17:22:16.665614Z",
     "shell.execute_reply.started": "2021-05-24T17:19:38.069894Z"
    },
    "papermill": {
     "duration": 0.213551,
     "end_time": "2021-05-24T17:22:16.665896",
     "exception": false,
     "start_time": "2021-05-24T17:22:16.452345",
     "status": "completed"
    },
    "tags": []
   },
   "outputs": [],
   "source": [
    "from sklearn.linear_model import LinearRegression\n",
    "lr_model=LinearRegression()\n",
    "lr_model.fit(X_train,y_train)\n",
    "lr_pred=lr_model.predict(X_val)"
   ]
  },
  {
   "cell_type": "code",
   "execution_count": null,
   "id": "grave-evans",
   "metadata": {
    "execution": {
     "iopub.execute_input": "2021-05-24T17:22:16.965677Z",
     "iopub.status.busy": "2021-05-24T17:22:16.964532Z",
     "iopub.status.idle": "2021-05-24T17:22:16.970520Z",
     "shell.execute_reply": "2021-05-24T17:22:16.969969Z",
     "shell.execute_reply.started": "2021-05-24T17:19:38.093046Z"
    },
    "papermill": {
     "duration": 0.109854,
     "end_time": "2021-05-24T17:22:16.970672",
     "exception": false,
     "start_time": "2021-05-24T17:22:16.860818",
     "status": "completed"
    },
    "tags": []
   },
   "outputs": [],
   "source": [
    "lr_rmse= mean_squared_error(y_val, lr_pred, squared=False)\n",
    "lr_rmse"
   ]
  },
  {
   "cell_type": "code",
   "execution_count": null,
   "id": "temporal-drawing",
   "metadata": {
    "execution": {
     "iopub.execute_input": "2021-05-24T17:22:17.180227Z",
     "iopub.status.busy": "2021-05-24T17:22:17.179339Z",
     "iopub.status.idle": "2021-05-24T17:22:17.330528Z",
     "shell.execute_reply": "2021-05-24T17:22:17.330997Z",
     "shell.execute_reply.started": "2021-05-24T17:19:38.109265Z"
    },
    "papermill": {
     "duration": 0.253689,
     "end_time": "2021-05-24T17:22:17.331157",
     "exception": false,
     "start_time": "2021-05-24T17:22:17.077468",
     "status": "completed"
    },
    "tags": []
   },
   "outputs": [],
   "source": [
    "corr = train.corr()\n",
    "corr.style.background_gradient(cmap='coolwarm')"
   ]
  },
  {
   "cell_type": "markdown",
   "id": "acute-things",
   "metadata": {
    "papermill": {
     "duration": 0.099166,
     "end_time": "2021-05-24T17:22:17.531726",
     "exception": false,
     "start_time": "2021-05-24T17:22:17.432560",
     "status": "completed"
    },
    "tags": []
   },
   "source": [
    "Fitting the entire dataset on the model"
   ]
  },
  {
   "cell_type": "code",
   "execution_count": null,
   "id": "amazing-subsection",
   "metadata": {
    "execution": {
     "iopub.execute_input": "2021-05-24T17:22:17.740457Z",
     "iopub.status.busy": "2021-05-24T17:22:17.739358Z",
     "iopub.status.idle": "2021-05-24T17:22:17.972508Z",
     "shell.execute_reply": "2021-05-24T17:22:17.971952Z",
     "shell.execute_reply.started": "2021-05-24T17:19:38.227708Z"
    },
    "papermill": {
     "duration": 0.34084,
     "end_time": "2021-05-24T17:22:17.972662",
     "exception": false,
     "start_time": "2021-05-24T17:22:17.631822",
     "status": "completed"
    },
    "tags": []
   },
   "outputs": [],
   "source": [
    "lr_model.fit(X,y)\n",
    "lr_pred_full = lr_model.predict(test)\n",
    "lr_pred_full = np.exp(lr_pred_full)\n",
    "rand_lr = pd.DataFrame(lr_pred_full)\n",
    "\n",
    "linear_regression = pd.concat([test[\"id\"],rand_lr], axis =1)\n",
    "linear_regression.columns = ['id', 'revenue']\n",
    "linear_regression.to_csv(r'linear_regression.csv',index = False)\n"
   ]
  },
  {
   "cell_type": "code",
   "execution_count": null,
   "id": "synthetic-audience",
   "metadata": {
    "execution": {
     "iopub.execute_input": "2021-05-24T17:22:18.184632Z",
     "iopub.status.busy": "2021-05-24T17:22:18.179366Z",
     "iopub.status.idle": "2021-05-24T17:22:18.194894Z",
     "shell.execute_reply": "2021-05-24T17:22:18.193956Z",
     "shell.execute_reply.started": "2021-05-24T17:19:38.272031Z"
    },
    "papermill": {
     "duration": 0.122573,
     "end_time": "2021-05-24T17:22:18.195122",
     "exception": false,
     "start_time": "2021-05-24T17:22:18.072549",
     "status": "completed"
    },
    "tags": []
   },
   "outputs": [],
   "source": [
    "reg = LinearRegression().fit(X, y)\n",
    "for i,j in zip(reg.coef_, train.columns):\n",
    "    print(i,j)"
   ]
  },
  {
   "cell_type": "markdown",
   "id": "bizarre-determination",
   "metadata": {
    "papermill": {
     "duration": 0.101567,
     "end_time": "2021-05-24T17:22:18.457871",
     "exception": false,
     "start_time": "2021-05-24T17:22:18.356304",
     "status": "completed"
    },
    "tags": []
   },
   "source": [
    "**RandomForestRegressor"
   ]
  },
  {
   "cell_type": "code",
   "execution_count": null,
   "id": "synthetic-stack",
   "metadata": {
    "execution": {
     "iopub.execute_input": "2021-05-24T17:22:18.662449Z",
     "iopub.status.busy": "2021-05-24T17:22:18.661720Z",
     "iopub.status.idle": "2021-05-24T17:22:19.577109Z",
     "shell.execute_reply": "2021-05-24T17:22:19.576554Z",
     "shell.execute_reply.started": "2021-05-24T17:19:38.291755Z"
    },
    "papermill": {
     "duration": 1.020201,
     "end_time": "2021-05-24T17:22:19.577278",
     "exception": false,
     "start_time": "2021-05-24T17:22:18.557077",
     "status": "completed"
    },
    "tags": []
   },
   "outputs": [],
   "source": [
    "from sklearn.ensemble import RandomForestRegressor\n",
    "rfr_model = RandomForestRegressor(random_state=42, \n",
    "                                  max_features='auto', \n",
    "                                  n_estimators= 50, \n",
    "                                  min_samples_leaf=2)\n",
    "rfr_model.fit(X_train,y_train)\n",
    "rfr_pred = rfr_model.predict(X_val)"
   ]
  },
  {
   "cell_type": "code",
   "execution_count": null,
   "id": "necessary-tunisia",
   "metadata": {
    "execution": {
     "iopub.execute_input": "2021-05-24T17:22:19.791134Z",
     "iopub.status.busy": "2021-05-24T17:22:19.790150Z",
     "iopub.status.idle": "2021-05-24T17:22:19.793977Z",
     "shell.execute_reply": "2021-05-24T17:22:19.794618Z",
     "shell.execute_reply.started": "2021-05-24T17:19:39.067812Z"
    },
    "papermill": {
     "duration": 0.117102,
     "end_time": "2021-05-24T17:22:19.794808",
     "exception": false,
     "start_time": "2021-05-24T17:22:19.677706",
     "status": "completed"
    },
    "tags": []
   },
   "outputs": [],
   "source": [
    "rfr_rmse= mean_squared_error(y_val, rfr_pred, squared=False)\n",
    "rfr_rmse"
   ]
  },
  {
   "cell_type": "markdown",
   "id": "precise-intervention",
   "metadata": {
    "papermill": {
     "duration": 0.100322,
     "end_time": "2021-05-24T17:22:20.004333",
     "exception": false,
     "start_time": "2021-05-24T17:22:19.904011",
     "status": "completed"
    },
    "tags": []
   },
   "source": [
    "Fitting the entire dataset on the model"
   ]
  },
  {
   "cell_type": "code",
   "execution_count": null,
   "id": "laden-exhibit",
   "metadata": {
    "execution": {
     "iopub.execute_input": "2021-05-24T17:22:20.212666Z",
     "iopub.status.busy": "2021-05-24T17:22:20.211705Z",
     "iopub.status.idle": "2021-05-24T17:22:21.271886Z",
     "shell.execute_reply": "2021-05-24T17:22:21.271355Z",
     "shell.execute_reply.started": "2021-05-24T17:19:39.079108Z"
    },
    "papermill": {
     "duration": 1.166685,
     "end_time": "2021-05-24T17:22:21.272035",
     "exception": false,
     "start_time": "2021-05-24T17:22:20.105350",
     "status": "completed"
    },
    "tags": []
   },
   "outputs": [],
   "source": [
    "rfr_model.fit(X,y)\n",
    "rfr_pred_full = rfr_model.predict(test)\n",
    "rfr_pred_full = np.exp(rfr_pred_full)\n",
    "rand_rf = pd.DataFrame(rfr_pred_full)\n",
    "\n",
    "random_forest = pd.concat([test[\"id\"],rand_rf], axis =1)\n",
    "random_forest.columns = ['id', 'revenue']\n",
    "random_forest.to_csv(r'random_forest.csv',index = False)\n"
   ]
  },
  {
   "cell_type": "markdown",
   "id": "spoken-alarm",
   "metadata": {
    "papermill": {
     "duration": 0.101744,
     "end_time": "2021-05-24T17:22:21.473559",
     "exception": false,
     "start_time": "2021-05-24T17:22:21.371815",
     "status": "completed"
    },
    "tags": []
   },
   "source": [
    "**XGBoost"
   ]
  },
  {
   "cell_type": "code",
   "execution_count": null,
   "id": "democratic-phenomenon",
   "metadata": {
    "execution": {
     "iopub.execute_input": "2021-05-24T17:22:21.683446Z",
     "iopub.status.busy": "2021-05-24T17:22:21.682590Z",
     "iopub.status.idle": "2021-05-24T17:22:21.757778Z",
     "shell.execute_reply": "2021-05-24T17:22:21.757170Z",
     "shell.execute_reply.started": "2021-05-24T17:19:40.032291Z"
    },
    "papermill": {
     "duration": 0.182318,
     "end_time": "2021-05-24T17:22:21.757939",
     "exception": false,
     "start_time": "2021-05-24T17:22:21.575621",
     "status": "completed"
    },
    "scrolled": true,
    "tags": []
   },
   "outputs": [],
   "source": [
    "import xgboost as xgb\n",
    "xgb_model = xgb.XGBRegressor(objective = 'reg:linear',\n",
    "                                  eta = 0.01,\n",
    "                                  max_depth = 3,\n",
    "                                  min_child_weight = 3,\n",
    "                                  subsample = 0.8,\n",
    "                                  gamma = 1.45,\n",
    "                                  colsample_bytree = 0.7,\n",
    "                                  eval_metric = 'rmse',\n",
    "                                  seed = 42,\n",
    "                                  n_estimators = 3000)"
   ]
  },
  {
   "cell_type": "code",
   "execution_count": null,
   "id": "breathing-blame",
   "metadata": {
    "execution": {
     "iopub.execute_input": "2021-05-24T17:22:21.966715Z",
     "iopub.status.busy": "2021-05-24T17:22:21.965998Z",
     "iopub.status.idle": "2021-05-24T17:22:29.706248Z",
     "shell.execute_reply": "2021-05-24T17:22:29.706927Z",
     "shell.execute_reply.started": "2021-05-24T17:19:40.044458Z"
    },
    "papermill": {
     "duration": 7.848671,
     "end_time": "2021-05-24T17:22:29.707174",
     "exception": false,
     "start_time": "2021-05-24T17:22:21.858503",
     "status": "completed"
    },
    "tags": []
   },
   "outputs": [],
   "source": [
    "xgb_model.fit(X_train, y_train)\n",
    "xgb_pred = xgb_model.predict(X_val)\n",
    "xgb_rmse= mean_squared_error(y_val, xgb_pred, squared=False)\n",
    "xgb_rmse"
   ]
  },
  {
   "cell_type": "markdown",
   "id": "spiritual-curve",
   "metadata": {
    "papermill": {
     "duration": 0.199976,
     "end_time": "2021-05-24T17:22:30.094760",
     "exception": false,
     "start_time": "2021-05-24T17:22:29.894784",
     "status": "completed"
    },
    "tags": []
   },
   "source": [
    "**Hyperparameter Tuning - GRID Search"
   ]
  },
  {
   "cell_type": "code",
   "execution_count": null,
   "id": "respective-stake",
   "metadata": {
    "execution": {
     "iopub.execute_input": "2021-05-24T17:22:30.324623Z",
     "iopub.status.busy": "2021-05-24T17:22:30.322737Z",
     "iopub.status.idle": "2021-05-24T17:22:30.325379Z",
     "shell.execute_reply": "2021-05-24T17:22:30.326036Z",
     "shell.execute_reply.started": "2021-05-24T17:19:45.097563Z"
    },
    "papermill": {
     "duration": 0.113586,
     "end_time": "2021-05-24T17:22:30.326272",
     "exception": false,
     "start_time": "2021-05-24T17:22:30.212686",
     "status": "completed"
    },
    "tags": []
   },
   "outputs": [],
   "source": [
    "# from sklearn.model_selection import GridSearchCV\n",
    "# from xgboost.sklearn import XGBRegressor\n",
    "\n",
    "\n",
    "# xgb = XGBRegressor()\n",
    "# parameters = {\n",
    "#               'objective':['reg:linear'],\n",
    "#               'eta': [0.01, 0.03, 0.05, 0.07], \n",
    "#               'max_depth': [3, 5, 6, 7],\n",
    "#               'min_child_weight': [3, 4, 5],\n",
    "#               'subsample': [0.6, 0.7, 0.8],\n",
    "#               'colsample_bytree': [0.5, 0.6, 0.7],\n",
    "#               'eval_metric': ['rmse'],\n",
    "#               'n_estimators': [1000,2000,3000,3500] }\n",
    "\n",
    "# xgb_grid = GridSearchCV(xgb,parameters,cv = 2,n_jobs = 5,verbose=True)\n",
    "\n",
    "# xgb_grid.fit(X,y)\n",
    "\n",
    "# print(xgb_grid.best_score_)\n",
    "# print(xgb_grid.best_params_)"
   ]
  },
  {
   "cell_type": "markdown",
   "id": "falling-alert",
   "metadata": {
    "papermill": {
     "duration": 0.100631,
     "end_time": "2021-05-24T17:22:30.536297",
     "exception": false,
     "start_time": "2021-05-24T17:22:30.435666",
     "status": "completed"
    },
    "tags": []
   },
   "source": [
    "Fitting the entire dataset on the model"
   ]
  },
  {
   "cell_type": "code",
   "execution_count": null,
   "id": "novel-package",
   "metadata": {
    "execution": {
     "iopub.execute_input": "2021-05-24T17:22:30.744144Z",
     "iopub.status.busy": "2021-05-24T17:22:30.743128Z",
     "iopub.status.idle": "2021-05-24T17:22:38.140639Z",
     "shell.execute_reply": "2021-05-24T17:22:38.139506Z",
     "shell.execute_reply.started": "2021-05-24T17:19:45.108970Z"
    },
    "papermill": {
     "duration": 7.503778,
     "end_time": "2021-05-24T17:22:38.140815",
     "exception": false,
     "start_time": "2021-05-24T17:22:30.637037",
     "status": "completed"
    },
    "tags": []
   },
   "outputs": [],
   "source": [
    "xgb_model.fit(X, y)\n",
    "xgb_pred_full = xgb_model.predict(test)\n",
    "xgb_pred_full = np.exp(xgb_pred_full)\n",
    "rand_xgb = pd.DataFrame(xgb_pred_full)\n",
    "\n",
    "xgb = pd.concat([test[\"id\"],rand_xgb], axis =1)\n",
    "xgb.columns =['id', 'revenue']\n",
    "xgb.to_csv(r'xgb.csv',index = False)"
   ]
  },
  {
   "cell_type": "markdown",
   "id": "based-amount",
   "metadata": {
    "papermill": {
     "duration": 0.103212,
     "end_time": "2021-05-24T17:22:38.347193",
     "exception": false,
     "start_time": "2021-05-24T17:22:38.243981",
     "status": "completed"
    },
    "tags": []
   },
   "source": [
    "**LightBGM"
   ]
  },
  {
   "cell_type": "code",
   "execution_count": null,
   "id": "known-middle",
   "metadata": {
    "execution": {
     "iopub.execute_input": "2021-05-24T17:22:38.550169Z",
     "iopub.status.busy": "2021-05-24T17:22:38.549377Z",
     "iopub.status.idle": "2021-05-24T17:22:39.380244Z",
     "shell.execute_reply": "2021-05-24T17:22:39.379660Z",
     "shell.execute_reply.started": "2021-05-24T17:19:50.807529Z"
    },
    "papermill": {
     "duration": 0.93464,
     "end_time": "2021-05-24T17:22:39.380403",
     "exception": false,
     "start_time": "2021-05-24T17:22:38.445763",
     "status": "completed"
    },
    "tags": []
   },
   "outputs": [],
   "source": [
    "import lightgbm as lgb\n",
    "lgb_model = lgb.LGBMRegressor(objective='regression',num_leaves=1023,\n",
    "                              learning_rate=0.005, n_estimators=650,\n",
    "                              max_bin=58, bagging_fraction=0.80,max_depth=10,\n",
    "                              bagging_freq=5, feature_fraction=0.2319,\n",
    "                              feature_fraction_seed=9, bagging_seed=9,\n",
    "                              min_data_in_leaf=7, min_sum_hessian_in_leaf=11)\n"
   ]
  },
  {
   "cell_type": "code",
   "execution_count": null,
   "id": "native-textbook",
   "metadata": {
    "execution": {
     "iopub.execute_input": "2021-05-24T17:22:39.594568Z",
     "iopub.status.busy": "2021-05-24T17:22:39.593882Z",
     "iopub.status.idle": "2021-05-24T17:22:41.562970Z",
     "shell.execute_reply": "2021-05-24T17:22:41.563596Z",
     "shell.execute_reply.started": "2021-05-24T17:19:50.819221Z"
    },
    "papermill": {
     "duration": 2.079788,
     "end_time": "2021-05-24T17:22:41.563809",
     "exception": false,
     "start_time": "2021-05-24T17:22:39.484021",
     "status": "completed"
    },
    "tags": []
   },
   "outputs": [],
   "source": [
    "lgb_model.fit(X_train, y_train)\n",
    "lgb_pred = lgb_model.predict(X_val)\n",
    "lgb_rmse= mean_squared_error(y_val, lgb_pred, squared=False)\n",
    "lgb_rmse"
   ]
  },
  {
   "cell_type": "markdown",
   "id": "dependent-voice",
   "metadata": {
    "papermill": {
     "duration": 0.101293,
     "end_time": "2021-05-24T17:22:41.778736",
     "exception": false,
     "start_time": "2021-05-24T17:22:41.677443",
     "status": "completed"
    },
    "tags": []
   },
   "source": [
    "Fitting the entire dataset on the model"
   ]
  },
  {
   "cell_type": "code",
   "execution_count": null,
   "id": "square-robert",
   "metadata": {
    "execution": {
     "iopub.execute_input": "2021-05-24T17:22:41.992234Z",
     "iopub.status.busy": "2021-05-24T17:22:41.991195Z",
     "iopub.status.idle": "2021-05-24T17:22:44.572068Z",
     "shell.execute_reply": "2021-05-24T17:22:44.570929Z",
     "shell.execute_reply.started": "2021-05-24T17:19:52.651738Z"
    },
    "papermill": {
     "duration": 2.690589,
     "end_time": "2021-05-24T17:22:44.572261",
     "exception": false,
     "start_time": "2021-05-24T17:22:41.881672",
     "status": "completed"
    },
    "tags": []
   },
   "outputs": [],
   "source": [
    "lgb_model.fit(X, y)\n",
    "lgb_pred_full = lgb_model.predict(test)\n",
    "lgb_pred_full = np.exp(lgb_pred_full)\n",
    "rand_lgb = pd.DataFrame(lgb_pred_full)\n",
    "\n",
    "lgb = pd.concat([test[\"id\"],rand_lgb], axis =1)\n",
    "lgb.columns =['id', 'revenue']\n",
    "lgb.to_csv(r'lgb.csv',index = False)\n"
   ]
  }
 ],
 "metadata": {
  "kernelspec": {
   "display_name": "Python 3",
   "language": "python",
   "name": "python3"
  },
  "language_info": {
   "codemirror_mode": {
    "name": "ipython",
    "version": 3
   },
   "file_extension": ".py",
   "mimetype": "text/x-python",
   "name": "python",
   "nbconvert_exporter": "python",
   "pygments_lexer": "ipython3",
   "version": "3.8.8"
  },
  "papermill": {
   "default_parameters": {},
   "duration": 98.069371,
   "end_time": "2021-05-24T17:22:46.421428",
   "environment_variables": {},
   "exception": null,
   "input_path": "__notebook__.ipynb",
   "output_path": "__notebook__.ipynb",
   "parameters": {},
   "start_time": "2021-05-24T17:21:08.352057",
   "version": "2.3.3"
  }
 },
 "nbformat": 4,
 "nbformat_minor": 5
}
