{
 "cells": [
  {
   "cell_type": "markdown",
   "id": "confirmed-stand",
   "metadata": {
    "papermill": {
     "duration": 0.067931,
     "end_time": "2021-05-24T17:21:16.405872",
     "exception": false,
     "start_time": "2021-05-24T17:21:16.337941",
     "status": "completed"
    },
    "tags": []
   },
   "source": [
    "**Import all necessary libraries"
   ]
  },
  {
   "cell_type": "code",
   "execution_count": 157,
   "id": "amber-ceremony",
   "metadata": {
    "execution": {
     "iopub.execute_input": "2021-05-24T17:21:16.544201Z",
     "iopub.status.busy": "2021-05-24T17:21:16.542200Z",
     "iopub.status.idle": "2021-05-24T17:21:26.348657Z",
     "shell.execute_reply": "2021-05-24T17:21:26.347771Z",
     "shell.execute_reply.started": "2021-05-24T17:19:02.849674Z"
    },
    "papermill": {
     "duration": 9.877954,
     "end_time": "2021-05-24T17:21:26.348880",
     "exception": false,
     "start_time": "2021-05-24T17:21:16.470926",
     "status": "completed"
    },
    "tags": []
   },
   "outputs": [
    {
     "name": "stdout",
     "output_type": "stream",
     "text": [
      "Requirement already satisfied: missingno in c:\\users\\12zzz\\anaconda3\\lib\\site-packages (0.4.2)\n",
      "Requirement already satisfied: scipy in c:\\users\\12zzz\\anaconda3\\lib\\site-packages (from missingno) (1.5.4)\n",
      "Requirement already satisfied: matplotlib in c:\\users\\12zzz\\anaconda3\\lib\\site-packages (from missingno) (3.3.4)\n",
      "Requirement already satisfied: seaborn in c:\\users\\12zzz\\anaconda3\\lib\\site-packages (from missingno) (0.11.1)\n",
      "Requirement already satisfied: numpy in c:\\users\\12zzz\\anaconda3\\lib\\site-packages (from missingno) (1.19.2)\n",
      "Requirement already satisfied: pyparsing!=2.0.4,!=2.1.2,!=2.1.6,>=2.0.3 in c:\\users\\12zzz\\anaconda3\\lib\\site-packages (from matplotlib->missingno) (2.4.7)\n",
      "Requirement already satisfied: python-dateutil>=2.1 in c:\\users\\12zzz\\anaconda3\\lib\\site-packages (from matplotlib->missingno) (2.8.1)\n",
      "Requirement already satisfied: pillow>=6.2.0 in c:\\users\\12zzz\\anaconda3\\lib\\site-packages (from matplotlib->missingno) (8.2.0)\n",
      "Requirement already satisfied: cycler>=0.10 in c:\\users\\12zzz\\anaconda3\\lib\\site-packages (from matplotlib->missingno) (0.10.0)\n",
      "Requirement already satisfied: kiwisolver>=1.0.1 in c:\\users\\12zzz\\anaconda3\\lib\\site-packages (from matplotlib->missingno) (1.3.1)\n",
      "Requirement already satisfied: six in c:\\users\\12zzz\\anaconda3\\lib\\site-packages (from cycler>=0.10->matplotlib->missingno) (1.15.0)\n",
      "Requirement already satisfied: pandas>=0.23 in c:\\users\\12zzz\\anaconda3\\lib\\site-packages (from seaborn->missingno) (1.2.3)\n",
      "Requirement already satisfied: pytz>=2017.3 in c:\\users\\12zzz\\anaconda3\\lib\\site-packages (from pandas>=0.23->seaborn->missingno) (2021.1)\n"
     ]
    }
   ],
   "source": [
    "import numpy as np\n",
    "import pandas as pd\n",
    "import matplotlib.pyplot as plt\n",
    "import seaborn as sns \n",
    "plt.style.use('fast')\n",
    "!pip install missingno\n",
    "import missingno as msngno \n",
    "%matplotlib inline\n",
    "import ast\n",
    "from sklearn.metrics import mean_squared_error\n",
    "from math import sqrt\n",
    "import warnings\n",
    "warnings.filterwarnings('ignore')"
   ]
  },
  {
   "cell_type": "code",
   "execution_count": 158,
   "id": "confirmed-uncle",
   "metadata": {
    "execution": {
     "iopub.execute_input": "2021-05-24T17:21:26.491818Z",
     "iopub.status.busy": "2021-05-24T17:21:26.491199Z",
     "iopub.status.idle": "2021-05-24T17:21:27.987429Z",
     "shell.execute_reply": "2021-05-24T17:21:27.986373Z",
     "shell.execute_reply.started": "2021-05-24T17:19:08.204892Z"
    },
    "papermill": {
     "duration": 1.570527,
     "end_time": "2021-05-24T17:21:27.987590",
     "exception": false,
     "start_time": "2021-05-24T17:21:26.417063",
     "status": "completed"
    },
    "tags": []
   },
   "outputs": [],
   "source": [
    "train = pd.read_csv('input/train.csv')\n",
    "test = pd.read_csv('input/test.csv')\n",
    "\n",
    "# kaggle 추가 데이터\n",
    "train_extra = pd.read_csv('input/TrainAdditionalFeatures.csv')\n",
    "test_extra = pd.read_csv('input/TestAdditionalFeatures.csv')\n",
    "\n",
    "# 기존 데이터와 합침\n",
    "train = pd.merge(train, train_extra, how='left', on=['imdb_id'])\n",
    "test = pd.merge(test, test_extra, how='left', on=['imdb_id'])\n",
    "\n"
   ]
  },
  {
   "cell_type": "code",
   "execution_count": 159,
   "id": "dietary-fusion",
   "metadata": {
    "execution": {
     "iopub.execute_input": "2021-05-24T17:21:28.402114Z",
     "iopub.status.busy": "2021-05-24T17:21:28.401167Z",
     "iopub.status.idle": "2021-05-24T17:21:28.409898Z",
     "shell.execute_reply": "2021-05-24T17:21:28.410588Z",
     "shell.execute_reply.started": "2021-05-24T17:19:08.751373Z"
    },
    "papermill": {
     "duration": 0.129213,
     "end_time": "2021-05-24T17:21:28.410839",
     "exception": false,
     "start_time": "2021-05-24T17:21:28.281626",
     "status": "completed"
    },
    "tags": []
   },
   "outputs": [
    {
     "data": {
      "text/plain": [
       "((3000, 26), (4398, 25))"
      ]
     },
     "execution_count": 159,
     "metadata": {},
     "output_type": "execute_result"
    }
   ],
   "source": [
    "train.shape, test.shape"
   ]
  },
  {
   "cell_type": "code",
   "execution_count": 160,
   "id": "standard-imaging",
   "metadata": {
    "execution": {
     "iopub.execute_input": "2021-05-24T17:21:28.635776Z",
     "iopub.status.busy": "2021-05-24T17:21:28.634867Z",
     "iopub.status.idle": "2021-05-24T17:21:28.640542Z",
     "shell.execute_reply": "2021-05-24T17:21:28.641197Z",
     "shell.execute_reply.started": "2021-05-24T17:19:08.762737Z"
    },
    "papermill": {
     "duration": 0.122448,
     "end_time": "2021-05-24T17:21:28.641462",
     "exception": false,
     "start_time": "2021-05-24T17:21:28.519014",
     "status": "completed"
    },
    "tags": []
   },
   "outputs": [
    {
     "data": {
      "text/plain": [
       "((2887, 4), (4232, 4))"
      ]
     },
     "execution_count": 160,
     "metadata": {},
     "output_type": "execute_result"
    }
   ],
   "source": [
    "train_extra.shape, test_extra.shape"
   ]
  },
  {
   "cell_type": "code",
   "execution_count": 161,
   "id": "average-opinion",
   "metadata": {
    "execution": {
     "iopub.execute_input": "2021-05-24T17:21:28.815670Z",
     "iopub.status.busy": "2021-05-24T17:21:28.814493Z",
     "iopub.status.idle": "2021-05-24T17:21:28.832662Z",
     "shell.execute_reply": "2021-05-24T17:21:28.833182Z",
     "shell.execute_reply.started": "2021-05-24T17:19:08.776666Z"
    },
    "papermill": {
     "duration": 0.111362,
     "end_time": "2021-05-24T17:21:28.833378",
     "exception": false,
     "start_time": "2021-05-24T17:21:28.722016",
     "status": "completed"
    },
    "tags": []
   },
   "outputs": [
    {
     "data": {
      "text/html": [
       "<div>\n",
       "<style scoped>\n",
       "    .dataframe tbody tr th:only-of-type {\n",
       "        vertical-align: middle;\n",
       "    }\n",
       "\n",
       "    .dataframe tbody tr th {\n",
       "        vertical-align: top;\n",
       "    }\n",
       "\n",
       "    .dataframe thead th {\n",
       "        text-align: right;\n",
       "    }\n",
       "</style>\n",
       "<table border=\"1\" class=\"dataframe\">\n",
       "  <thead>\n",
       "    <tr style=\"text-align: right;\">\n",
       "      <th></th>\n",
       "      <th>id</th>\n",
       "      <th>belongs_to_collection</th>\n",
       "      <th>budget</th>\n",
       "      <th>genres</th>\n",
       "      <th>homepage</th>\n",
       "      <th>imdb_id</th>\n",
       "      <th>original_language</th>\n",
       "      <th>original_title</th>\n",
       "      <th>overview</th>\n",
       "      <th>popularity</th>\n",
       "      <th>...</th>\n",
       "      <th>status</th>\n",
       "      <th>tagline</th>\n",
       "      <th>title</th>\n",
       "      <th>Keywords</th>\n",
       "      <th>cast</th>\n",
       "      <th>crew</th>\n",
       "      <th>revenue</th>\n",
       "      <th>popularity2</th>\n",
       "      <th>rating</th>\n",
       "      <th>totalVotes</th>\n",
       "    </tr>\n",
       "  </thead>\n",
       "  <tbody>\n",
       "    <tr>\n",
       "      <th>0</th>\n",
       "      <td>1</td>\n",
       "      <td>[{'id': 313576, 'name': 'Hot Tub Time Machine ...</td>\n",
       "      <td>14000000</td>\n",
       "      <td>[{'id': 35, 'name': 'Comedy'}]</td>\n",
       "      <td>NaN</td>\n",
       "      <td>tt2637294</td>\n",
       "      <td>en</td>\n",
       "      <td>Hot Tub Time Machine 2</td>\n",
       "      <td>When Lou, who has become the \"father of the In...</td>\n",
       "      <td>6.575393</td>\n",
       "      <td>...</td>\n",
       "      <td>Released</td>\n",
       "      <td>The Laws of Space and Time are About to be Vio...</td>\n",
       "      <td>Hot Tub Time Machine 2</td>\n",
       "      <td>[{'id': 4379, 'name': 'time travel'}, {'id': 9...</td>\n",
       "      <td>[{'cast_id': 4, 'character': 'Lou', 'credit_id...</td>\n",
       "      <td>[{'credit_id': '59ac067c92514107af02c8c8', 'de...</td>\n",
       "      <td>12314651</td>\n",
       "      <td>10.400</td>\n",
       "      <td>5.0</td>\n",
       "      <td>482.0</td>\n",
       "    </tr>\n",
       "    <tr>\n",
       "      <th>1</th>\n",
       "      <td>2</td>\n",
       "      <td>[{'id': 107674, 'name': 'The Princess Diaries ...</td>\n",
       "      <td>40000000</td>\n",
       "      <td>[{'id': 35, 'name': 'Comedy'}, {'id': 18, 'nam...</td>\n",
       "      <td>NaN</td>\n",
       "      <td>tt0368933</td>\n",
       "      <td>en</td>\n",
       "      <td>The Princess Diaries 2: Royal Engagement</td>\n",
       "      <td>Mia Thermopolis is now a college graduate and ...</td>\n",
       "      <td>8.248895</td>\n",
       "      <td>...</td>\n",
       "      <td>Released</td>\n",
       "      <td>It can take a lifetime to find true love; she'...</td>\n",
       "      <td>The Princess Diaries 2: Royal Engagement</td>\n",
       "      <td>[{'id': 2505, 'name': 'coronation'}, {'id': 42...</td>\n",
       "      <td>[{'cast_id': 1, 'character': 'Mia Thermopolis'...</td>\n",
       "      <td>[{'credit_id': '52fe43fe9251416c7502563d', 'de...</td>\n",
       "      <td>95149435</td>\n",
       "      <td>15.229</td>\n",
       "      <td>6.4</td>\n",
       "      <td>1528.0</td>\n",
       "    </tr>\n",
       "    <tr>\n",
       "      <th>2</th>\n",
       "      <td>3</td>\n",
       "      <td>NaN</td>\n",
       "      <td>3300000</td>\n",
       "      <td>[{'id': 18, 'name': 'Drama'}]</td>\n",
       "      <td>http://sonyclassics.com/whiplash/</td>\n",
       "      <td>tt2582802</td>\n",
       "      <td>en</td>\n",
       "      <td>Whiplash</td>\n",
       "      <td>Under the direction of a ruthless instructor, ...</td>\n",
       "      <td>64.299990</td>\n",
       "      <td>...</td>\n",
       "      <td>Released</td>\n",
       "      <td>The road to greatness can take you to the edge.</td>\n",
       "      <td>Whiplash</td>\n",
       "      <td>[{'id': 1416, 'name': 'jazz'}, {'id': 1523, 'n...</td>\n",
       "      <td>[{'cast_id': 5, 'character': 'Andrew Neimann',...</td>\n",
       "      <td>[{'credit_id': '54d5356ec3a3683ba0000039', 'de...</td>\n",
       "      <td>13092000</td>\n",
       "      <td>26.082</td>\n",
       "      <td>8.4</td>\n",
       "      <td>7314.0</td>\n",
       "    </tr>\n",
       "    <tr>\n",
       "      <th>3</th>\n",
       "      <td>4</td>\n",
       "      <td>NaN</td>\n",
       "      <td>1200000</td>\n",
       "      <td>[{'id': 53, 'name': 'Thriller'}, {'id': 18, 'n...</td>\n",
       "      <td>http://kahaanithefilm.com/</td>\n",
       "      <td>tt1821480</td>\n",
       "      <td>hi</td>\n",
       "      <td>Kahaani</td>\n",
       "      <td>Vidya Bagchi (Vidya Balan) arrives in Kolkata ...</td>\n",
       "      <td>3.174936</td>\n",
       "      <td>...</td>\n",
       "      <td>Released</td>\n",
       "      <td>NaN</td>\n",
       "      <td>Kahaani</td>\n",
       "      <td>[{'id': 10092, 'name': 'mystery'}, {'id': 1054...</td>\n",
       "      <td>[{'cast_id': 1, 'character': 'Vidya Bagchi', '...</td>\n",
       "      <td>[{'credit_id': '52fe48779251416c9108d6eb', 'de...</td>\n",
       "      <td>16000000</td>\n",
       "      <td>5.531</td>\n",
       "      <td>7.5</td>\n",
       "      <td>115.0</td>\n",
       "    </tr>\n",
       "    <tr>\n",
       "      <th>4</th>\n",
       "      <td>5</td>\n",
       "      <td>NaN</td>\n",
       "      <td>0</td>\n",
       "      <td>[{'id': 28, 'name': 'Action'}, {'id': 53, 'nam...</td>\n",
       "      <td>NaN</td>\n",
       "      <td>tt1380152</td>\n",
       "      <td>ko</td>\n",
       "      <td>마린보이</td>\n",
       "      <td>Marine Boy is the story of a former national s...</td>\n",
       "      <td>1.148070</td>\n",
       "      <td>...</td>\n",
       "      <td>Released</td>\n",
       "      <td>NaN</td>\n",
       "      <td>Marine Boy</td>\n",
       "      <td>NaN</td>\n",
       "      <td>[{'cast_id': 3, 'character': 'Chun-soo', 'cred...</td>\n",
       "      <td>[{'credit_id': '52fe464b9251416c75073b43', 'de...</td>\n",
       "      <td>3923970</td>\n",
       "      <td>NaN</td>\n",
       "      <td>NaN</td>\n",
       "      <td>NaN</td>\n",
       "    </tr>\n",
       "  </tbody>\n",
       "</table>\n",
       "<p>5 rows × 26 columns</p>\n",
       "</div>"
      ],
      "text/plain": [
       "   id                              belongs_to_collection    budget  \\\n",
       "0   1  [{'id': 313576, 'name': 'Hot Tub Time Machine ...  14000000   \n",
       "1   2  [{'id': 107674, 'name': 'The Princess Diaries ...  40000000   \n",
       "2   3                                                NaN   3300000   \n",
       "3   4                                                NaN   1200000   \n",
       "4   5                                                NaN         0   \n",
       "\n",
       "                                              genres  \\\n",
       "0                     [{'id': 35, 'name': 'Comedy'}]   \n",
       "1  [{'id': 35, 'name': 'Comedy'}, {'id': 18, 'nam...   \n",
       "2                      [{'id': 18, 'name': 'Drama'}]   \n",
       "3  [{'id': 53, 'name': 'Thriller'}, {'id': 18, 'n...   \n",
       "4  [{'id': 28, 'name': 'Action'}, {'id': 53, 'nam...   \n",
       "\n",
       "                            homepage    imdb_id original_language  \\\n",
       "0                                NaN  tt2637294                en   \n",
       "1                                NaN  tt0368933                en   \n",
       "2  http://sonyclassics.com/whiplash/  tt2582802                en   \n",
       "3         http://kahaanithefilm.com/  tt1821480                hi   \n",
       "4                                NaN  tt1380152                ko   \n",
       "\n",
       "                             original_title  \\\n",
       "0                    Hot Tub Time Machine 2   \n",
       "1  The Princess Diaries 2: Royal Engagement   \n",
       "2                                  Whiplash   \n",
       "3                                   Kahaani   \n",
       "4                                      마린보이   \n",
       "\n",
       "                                            overview  popularity  ...  \\\n",
       "0  When Lou, who has become the \"father of the In...    6.575393  ...   \n",
       "1  Mia Thermopolis is now a college graduate and ...    8.248895  ...   \n",
       "2  Under the direction of a ruthless instructor, ...   64.299990  ...   \n",
       "3  Vidya Bagchi (Vidya Balan) arrives in Kolkata ...    3.174936  ...   \n",
       "4  Marine Boy is the story of a former national s...    1.148070  ...   \n",
       "\n",
       "     status                                            tagline  \\\n",
       "0  Released  The Laws of Space and Time are About to be Vio...   \n",
       "1  Released  It can take a lifetime to find true love; she'...   \n",
       "2  Released    The road to greatness can take you to the edge.   \n",
       "3  Released                                                NaN   \n",
       "4  Released                                                NaN   \n",
       "\n",
       "                                      title  \\\n",
       "0                    Hot Tub Time Machine 2   \n",
       "1  The Princess Diaries 2: Royal Engagement   \n",
       "2                                  Whiplash   \n",
       "3                                   Kahaani   \n",
       "4                                Marine Boy   \n",
       "\n",
       "                                            Keywords  \\\n",
       "0  [{'id': 4379, 'name': 'time travel'}, {'id': 9...   \n",
       "1  [{'id': 2505, 'name': 'coronation'}, {'id': 42...   \n",
       "2  [{'id': 1416, 'name': 'jazz'}, {'id': 1523, 'n...   \n",
       "3  [{'id': 10092, 'name': 'mystery'}, {'id': 1054...   \n",
       "4                                                NaN   \n",
       "\n",
       "                                                cast  \\\n",
       "0  [{'cast_id': 4, 'character': 'Lou', 'credit_id...   \n",
       "1  [{'cast_id': 1, 'character': 'Mia Thermopolis'...   \n",
       "2  [{'cast_id': 5, 'character': 'Andrew Neimann',...   \n",
       "3  [{'cast_id': 1, 'character': 'Vidya Bagchi', '...   \n",
       "4  [{'cast_id': 3, 'character': 'Chun-soo', 'cred...   \n",
       "\n",
       "                                                crew   revenue popularity2  \\\n",
       "0  [{'credit_id': '59ac067c92514107af02c8c8', 'de...  12314651      10.400   \n",
       "1  [{'credit_id': '52fe43fe9251416c7502563d', 'de...  95149435      15.229   \n",
       "2  [{'credit_id': '54d5356ec3a3683ba0000039', 'de...  13092000      26.082   \n",
       "3  [{'credit_id': '52fe48779251416c9108d6eb', 'de...  16000000       5.531   \n",
       "4  [{'credit_id': '52fe464b9251416c75073b43', 'de...   3923970         NaN   \n",
       "\n",
       "  rating totalVotes  \n",
       "0    5.0      482.0  \n",
       "1    6.4     1528.0  \n",
       "2    8.4     7314.0  \n",
       "3    7.5      115.0  \n",
       "4    NaN        NaN  \n",
       "\n",
       "[5 rows x 26 columns]"
      ]
     },
     "execution_count": 161,
     "metadata": {},
     "output_type": "execute_result"
    }
   ],
   "source": [
    "train.head()"
   ]
  },
  {
   "cell_type": "markdown",
   "id": "linear-startup",
   "metadata": {
    "papermill": {
     "duration": 0.067111,
     "end_time": "2021-05-24T17:21:29.347172",
     "exception": false,
     "start_time": "2021-05-24T17:21:29.280061",
     "status": "completed"
    },
    "tags": []
   },
   "source": [
    "### 잘못된 데이터 값 수정 (kaggel 에서 제공되어있음)"
   ]
  },
  {
   "cell_type": "code",
   "execution_count": 162,
   "id": "indie-montgomery",
   "metadata": {
    "execution": {
     "iopub.execute_input": "2021-05-24T17:21:29.535077Z",
     "iopub.status.busy": "2021-05-24T17:21:29.519401Z",
     "iopub.status.idle": "2021-05-24T17:21:29.646051Z",
     "shell.execute_reply": "2021-05-24T17:21:29.645545Z",
     "shell.execute_reply.started": "2021-05-24T17:19:08.901973Z"
    },
    "papermill": {
     "duration": 0.232083,
     "end_time": "2021-05-24T17:21:29.646199",
     "exception": false,
     "start_time": "2021-05-24T17:21:29.414116",
     "status": "completed"
    },
    "tags": []
   },
   "outputs": [],
   "source": [
    "train.loc[train['id'] == 16,'revenue'] = 192864          # Skinning\n",
    "train.loc[train['id'] == 90,'budget'] = 30000000         # Sommersby          \n",
    "train.loc[train['id'] == 118,'budget'] = 60000000        # Wild Hogs\n",
    "train.loc[train['id'] == 149,'budget'] = 18000000        # Beethoven\n",
    "train.loc[train['id'] == 313,'revenue'] = 12000000       # The Cookout \n",
    "train.loc[train['id'] == 451,'revenue'] = 12000000       # Chasing Liberty\n",
    "train.loc[train['id'] == 464,'budget'] = 20000000        # Parenthood\n",
    "train.loc[train['id'] == 470,'budget'] = 13000000        # The Karate Kid, Part II\n",
    "train.loc[train['id'] == 513,'budget'] = 930000          # From Prada to Nada\n",
    "train.loc[train['id'] == 797,'budget'] = 8000000         # Welcome to Dongmakgol\n",
    "train.loc[train['id'] == 819,'budget'] = 90000000        # Alvin and the Chipmunks: The Road Chip\n",
    "train.loc[train['id'] == 850,'budget'] = 90000000        # Modern Times\n",
    "train.loc[train['id'] == 1007,'budget'] = 2              # Zyzzyx Road \n",
    "train.loc[train['id'] == 1112,'budget'] = 7500000        # An Officer and a Gentleman\n",
    "train.loc[train['id'] == 1131,'budget'] = 4300000        # Smokey and the Bandit   \n",
    "train.loc[train['id'] == 1359,'budget'] = 10000000       # Stir Crazy \n",
    "train.loc[train['id'] == 1542,'budget'] = 1              # All at Once\n",
    "train.loc[train['id'] == 1570,'budget'] = 15800000       # Crocodile Dundee II\n",
    "train.loc[train['id'] == 1571,'budget'] = 4000000        # Lady and the Tramp\n",
    "train.loc[train['id'] == 1714,'budget'] = 46000000       # The Recruit\n",
    "train.loc[train['id'] == 1721,'budget'] = 17500000       # Cocoon\n",
    "train.loc[train['id'] == 1865,'revenue'] = 25000000      # Scooby-Doo 2: Monsters Unleashed\n",
    "train.loc[train['id'] == 1885,'budget'] = 12             # In the Cut\n",
    "train.loc[train['id'] == 2091,'budget'] = 10             # Deadfall\n",
    "train.loc[train['id'] == 2268,'budget'] = 17500000       # Madea Goes to Jail budget\n",
    "train.loc[train['id'] == 2491,'budget'] = 6              # Never Talk to Strangers\n",
    "train.loc[train['id'] == 2602,'budget'] = 31000000       # Mr. Holland's Opus\n",
    "train.loc[train['id'] == 2612,'budget'] = 15000000       # Field of Dreams\n",
    "train.loc[train['id'] == 2696,'budget'] = 10000000       # Nurse 3-D\n",
    "train.loc[train['id'] == 2801,'budget'] = 10000000       # Fracture\n",
    "train.loc[train['id'] == 335,'budget'] = 2 \n",
    "train.loc[train['id'] == 348,'budget'] = 12\n",
    "train.loc[train['id'] == 470,'budget'] = 13000000 \n",
    "train.loc[train['id'] == 513,'budget'] = 1100000\n",
    "train.loc[train['id'] == 640,'budget'] = 6 \n",
    "train.loc[train['id'] == 696,'budget'] = 1\n",
    "train.loc[train['id'] == 797,'budget'] = 8000000 \n",
    "train.loc[train['id'] == 850,'budget'] = 1500000\n",
    "train.loc[train['id'] == 1199,'budget'] = 5 \n",
    "train.loc[train['id'] == 1282,'budget'] = 9               # Death at a Funeral\n",
    "train.loc[train['id'] == 1347,'budget'] = 1\n",
    "train.loc[train['id'] == 1755,'budget'] = 2\n",
    "train.loc[train['id'] == 1801,'budget'] = 5\n",
    "train.loc[train['id'] == 1918,'budget'] = 592 \n",
    "train.loc[train['id'] == 2033,'budget'] = 4\n",
    "train.loc[train['id'] == 2118,'budget'] = 344 \n",
    "train.loc[train['id'] == 2252,'budget'] = 130\n",
    "train.loc[train['id'] == 2256,'budget'] = 1 \n",
    "train.loc[train['id'] == 2696,'budget'] = 10000000\n",
    "\n",
    "\n",
    "test.loc[test['id'] == 6733,'budget'] = 5000000\n",
    "test.loc[test['id'] == 3889,'budget'] = 15000000\n",
    "test.loc[test['id'] == 6683,'budget'] = 50000000\n",
    "test.loc[test['id'] == 5704,'budget'] = 4300000\n",
    "test.loc[test['id'] == 6109,'budget'] = 281756\n",
    "test.loc[test['id'] == 7242,'budget'] = 10000000\n",
    "test.loc[test['id'] == 7021,'budget'] = 17540562       #  Two Is a Family\n",
    "test.loc[test['id'] == 5591,'budget'] = 4000000        # The Orphanage\n",
    "test.loc[test['id'] == 4282,'budget'] = 20000000       # Big Top Pee-wee\n",
    "test.loc[test['id'] == 3033,'budget'] = 250 \n",
    "test.loc[test['id'] == 3051,'budget'] = 50\n",
    "test.loc[test['id'] == 3084,'budget'] = 337\n",
    "test.loc[test['id'] == 3224,'budget'] = 4  \n",
    "test.loc[test['id'] == 3594,'budget'] = 25  \n",
    "test.loc[test['id'] == 3619,'budget'] = 500  \n",
    "test.loc[test['id'] == 3831,'budget'] = 3  \n",
    "test.loc[test['id'] == 3935,'budget'] = 500  \n",
    "test.loc[test['id'] == 4049,'budget'] = 995946 \n",
    "test.loc[test['id'] == 4424,'budget'] = 3  \n",
    "test.loc[test['id'] == 4460,'budget'] = 8  \n",
    "test.loc[test['id'] == 4555,'budget'] = 1200000 \n",
    "test.loc[test['id'] == 4624,'budget'] = 30 \n",
    "test.loc[test['id'] == 4645,'budget'] = 500 \n",
    "test.loc[test['id'] == 4709,'budget'] = 450 \n",
    "test.loc[test['id'] == 4839,'budget'] = 7\n",
    "test.loc[test['id'] == 3125,'budget'] = 25 \n",
    "test.loc[test['id'] == 3142,'budget'] = 1\n",
    "test.loc[test['id'] == 3201,'budget'] = 450\n",
    "test.loc[test['id'] == 3222,'budget'] = 6\n",
    "test.loc[test['id'] == 3545,'budget'] = 38\n",
    "test.loc[test['id'] == 3670,'budget'] = 18\n",
    "test.loc[test['id'] == 3792,'budget'] = 19\n",
    "test.loc[test['id'] == 3881,'budget'] = 7\n",
    "test.loc[test['id'] == 3969,'budget'] = 400\n",
    "test.loc[test['id'] == 4196,'budget'] = 6\n",
    "test.loc[test['id'] == 4221,'budget'] = 11\n",
    "test.loc[test['id'] == 4222,'budget'] = 500\n",
    "test.loc[test['id'] == 4285,'budget'] = 11\n",
    "test.loc[test['id'] == 4319,'budget'] = 1\n",
    "test.loc[test['id'] == 4639,'budget'] = 10\n",
    "test.loc[test['id'] == 4719,'budget'] = 45\n",
    "test.loc[test['id'] == 4822,'budget'] = 22\n",
    "test.loc[test['id'] == 4829,'budget'] = 20\n",
    "test.loc[test['id'] == 4969,'budget'] = 20\n",
    "test.loc[test['id'] == 5021,'budget'] = 40 \n",
    "test.loc[test['id'] == 5035,'budget'] = 1 \n",
    "test.loc[test['id'] == 5063,'budget'] = 14 \n",
    "test.loc[test['id'] == 5119,'budget'] = 2 \n",
    "test.loc[test['id'] == 5214,'budget'] = 30 \n",
    "test.loc[test['id'] == 5221,'budget'] = 50 \n",
    "test.loc[test['id'] == 4903,'budget'] = 15\n",
    "test.loc[test['id'] == 4983,'budget'] = 3\n",
    "test.loc[test['id'] == 5102,'budget'] = 28\n",
    "test.loc[test['id'] == 5217,'budget'] = 75\n",
    "test.loc[test['id'] == 5224,'budget'] = 3 \n",
    "test.loc[test['id'] == 5469,'budget'] = 20 \n",
    "test.loc[test['id'] == 5840,'budget'] = 1 \n",
    "test.loc[test['id'] == 5960,'budget'] = 30\n",
    "test.loc[test['id'] == 6506,'budget'] = 11 \n",
    "test.loc[test['id'] == 6553,'budget'] = 280\n",
    "test.loc[test['id'] == 6561,'budget'] = 7\n",
    "test.loc[test['id'] == 6582,'budget'] = 218\n",
    "test.loc[test['id'] == 6638,'budget'] = 5\n",
    "test.loc[test['id'] == 6749,'budget'] = 8 \n",
    "test.loc[test['id'] == 6759,'budget'] = 50 \n",
    "test.loc[test['id'] == 6856,'budget'] = 10\n",
    "test.loc[test['id'] == 6858,'budget'] =  100\n",
    "test.loc[test['id'] == 6876,'budget'] =  250\n",
    "test.loc[test['id'] == 6972,'budget'] = 1\n",
    "test.loc[test['id'] == 7079,'budget'] = 8000000\n",
    "test.loc[test['id'] == 7150,'budget'] = 118\n",
    "test.loc[test['id'] == 6506,'budget'] = 118\n",
    "test.loc[test['id'] == 7225,'budget'] = 6\n",
    "test.loc[test['id'] == 7231,'budget'] = 85\n",
    "test.loc[test['id'] == 5222,'budget'] = 5\n",
    "test.loc[test['id'] == 5322,'budget'] = 90\n",
    "test.loc[test['id'] == 5350,'budget'] = 70\n",
    "test.loc[test['id'] == 5378,'budget'] = 10\n",
    "test.loc[test['id'] == 5545,'budget'] = 80\n",
    "test.loc[test['id'] == 5810,'budget'] = 8\n",
    "test.loc[test['id'] == 5926,'budget'] = 300\n",
    "test.loc[test['id'] == 5927,'budget'] = 4\n",
    "test.loc[test['id'] == 5986,'budget'] = 1\n",
    "test.loc[test['id'] == 6053,'budget'] = 20\n",
    "test.loc[test['id'] == 6104,'budget'] = 1\n",
    "test.loc[test['id'] == 6130,'budget'] = 30\n",
    "test.loc[test['id'] == 6301,'budget'] = 150\n",
    "test.loc[test['id'] == 6276,'budget'] = 100\n",
    "test.loc[test['id'] == 6473,'budget'] = 100\n",
    "test.loc[test['id'] == 6842,'budget'] = 30"
   ]
  },
  {
   "cell_type": "markdown",
   "id": "apart-lodge",
   "metadata": {
    "papermill": {
     "duration": 0.068225,
     "end_time": "2021-05-24T17:21:29.781312",
     "exception": false,
     "start_time": "2021-05-24T17:21:29.713087",
     "status": "completed"
    },
    "tags": []
   },
   "source": [
    "### 결측치 확인"
   ]
  },
  {
   "cell_type": "code",
   "execution_count": 163,
   "id": "unlikely-hypothesis",
   "metadata": {
    "execution": {
     "iopub.execute_input": "2021-05-24T17:21:29.927640Z",
     "iopub.status.busy": "2021-05-24T17:21:29.926646Z",
     "iopub.status.idle": "2021-05-24T17:21:29.934150Z",
     "shell.execute_reply": "2021-05-24T17:21:29.933667Z",
     "shell.execute_reply.started": "2021-05-24T17:19:09.032316Z"
    },
    "papermill": {
     "duration": 0.085878,
     "end_time": "2021-05-24T17:21:29.934310",
     "exception": false,
     "start_time": "2021-05-24T17:21:29.848432",
     "status": "completed"
    },
    "tags": []
   },
   "outputs": [
    {
     "data": {
      "text/plain": [
       "id                          0\n",
       "belongs_to_collection    2396\n",
       "budget                      0\n",
       "genres                      7\n",
       "homepage                 2054\n",
       "imdb_id                     0\n",
       "original_language           0\n",
       "original_title              0\n",
       "overview                    8\n",
       "popularity                  0\n",
       "poster_path                 1\n",
       "production_companies      156\n",
       "production_countries       55\n",
       "release_date                0\n",
       "runtime                     2\n",
       "spoken_languages           20\n",
       "status                      0\n",
       "tagline                   597\n",
       "title                       0\n",
       "Keywords                  276\n",
       "cast                       13\n",
       "crew                       16\n",
       "revenue                     0\n",
       "popularity2               118\n",
       "rating                    118\n",
       "totalVotes                118\n",
       "dtype: int64"
      ]
     },
     "execution_count": 163,
     "metadata": {},
     "output_type": "execute_result"
    }
   ],
   "source": [
    "train.isna().sum()"
   ]
  },
  {
   "cell_type": "markdown",
   "id": "nervous-palmer",
   "metadata": {
    "papermill": {
     "duration": 0.073512,
     "end_time": "2021-05-24T17:21:34.152608",
     "exception": false,
     "start_time": "2021-05-24T17:21:34.079096",
     "status": "completed"
    },
    "tags": []
   },
   "source": [
    "### train 히트맵"
   ]
  },
  {
   "cell_type": "code",
   "execution_count": 164,
   "id": "regulated-broadcast",
   "metadata": {
    "execution": {
     "iopub.execute_input": "2021-05-24T17:21:34.310106Z",
     "iopub.status.busy": "2021-05-24T17:21:34.309112Z",
     "iopub.status.idle": "2021-05-24T17:21:35.327464Z",
     "shell.execute_reply": "2021-05-24T17:21:35.327916Z",
     "shell.execute_reply.started": "2021-05-24T17:19:11.835960Z"
    },
    "papermill": {
     "duration": 1.10227,
     "end_time": "2021-05-24T17:21:35.328096",
     "exception": false,
     "start_time": "2021-05-24T17:21:34.225826",
     "status": "completed"
    },
    "tags": []
   },
   "outputs": [
    {
     "data": {
      "text/plain": [
       "<AxesSubplot:>"
      ]
     },
     "execution_count": 164,
     "metadata": {},
     "output_type": "execute_result"
    },
    {
     "data": {
      "image/png": "[encoded data removed]",
      "text/plain": [
       "<Figure size 1440x864 with 2 Axes>"
      ]
     },
     "metadata": {
      "needs_background": "light"
     },
     "output_type": "display_data"
    }
   ],
   "source": [
    "msngno.heatmap(train)"
   ]
  },
  {
   "cell_type": "markdown",
   "id": "widespread-clarity",
   "metadata": {
    "papermill": {
     "duration": 0.076509,
     "end_time": "2021-05-24T17:21:35.691128",
     "exception": false,
     "start_time": "2021-05-24T17:21:35.614619",
     "status": "completed"
    },
    "tags": []
   },
   "source": [
    "#### JSON 형식의 feature를 Dictinary 형태로  변환"
   ]
  },
  {
   "cell_type": "code",
   "execution_count": 165,
   "id": "indoor-castle",
   "metadata": {
    "execution": {
     "iopub.execute_input": "2021-05-24T17:21:35.885342Z",
     "iopub.status.busy": "2021-05-24T17:21:35.880178Z",
     "iopub.status.idle": "2021-05-24T17:21:48.931442Z",
     "shell.execute_reply": "2021-05-24T17:21:48.930913Z",
     "shell.execute_reply.started": "2021-05-24T17:19:12.748358Z"
    },
    "papermill": {
     "duration": 13.16333,
     "end_time": "2021-05-24T17:21:48.931591",
     "exception": false,
     "start_time": "2021-05-24T17:21:35.768261",
     "status": "completed"
    },
    "tags": []
   },
   "outputs": [],
   "source": [
    "dict_columns = ['belongs_to_collection', 'genres', 'production_companies',\n",
    "                'production_countries', 'spoken_languages', 'Keywords', 'cast', 'crew']\n",
    "\n",
    "def text_to_dict(df):\n",
    "    for column in dict_columns:\n",
    "        df[column] = df[column].apply(lambda x: {} if pd.isna(x) else ast.literal_eval(x) )\n",
    "    return df\n",
    "        \n",
    "train = text_to_dict(train)\n",
    "test = text_to_dict(test)"
   ]
  },
  {
   "cell_type": "code",
   "execution_count": 166,
   "id": "633dbfe5",
   "metadata": {},
   "outputs": [
    {
     "data": {
      "text/plain": [
       "id                          0\n",
       "belongs_to_collection       0\n",
       "budget                      0\n",
       "genres                      0\n",
       "homepage                 2054\n",
       "imdb_id                     0\n",
       "original_language           0\n",
       "original_title              0\n",
       "overview                    8\n",
       "popularity                  0\n",
       "poster_path                 1\n",
       "production_companies        0\n",
       "production_countries        0\n",
       "release_date                0\n",
       "runtime                     2\n",
       "spoken_languages            0\n",
       "status                      0\n",
       "tagline                   597\n",
       "title                       0\n",
       "Keywords                    0\n",
       "cast                        0\n",
       "crew                        0\n",
       "revenue                     0\n",
       "popularity2               118\n",
       "rating                    118\n",
       "totalVotes                118\n",
       "dtype: int64"
      ]
     },
     "execution_count": 166,
     "metadata": {},
     "output_type": "execute_result"
    }
   ],
   "source": [
    "train.isna().sum()"
   ]
  },
  {
   "cell_type": "markdown",
   "id": "agricultural-status",
   "metadata": {
    "papermill": {
     "duration": 0.078385,
     "end_time": "2021-05-24T17:21:49.430037",
     "exception": false,
     "start_time": "2021-05-24T17:21:49.351652",
     "status": "completed"
    },
    "tags": []
   },
   "source": [
    "#### release_date를 연, 월, 일 로 나눠서 매핑"
   ]
  },
  {
   "cell_type": "code",
   "execution_count": 167,
   "id": "improving-conversation",
   "metadata": {
    "execution": {
     "iopub.execute_input": "2021-05-24T17:21:49.647137Z",
     "iopub.status.busy": "2021-05-24T17:21:49.611085Z",
     "iopub.status.idle": "2021-05-24T17:21:51.385719Z",
     "shell.execute_reply": "2021-05-24T17:21:51.386287Z",
     "shell.execute_reply.started": "2021-05-24T17:19:24.466460Z"
    },
    "papermill": {
     "duration": 1.877317,
     "end_time": "2021-05-24T17:21:51.386473",
     "exception": false,
     "start_time": "2021-05-24T17:21:49.509156",
     "status": "completed"
    },
    "tags": []
   },
   "outputs": [],
   "source": [
    "train['release_year']=pd.to_datetime(train['release_date']).dt.year\n",
    "train['release_month']=pd.to_datetime(train['release_date']).dt.month\n",
    "train['release_day']=pd.to_datetime(train['release_date']).dt.dayofweek\n",
    "\n",
    "\n",
    "test['release_year']=pd.to_datetime(test['release_date']).dt.year\n",
    "test['release_month']=pd.to_datetime(test['release_date']).dt.month\n",
    "test['release_day']=pd.to_datetime(test['release_date']).dt.dayofweek\n"
   ]
  },
  {
   "cell_type": "markdown",
   "id": "charming-montgomery",
   "metadata": {
    "papermill": {
     "duration": 0.079755,
     "end_time": "2021-05-24T17:21:51.544167",
     "exception": false,
     "start_time": "2021-05-24T17:21:51.464412",
     "status": "completed"
    },
    "tags": []
   },
   "source": [
    "#### rating, totalVotes, runtime 특징 값들을 평균값으로 매핑"
   ]
  },
  {
   "cell_type": "code",
   "execution_count": 168,
   "id": "alternative-capacity",
   "metadata": {
    "execution": {
     "iopub.execute_input": "2021-05-24T17:21:51.710962Z",
     "iopub.status.busy": "2021-05-24T17:21:51.709914Z",
     "iopub.status.idle": "2021-05-24T17:21:51.718589Z",
     "shell.execute_reply": "2021-05-24T17:21:51.718054Z",
     "shell.execute_reply.started": "2021-05-24T17:19:25.792053Z"
    },
    "papermill": {
     "duration": 0.094679,
     "end_time": "2021-05-24T17:21:51.718735",
     "exception": false,
     "start_time": "2021-05-24T17:21:51.624056",
     "status": "completed"
    },
    "tags": []
   },
   "outputs": [],
   "source": [
    "train['rating']=train['rating'].fillna(train['rating'].mean())\n",
    "test['rating']=test['rating'].fillna(test['rating'].mean())\n",
    "\n",
    "train['totalVotes']=train['totalVotes'].fillna(train['totalVotes'].mean())\n",
    "train['totalVotes']=train['totalVotes'].round()\n",
    "test['totalVotes']=test['totalVotes'].fillna(test['totalVotes'].mean())\n",
    "test['totalVotes']=test['totalVotes'].round()\n",
    "\n",
    "train['runtime']=train['runtime'].fillna(train['runtime'].mean())\n",
    "test['runtime']=test['runtime'].fillna(test['runtime'].mean())"
   ]
  },
  {
   "cell_type": "markdown",
   "id": "thirty-secretary",
   "metadata": {
    "papermill": {
     "duration": 0.078658,
     "end_time": "2021-05-24T17:21:52.227135",
     "exception": false,
     "start_time": "2021-05-24T17:21:52.148477",
     "status": "completed"
    },
    "tags": []
   },
   "source": [
    "#### 결측치가 있는 feature를 1,0으로 매핑"
   ]
  },
  {
   "cell_type": "code",
   "execution_count": 169,
   "id": "concrete-tomato",
   "metadata": {
    "execution": {
     "iopub.execute_input": "2021-05-24T17:21:52.417092Z",
     "iopub.status.busy": "2021-05-24T17:21:52.415517Z",
     "iopub.status.idle": "2021-05-24T17:21:52.420530Z",
     "shell.execute_reply": "2021-05-24T17:21:52.419972Z",
     "shell.execute_reply.started": "2021-05-24T17:19:25.954890Z"
    },
    "papermill": {
     "duration": 0.111576,
     "end_time": "2021-05-24T17:21:52.420684",
     "exception": false,
     "start_time": "2021-05-24T17:21:52.309108",
     "status": "completed"
    },
    "tags": []
   },
   "outputs": [],
   "source": [
    "train['numberofgenres']=train['genres'].apply(lambda x: len(x) if x != {} else 0)\n",
    "train['nameofcollection'] = train['belongs_to_collection'].apply(lambda x: x[0]['name'] if x != {} else 0)\n",
    "train['genres_info'] = train['genres'].apply(lambda x: x[0]['name'] if x != {} else 0)\n",
    "train['language'] = train['spoken_languages'].apply(lambda x: x[0]['name'] if x != {} else 0)\n",
    "train['production_country'] = train['production_countries'].apply(lambda x: x[0]['name'] if x != {} else 0)\n",
    "train['production_company'] = train['production_companies'].apply(lambda x: x[0]['name'] if x != {} else 0)"
   ]
  },
  {
   "cell_type": "code",
   "execution_count": 170,
   "id": "animated-protein",
   "metadata": {
    "execution": {
     "iopub.execute_input": "2021-05-24T17:21:52.592311Z",
     "iopub.status.busy": "2021-05-24T17:21:52.591274Z",
     "iopub.status.idle": "2021-05-24T17:21:52.614255Z",
     "shell.execute_reply": "2021-05-24T17:21:52.613724Z",
     "shell.execute_reply.started": "2021-05-24T17:19:25.978017Z"
    },
    "papermill": {
     "duration": 0.114251,
     "end_time": "2021-05-24T17:21:52.614417",
     "exception": false,
     "start_time": "2021-05-24T17:21:52.500166",
     "status": "completed"
    },
    "tags": []
   },
   "outputs": [],
   "source": [
    "test['numberofgenres']=train['genres'].apply(lambda x: len(x) if x != {} else 0)\n",
    "test['numberofgenres']=test['numberofgenres'].replace(np.nan,0)\n",
    "test['nameofcollection'] = test['belongs_to_collection'].apply(lambda x: x[0]['name'] if x != {} else 0)\n",
    "test['genres_info'] = test['genres'].apply(lambda x: x[0]['name'] if x != {} else 0)\n",
    "test['language'] = test['spoken_languages'].apply(lambda x: x[0]['name'] if x != {} else 0)\n",
    "test['production_country'] = test['production_countries'].apply(lambda x: x[0]['name'] if x != {} else 0)\n",
    "test['production_company'] = test['production_companies'].apply(lambda x: x[0]['name'] if x != {} else 0)"
   ]
  },
  {
   "cell_type": "markdown",
   "id": "renewable-adjustment",
   "metadata": {
    "papermill": {
     "duration": 0.086531,
     "end_time": "2021-05-24T17:21:54.469959",
     "exception": false,
     "start_time": "2021-05-24T17:21:54.383428",
     "status": "completed"
    },
    "tags": []
   },
   "source": [
    "#### Feature Engineering "
   ]
  },
  {
   "cell_type": "code",
   "execution_count": 171,
   "id": "urban-norman",
   "metadata": {
    "execution": {
     "iopub.execute_input": "2021-05-24T17:21:54.645815Z",
     "iopub.status.busy": "2021-05-24T17:21:54.644988Z",
     "iopub.status.idle": "2021-05-24T17:21:54.656607Z",
     "shell.execute_reply": "2021-05-24T17:21:54.656075Z",
     "shell.execute_reply.started": "2021-05-24T17:19:26.822956Z"
    },
    "papermill": {
     "duration": 0.103915,
     "end_time": "2021-05-24T17:21:54.656755",
     "exception": false,
     "start_time": "2021-05-24T17:21:54.552840",
     "status": "completed"
    },
    "tags": []
   },
   "outputs": [],
   "source": [
    "train['lang_english']=0\n",
    "train.loc[train['original_language'].astype(str)==\"en\",\"lang_english\"]=1\n",
    "\n",
    "# 예산과 런타임\n",
    "train['bud_runtime']=(train['budget']+1)/(train['runtime']+1)\n",
    "\n",
    "# 예산과 연도\n",
    "train['bud_year']=(train['budget']+1)/(train['release_year']+1)\n",
    "\n",
    "# 예산과 인기도\n",
    "train['bud_popularity']=(train['budget']+1)/(train['popularity']+1)\n",
    "\n",
    "# 런타임과 연도\n",
    "train['runtime_year']=(train['runtime']+1)/(train['release_year']+1)\n",
    "\n",
    "# 인기도와 연도\n",
    "train['popularity_year']=(train['popularity']+1)/(train['release_year']+1)"
   ]
  },
  {
   "cell_type": "code",
   "execution_count": 172,
   "id": "funny-intervention",
   "metadata": {
    "execution": {
     "iopub.execute_input": "2021-05-24T17:21:54.836854Z",
     "iopub.status.busy": "2021-05-24T17:21:54.835749Z",
     "iopub.status.idle": "2021-05-24T17:21:54.850664Z",
     "shell.execute_reply": "2021-05-24T17:21:54.850113Z",
     "shell.execute_reply.started": "2021-05-24T17:19:26.841268Z"
    },
    "papermill": {
     "duration": 0.107359,
     "end_time": "2021-05-24T17:21:54.850813",
     "exception": false,
     "start_time": "2021-05-24T17:21:54.743454",
     "status": "completed"
    },
    "tags": []
   },
   "outputs": [],
   "source": [
    "test['lang_english']=0\n",
    "test.loc[test['original_language'].astype(str)==\"en\",\"lang_english\"]=1\n",
    "\n",
    "test['bud_runtime']=(test['budget']+1)/(test['runtime']+1)\n",
    "\n",
    "test['bud_year']=(test['budget']+1)/(test['release_year']+1)\n",
    "\n",
    "test['bud_popularity']=(test['budget']+1)/(test['popularity']+1)\n",
    "\n",
    "test['runtime_year']=(test['runtime']+1)/(test['release_year']+1)\n",
    "\n",
    "test['popularity_year']=(test['popularity']+1)/(test['release_year']+1)"
   ]
  },
  {
   "cell_type": "markdown",
   "id": "adaptive-gallery",
   "metadata": {
    "papermill": {
     "duration": 0.081834,
     "end_time": "2021-05-24T17:21:55.014629",
     "exception": false,
     "start_time": "2021-05-24T17:21:54.932795",
     "status": "completed"
    },
    "tags": []
   },
   "source": [
    "#### 존재유뮤를 나타내는 feature 값을 0,1 로 매핑"
   ]
  },
  {
   "cell_type": "code",
   "execution_count": 173,
   "id": "hindu-alpha",
   "metadata": {
    "execution": {
     "iopub.execute_input": "2021-05-24T17:21:55.201390Z",
     "iopub.status.busy": "2021-05-24T17:21:55.200357Z",
     "iopub.status.idle": "2021-05-24T17:21:55.218727Z",
     "shell.execute_reply": "2021-05-24T17:21:55.218105Z",
     "shell.execute_reply.started": "2021-05-24T17:19:26.866937Z"
    },
    "papermill": {
     "duration": 0.111993,
     "end_time": "2021-05-24T17:21:55.218868",
     "exception": false,
     "start_time": "2021-05-24T17:21:55.106875",
     "status": "completed"
    },
    "tags": []
   },
   "outputs": [],
   "source": [
    "train['homepage'] = train['homepage'].fillna(0)\n",
    "train['homepage'] = train['homepage'].apply(lambda x: 0 if x==0 else 1)\n",
    "\n",
    "train['overview'] = train['overview'].fillna(0)\n",
    "train['overview'] = train['overview'].apply(lambda x: 0 if x==0 else 1)\n",
    "\n",
    "train['poster_path'] = train['poster_path'].fillna(0)\n",
    "train['poster_path'] = train['poster_path'].apply(lambda x: 0 if x==0 else 1)\n",
    "\n",
    "train['tagline'] = train['tagline'].fillna(0)\n",
    "train['tagline'] = train['tagline'].apply(lambda x: 0 if x==0 else 1)\n"
   ]
  },
  {
   "cell_type": "code",
   "execution_count": 174,
   "id": "electric-viking",
   "metadata": {
    "execution": {
     "iopub.execute_input": "2021-05-24T17:21:55.406050Z",
     "iopub.status.busy": "2021-05-24T17:21:55.404979Z",
     "iopub.status.idle": "2021-05-24T17:21:55.424099Z",
     "shell.execute_reply": "2021-05-24T17:21:55.424573Z",
     "shell.execute_reply.started": "2021-05-24T17:19:26.890949Z"
    },
    "papermill": {
     "duration": 0.122798,
     "end_time": "2021-05-24T17:21:55.424753",
     "exception": false,
     "start_time": "2021-05-24T17:21:55.301955",
     "status": "completed"
    },
    "tags": []
   },
   "outputs": [],
   "source": [
    "test['homepage'] = test['homepage'].fillna(0)\n",
    "test['homepage'] = test['homepage'].apply(lambda x: 0 if x==0 else 1)\n",
    "\n",
    "test['overview'] = test['overview'].fillna(0)\n",
    "test['overview'] = test['overview'].apply(lambda x: 0 if x==0 else 1)\n",
    "\n",
    "test['poster_path'] = test['overview'].fillna(0)\n",
    "test['poster_path'] = test['poster_path'].apply(lambda x: 0 if x==0 else 1)\n",
    "\n",
    "test['tagline'] = test['tagline'].fillna(0)\n",
    "test['tagline'] = test['tagline'].apply(lambda x: 0 if x==0 else 1)"
   ]
  },
  {
   "cell_type": "code",
   "execution_count": 175,
   "id": "unable-finance",
   "metadata": {
    "execution": {
     "iopub.execute_input": "2021-05-24T17:21:55.600814Z",
     "iopub.status.busy": "2021-05-24T17:21:55.599835Z",
     "iopub.status.idle": "2021-05-24T17:21:55.608072Z",
     "shell.execute_reply": "2021-05-24T17:21:55.607581Z",
     "shell.execute_reply.started": "2021-05-24T17:19:26.921416Z"
    },
    "papermill": {
     "duration": 0.101551,
     "end_time": "2021-05-24T17:21:55.608230",
     "exception": false,
     "start_time": "2021-05-24T17:21:55.506679",
     "status": "completed"
    },
    "tags": []
   },
   "outputs": [
    {
     "name": "stdout",
     "output_type": "stream",
     "text": [
      "<class 'pandas.core.frame.DataFrame'>\n",
      "Int64Index: 3000 entries, 0 to 2999\n",
      "Data columns (total 41 columns):\n",
      " #   Column                 Non-Null Count  Dtype  \n",
      "---  ------                 --------------  -----  \n",
      " 0   id                     3000 non-null   int64  \n",
      " 1   belongs_to_collection  3000 non-null   object \n",
      " 2   budget                 3000 non-null   int64  \n",
      " 3   genres                 3000 non-null   object \n",
      " 4   homepage               3000 non-null   int64  \n",
      " 5   imdb_id                3000 non-null   object \n",
      " 6   original_language      3000 non-null   object \n",
      " 7   original_title         3000 non-null   object \n",
      " 8   overview               3000 non-null   int64  \n",
      " 9   popularity             3000 non-null   float64\n",
      " 10  poster_path            3000 non-null   int64  \n",
      " 11  production_companies   3000 non-null   object \n",
      " 12  production_countries   3000 non-null   object \n",
      " 13  release_date           3000 non-null   object \n",
      " 14  runtime                3000 non-null   float64\n",
      " 15  spoken_languages       3000 non-null   object \n",
      " 16  status                 3000 non-null   object \n",
      " 17  tagline                3000 non-null   int64  \n",
      " 18  title                  3000 non-null   object \n",
      " 19  Keywords               3000 non-null   object \n",
      " 20  cast                   3000 non-null   object \n",
      " 21  crew                   3000 non-null   object \n",
      " 22  revenue                3000 non-null   int64  \n",
      " 23  popularity2            2882 non-null   float64\n",
      " 24  rating                 3000 non-null   float64\n",
      " 25  totalVotes             3000 non-null   float64\n",
      " 26  release_year           3000 non-null   int64  \n",
      " 27  release_month          3000 non-null   int64  \n",
      " 28  release_day            3000 non-null   int64  \n",
      " 29  numberofgenres         3000 non-null   int64  \n",
      " 30  nameofcollection       3000 non-null   object \n",
      " 31  genres_info            3000 non-null   object \n",
      " 32  language               3000 non-null   object \n",
      " 33  production_country     3000 non-null   object \n",
      " 34  production_company     3000 non-null   object \n",
      " 35  lang_english           3000 non-null   int64  \n",
      " 36  bud_runtime            3000 non-null   float64\n",
      " 37  bud_year               3000 non-null   float64\n",
      " 38  bud_popularity         3000 non-null   float64\n",
      " 39  runtime_year           3000 non-null   float64\n",
      " 40  popularity_year        3000 non-null   float64\n",
      "dtypes: float64(10), int64(12), object(19)\n",
      "memory usage: 1.0+ MB\n"
     ]
    }
   ],
   "source": [
    "train.info()"
   ]
  },
  {
   "cell_type": "markdown",
   "id": "instructional-domain",
   "metadata": {
    "papermill": {
     "duration": 0.08195,
     "end_time": "2021-05-24T17:21:55.961471",
     "exception": false,
     "start_time": "2021-05-24T17:21:55.879521",
     "status": "completed"
    },
    "tags": []
   },
   "source": [
    "#### 연도별 예산, 인기도, 런타임을 평균값으로 매핑"
   ]
  },
  {
   "cell_type": "code",
   "execution_count": 176,
   "id": "fifth-tragedy",
   "metadata": {
    "execution": {
     "iopub.execute_input": "2021-05-24T17:21:56.134536Z",
     "iopub.status.busy": "2021-05-24T17:21:56.133508Z",
     "iopub.status.idle": "2021-05-24T17:21:56.140947Z",
     "shell.execute_reply": "2021-05-24T17:21:56.141479Z",
     "shell.execute_reply.started": "2021-05-24T17:19:26.958446Z"
    },
    "papermill": {
     "duration": 0.098059,
     "end_time": "2021-05-24T17:21:56.141658",
     "exception": false,
     "start_time": "2021-05-24T17:21:56.043599",
     "status": "completed"
    },
    "tags": []
   },
   "outputs": [],
   "source": [
    "test['release_year']=test['release_year'].fillna(test['release_year'].mode()[0])\n",
    "test['release_month']=test['release_month'].fillna(test['release_month'].mode()[0])\n",
    "test['release_day']=test['release_day'].fillna(test['release_day'].mode()[0])\n",
    "\n",
    "test['bud_year']=test['bud_year'].fillna(test['bud_year'].mean())\n",
    "\n",
    "test['popularity_year']=test['popularity_year'].fillna(test['popularity_year'].mean())\n",
    "\n",
    "test['runtime_year']=test['runtime_year'].fillna(test['runtime_year'].mean())"
   ]
  },
  {
   "cell_type": "markdown",
   "id": "quality-george",
   "metadata": {
    "papermill": {
     "duration": 0.085661,
     "end_time": "2021-05-24T17:21:56.311514",
     "exception": false,
     "start_time": "2021-05-24T17:21:56.225853",
     "status": "completed"
    },
    "tags": []
   },
   "source": [
    "#### Release Month with Revenue"
   ]
  },
  {
   "cell_type": "code",
   "execution_count": 177,
   "id": "motivated-third",
   "metadata": {
    "execution": {
     "iopub.execute_input": "2021-05-24T17:21:58.300538Z",
     "iopub.status.busy": "2021-05-24T17:21:58.299329Z",
     "iopub.status.idle": "2021-05-24T17:21:58.458102Z",
     "shell.execute_reply": "2021-05-24T17:21:58.458620Z",
     "shell.execute_reply.started": "2021-05-24T17:19:27.295047Z"
    },
    "papermill": {
     "duration": 0.254364,
     "end_time": "2021-05-24T17:21:58.458788",
     "exception": false,
     "start_time": "2021-05-24T17:21:58.204424",
     "status": "completed"
    },
    "tags": []
   },
   "outputs": [
    {
     "data": {
      "text/plain": [
       "Text(0.5, 1.0, 'Release Month vs Revenue')"
      ]
     },
     "execution_count": 177,
     "metadata": {},
     "output_type": "execute_result"
    },
    {
     "data": {
      "image/png": "[encoded data removed]",
      "text/plain": [
       "<Figure size 432x288 with 1 Axes>"
      ]
     },
     "metadata": {
      "needs_background": "light"
     },
     "output_type": "display_data"
    }
   ],
   "source": [
    "train.groupby('release_month')['revenue'].mean().plot(color='black')\n",
    "plt.xlabel('Release_month',fontsize = 10)\n",
    "plt.ylabel('Revenue',fontsize = 10)\n",
    "plt.title(\"Release Month vs Revenue\")"
   ]
  },
  {
   "cell_type": "markdown",
   "id": "whole-river",
   "metadata": {
    "papermill": {
     "duration": 0.086197,
     "end_time": "2021-05-24T17:21:58.632790",
     "exception": false,
     "start_time": "2021-05-24T17:21:58.546593",
     "status": "completed"
    },
    "tags": []
   },
   "source": [
    "#### Release Day with Revenue"
   ]
  },
  {
   "cell_type": "code",
   "execution_count": 178,
   "id": "intended-jefferson",
   "metadata": {
    "execution": {
     "iopub.execute_input": "2021-05-24T17:21:58.815967Z",
     "iopub.status.busy": "2021-05-24T17:21:58.814886Z",
     "iopub.status.idle": "2021-05-24T17:21:58.988194Z",
     "shell.execute_reply": "2021-05-24T17:21:58.988646Z",
     "shell.execute_reply.started": "2021-05-24T17:19:27.427298Z"
    },
    "papermill": {
     "duration": 0.269603,
     "end_time": "2021-05-24T17:21:58.988825",
     "exception": false,
     "start_time": "2021-05-24T17:21:58.719222",
     "status": "completed"
    },
    "tags": []
   },
   "outputs": [
    {
     "data": {
      "text/plain": [
       "Text(0.5, 1.0, 'Release Day vs Revenue')"
      ]
     },
     "execution_count": 178,
     "metadata": {},
     "output_type": "execute_result"
    },
    {
     "data": {
      "image/png": "[encoded data removed]",
      "text/plain": [
       "<Figure size 432x288 with 1 Axes>"
      ]
     },
     "metadata": {
      "needs_background": "light"
     },
     "output_type": "display_data"
    }
   ],
   "source": [
    "train.groupby('release_day')['revenue'].mean().plot(color='black')\n",
    "plt.xlabel('Release_day',fontsize = 10)\n",
    "plt.ylabel('Revenue',fontsize = 10)\n",
    "plt.title(\"Release Day vs Revenue\")"
   ]
  },
  {
   "cell_type": "markdown",
   "id": "sealed-pizza",
   "metadata": {
    "papermill": {
     "duration": 0.090622,
     "end_time": "2021-05-24T17:22:00.701158",
     "exception": false,
     "start_time": "2021-05-24T17:22:00.610536",
     "status": "completed"
    },
    "tags": []
   },
   "source": [
    "#### Revenue VS Budget"
   ]
  },
  {
   "cell_type": "code",
   "execution_count": 179,
   "id": "smooth-invasion",
   "metadata": {
    "execution": {
     "iopub.execute_input": "2021-05-24T17:22:01.082065Z",
     "iopub.status.busy": "2021-05-24T17:22:01.076575Z",
     "iopub.status.idle": "2021-05-24T17:22:01.459766Z",
     "shell.execute_reply": "2021-05-24T17:22:01.461031Z",
     "shell.execute_reply.started": "2021-05-24T17:19:28.230881Z"
    },
    "papermill": {
     "duration": 0.669117,
     "end_time": "2021-05-24T17:22:01.461287",
     "exception": false,
     "start_time": "2021-05-24T17:22:00.792170",
     "status": "completed"
    },
    "tags": []
   },
   "outputs": [
    {
     "data": {
      "image/png": "[encoded data removed]",
      "text/plain": [
       "<Figure size 864x576 with 1 Axes>"
      ]
     },
     "metadata": {
      "needs_background": "light"
     },
     "output_type": "display_data"
    }
   ],
   "source": [
    "train[['budget','revenue']].plot(kind='scatter',x='budget',y='revenue',figsize=(12,8))\n",
    "plt.title(\"Revenue VS Budget\",fontsize=15)\n",
    "plt.xlabel('Budget',fontsize = 10)\n",
    "plt.ylabel('Revenue',fontsize = 10)\n",
    "plt.show()"
   ]
  },
  {
   "cell_type": "markdown",
   "id": "alone-spiritual",
   "metadata": {
    "papermill": {
     "duration": 0.094095,
     "end_time": "2021-05-24T17:22:02.704364",
     "exception": false,
     "start_time": "2021-05-24T17:22:02.610269",
     "status": "completed"
    },
    "tags": []
   },
   "source": [
    "#### feature 제거"
   ]
  },
  {
   "cell_type": "code",
   "execution_count": 180,
   "id": "surprising-republican",
   "metadata": {
    "execution": {
     "iopub.execute_input": "2021-05-24T17:22:02.898192Z",
     "iopub.status.busy": "2021-05-24T17:22:02.897080Z",
     "iopub.status.idle": "2021-05-24T17:22:03.005046Z",
     "shell.execute_reply": "2021-05-24T17:22:03.005526Z",
     "shell.execute_reply.started": "2021-05-24T17:19:28.728605Z"
    },
    "papermill": {
     "duration": 0.209603,
     "end_time": "2021-05-24T17:22:03.005710",
     "exception": false,
     "start_time": "2021-05-24T17:22:02.796107",
     "status": "completed"
    },
    "tags": []
   },
   "outputs": [],
   "source": [
    "train = train.drop(['belongs_to_collection','genres','production_companies','nameofcollection','imdb_id','overview','poster_path','tagline','original_title','original_language','release_date','language','production_countries','cast','spoken_languages',\n",
    "                    'Keywords', 'status','genres_info','production_company','production_country','title','crew','popularity2'], axis=1)\n",
    "\n",
    "test = test.drop(['belongs_to_collection','genres','production_companies','nameofcollection','imdb_id','overview','poster_path','tagline','original_title','original_language','release_date','language','production_countries','cast','spoken_languages',\n",
    "                    'Keywords', 'status','genres_info','production_company','production_country','title','crew','popularity2'], axis=1)\n"
   ]
  },
  {
   "cell_type": "markdown",
   "id": "italian-commitment",
   "metadata": {
    "papermill": {
     "duration": 0.09303,
     "end_time": "2021-05-24T17:22:14.031748",
     "exception": false,
     "start_time": "2021-05-24T17:22:13.938718",
     "status": "completed"
    },
    "tags": []
   },
   "source": [
    "#### 예산, 수익 정규화"
   ]
  },
  {
   "cell_type": "code",
   "execution_count": 181,
   "id": "failing-gasoline",
   "metadata": {
    "execution": {
     "iopub.execute_input": "2021-05-24T17:22:14.221207Z",
     "iopub.status.busy": "2021-05-24T17:22:14.220143Z",
     "iopub.status.idle": "2021-05-24T17:22:14.225630Z",
     "shell.execute_reply": "2021-05-24T17:22:14.225136Z",
     "shell.execute_reply.started": "2021-05-24T17:19:37.951111Z"
    },
    "papermill": {
     "duration": 0.105565,
     "end_time": "2021-05-24T17:22:14.225768",
     "exception": false,
     "start_time": "2021-05-24T17:22:14.120203",
     "status": "completed"
    },
    "tags": []
   },
   "outputs": [],
   "source": [
    "test['budget']=np.log1p(test['budget'])\n",
    "train['budget']=np.log1p(train['budget'])\n",
    "\n",
    "train['revenue']=np.log1p(train['revenue'])"
   ]
  },
  {
   "cell_type": "code",
   "execution_count": 182,
   "id": "dutch-pittsburgh",
   "metadata": {
    "execution": {
     "iopub.execute_input": "2021-05-24T17:22:14.424993Z",
     "iopub.status.busy": "2021-05-24T17:22:14.423883Z",
     "iopub.status.idle": "2021-05-24T17:22:14.445364Z",
     "shell.execute_reply": "2021-05-24T17:22:14.444795Z",
     "shell.execute_reply.started": "2021-05-24T17:19:37.960308Z"
    },
    "papermill": {
     "duration": 0.124963,
     "end_time": "2021-05-24T17:22:14.445527",
     "exception": false,
     "start_time": "2021-05-24T17:22:14.320564",
     "status": "completed"
    },
    "tags": []
   },
   "outputs": [
    {
     "name": "stdout",
     "output_type": "stream",
     "text": [
      "<class 'pandas.core.frame.DataFrame'>\n",
      "Int64Index: 3000 entries, 0 to 2999\n",
      "Data columns (total 18 columns):\n",
      " #   Column           Non-Null Count  Dtype  \n",
      "---  ------           --------------  -----  \n",
      " 0   id               3000 non-null   int64  \n",
      " 1   budget           3000 non-null   float64\n",
      " 2   homepage         3000 non-null   int64  \n",
      " 3   popularity       3000 non-null   float64\n",
      " 4   runtime          3000 non-null   float64\n",
      " 5   revenue          3000 non-null   float64\n",
      " 6   rating           3000 non-null   float64\n",
      " 7   totalVotes       3000 non-null   float64\n",
      " 8   release_year     3000 non-null   int64  \n",
      " 9   release_month    3000 non-null   int64  \n",
      " 10  release_day      3000 non-null   int64  \n",
      " 11  numberofgenres   3000 non-null   int64  \n",
      " 12  lang_english     3000 non-null   int64  \n",
      " 13  bud_runtime      3000 non-null   float64\n",
      " 14  bud_year         3000 non-null   float64\n",
      " 15  bud_popularity   3000 non-null   float64\n",
      " 16  runtime_year     3000 non-null   float64\n",
      " 17  popularity_year  3000 non-null   float64\n",
      "dtypes: float64(11), int64(7)\n",
      "memory usage: 509.9 KB\n"
     ]
    }
   ],
   "source": [
    "train.info()"
   ]
  },
  {
   "cell_type": "markdown",
   "id": "brilliant-workstation",
   "metadata": {
    "papermill": {
     "duration": 0.096965,
     "end_time": "2021-05-24T17:22:14.869663",
     "exception": false,
     "start_time": "2021-05-24T17:22:14.772698",
     "status": "completed"
    },
    "tags": []
   },
   "source": [
    "#### 수익과 나머지 특징과의 중요도"
   ]
  },
  {
   "cell_type": "code",
   "execution_count": 183,
   "id": "fleet-candy",
   "metadata": {
    "execution": {
     "iopub.execute_input": "2021-05-24T17:22:15.122720Z",
     "iopub.status.busy": "2021-05-24T17:22:15.121818Z",
     "iopub.status.idle": "2021-05-24T17:22:15.131399Z",
     "shell.execute_reply": "2021-05-24T17:22:15.131968Z",
     "shell.execute_reply.started": "2021-05-24T17:19:38.011210Z"
    },
    "papermill": {
     "duration": 0.120807,
     "end_time": "2021-05-24T17:22:15.132144",
     "exception": false,
     "start_time": "2021-05-24T17:22:15.011337",
     "status": "completed"
    },
    "tags": []
   },
   "outputs": [
    {
     "data": {
      "text/plain": [
       "id                 0.009286\n",
       "budget             0.534437\n",
       "homepage           0.143550\n",
       "popularity         0.289333\n",
       "runtime            0.210903\n",
       "revenue            1.000000\n",
       "rating             0.109641\n",
       "totalVotes         0.405178\n",
       "release_year      -0.079965\n",
       "release_month      0.030696\n",
       "release_day       -0.043816\n",
       "numberofgenres     0.190791\n",
       "lang_english       0.195113\n",
       "bud_runtime        0.377605\n",
       "bud_year           0.494859\n",
       "bud_popularity     0.348547\n",
       "runtime_year       0.214965\n",
       "popularity_year    0.290733\n",
       "Name: revenue, dtype: float64"
      ]
     },
     "execution_count": 183,
     "metadata": {},
     "output_type": "execute_result"
    }
   ],
   "source": [
    "train.corr().revenue"
   ]
  },
  {
   "cell_type": "markdown",
   "id": "linear-polls",
   "metadata": {
    "papermill": {
     "duration": 0.096072,
     "end_time": "2021-05-24T17:22:15.332546",
     "exception": false,
     "start_time": "2021-05-24T17:22:15.236474",
     "status": "completed"
    },
    "tags": []
   },
   "source": [
    "#### 모델링"
   ]
  },
  {
   "cell_type": "code",
   "execution_count": 184,
   "id": "broad-blackberry",
   "metadata": {
    "execution": {
     "iopub.execute_input": "2021-05-24T17:22:15.533826Z",
     "iopub.status.busy": "2021-05-24T17:22:15.532856Z",
     "iopub.status.idle": "2021-05-24T17:22:15.537218Z",
     "shell.execute_reply": "2021-05-24T17:22:15.536732Z",
     "shell.execute_reply.started": "2021-05-24T17:19:38.026400Z"
    },
    "papermill": {
     "duration": 0.106266,
     "end_time": "2021-05-24T17:22:15.537371",
     "exception": false,
     "start_time": "2021-05-24T17:22:15.431105",
     "status": "completed"
    },
    "tags": []
   },
   "outputs": [],
   "source": [
    "# 훈련세트 수익\n",
    "y=train.revenue\n",
    "\n",
    "# revenue를 제외한 나머지 특성\n",
    "X=train.drop( columns= ['revenue'])"
   ]
  },
  {
   "cell_type": "markdown",
   "id": "binding-power",
   "metadata": {
    "papermill": {
     "duration": 0.096401,
     "end_time": "2021-05-24T17:22:15.730579",
     "exception": false,
     "start_time": "2021-05-24T17:22:15.634178",
     "status": "completed"
    },
    "tags": []
   },
   "source": [
    "#### 훈련, 테스트 셋으로 나눔"
   ]
  },
  {
   "cell_type": "code",
   "execution_count": 186,
   "id": "aboriginal-jackson",
   "metadata": {
    "execution": {
     "iopub.execute_input": "2021-05-24T17:22:16.133946Z",
     "iopub.status.busy": "2021-05-24T17:22:16.133158Z",
     "iopub.status.idle": "2021-05-24T17:22:16.157110Z",
     "shell.execute_reply": "2021-05-24T17:22:16.156566Z",
     "shell.execute_reply.started": "2021-05-24T17:19:38.047163Z"
    },
    "papermill": {
     "duration": 0.126143,
     "end_time": "2021-05-24T17:22:16.157282",
     "exception": false,
     "start_time": "2021-05-24T17:22:16.031139",
     "status": "completed"
    },
    "tags": []
   },
   "outputs": [],
   "source": [
    "from sklearn.model_selection import train_test_split\n",
    "X_train,X_val,y_train,y_val= train_test_split(X,y,test_size=0.2,random_state=39)"
   ]
  },
  {
   "cell_type": "markdown",
   "id": "nuclear-procurement",
   "metadata": {
    "papermill": {
     "duration": 0.097923,
     "end_time": "2021-05-24T17:22:16.354036",
     "exception": false,
     "start_time": "2021-05-24T17:22:16.256113",
     "status": "completed"
    },
    "tags": []
   },
   "source": [
    "#### LinearRegression "
   ]
  },
  {
   "cell_type": "code",
   "execution_count": 187,
   "id": "athletic-simon",
   "metadata": {
    "execution": {
     "iopub.execute_input": "2021-05-24T17:22:16.555687Z",
     "iopub.status.busy": "2021-05-24T17:22:16.554927Z",
     "iopub.status.idle": "2021-05-24T17:22:16.664672Z",
     "shell.execute_reply": "2021-05-24T17:22:16.665614Z",
     "shell.execute_reply.started": "2021-05-24T17:19:38.069894Z"
    },
    "papermill": {
     "duration": 0.213551,
     "end_time": "2021-05-24T17:22:16.665896",
     "exception": false,
     "start_time": "2021-05-24T17:22:16.452345",
     "status": "completed"
    },
    "tags": []
   },
   "outputs": [
    {
     "name": "stdout",
     "output_type": "stream",
     "text": [
      "Linear Regression rmse=  2.647542848691148\n"
     ]
    }
   ],
   "source": [
    "from sklearn.linear_model import LinearRegression\n",
    "lr_model=LinearRegression()\n",
    "lr_model.fit(X_train,y_train)\n",
    "lr_pred=lr_model.predict(X_val)\n",
    "\n",
    "lr_rmse= mean_squared_error(y_val, lr_pred, squared=False)\n",
    "print('Linear Regression rmse= ', lr_rmse)"
   ]
  },
  {
   "cell_type": "markdown",
   "id": "bizarre-determination",
   "metadata": {
    "papermill": {
     "duration": 0.101567,
     "end_time": "2021-05-24T17:22:18.457871",
     "exception": false,
     "start_time": "2021-05-24T17:22:18.356304",
     "status": "completed"
    },
    "tags": []
   },
   "source": [
    "#### RandomForestRegressor"
   ]
  },
  {
   "cell_type": "code",
   "execution_count": 188,
   "id": "synthetic-stack",
   "metadata": {
    "execution": {
     "iopub.execute_input": "2021-05-24T17:22:18.662449Z",
     "iopub.status.busy": "2021-05-24T17:22:18.661720Z",
     "iopub.status.idle": "2021-05-24T17:22:19.577109Z",
     "shell.execute_reply": "2021-05-24T17:22:19.576554Z",
     "shell.execute_reply.started": "2021-05-24T17:19:38.291755Z"
    },
    "papermill": {
     "duration": 1.020201,
     "end_time": "2021-05-24T17:22:19.577278",
     "exception": false,
     "start_time": "2021-05-24T17:22:18.557077",
     "status": "completed"
    },
    "tags": []
   },
   "outputs": [
    {
     "name": "stdout",
     "output_type": "stream",
     "text": [
      "Random Forest rmse =  2.3881843039349118\n"
     ]
    }
   ],
   "source": [
    "from sklearn.ensemble import RandomForestRegressor\n",
    "rfr_model = RandomForestRegressor(random_state=42,max_features='auto', n_estimators= 50, min_samples_leaf=2)\n",
    "rfr_model.fit(X_train,y_train)\n",
    "rfr_pred = rfr_model.predict(X_val)\n",
    "\n",
    "rfr_rmse= mean_squared_error(y_val, rfr_pred, squared=False)\n",
    "print('Random Forest rmse = ', rfr_rmse)"
   ]
  },
  {
   "cell_type": "markdown",
   "id": "spoken-alarm",
   "metadata": {
    "papermill": {
     "duration": 0.101744,
     "end_time": "2021-05-24T17:22:21.473559",
     "exception": false,
     "start_time": "2021-05-24T17:22:21.371815",
     "status": "completed"
    },
    "tags": []
   },
   "source": [
    "#### XGBoost"
   ]
  },
  {
   "cell_type": "code",
   "execution_count": 190,
   "id": "breathing-blame",
   "metadata": {
    "execution": {
     "iopub.execute_input": "2021-05-24T17:22:21.966715Z",
     "iopub.status.busy": "2021-05-24T17:22:21.965998Z",
     "iopub.status.idle": "2021-05-24T17:22:29.706248Z",
     "shell.execute_reply": "2021-05-24T17:22:29.706927Z",
     "shell.execute_reply.started": "2021-05-24T17:19:40.044458Z"
    },
    "papermill": {
     "duration": 7.848671,
     "end_time": "2021-05-24T17:22:29.707174",
     "exception": false,
     "start_time": "2021-05-24T17:22:21.858503",
     "status": "completed"
    },
    "tags": []
   },
   "outputs": [
    {
     "name": "stdout",
     "output_type": "stream",
     "text": [
      "[17:05:49] WARNING: C:/Users/Administrator/workspace/xgboost-win64_release_1.4.0/src/objective/regression_obj.cu:171: reg:linear is now deprecated in favor of reg:squarederror.\n",
      "XGBoost rmse =  1.3508492148410796\n"
     ]
    }
   ],
   "source": [
    "import xgboost as xgb\n",
    "xgb_model = xgb.XGBRegressor(objective = 'reg:linear',eta = 0.01,max_depth = 3,min_child_weight = 3,subsample = 0.8,gamma = 1.45,colsample_bytree = 0.7, eval_metric = 'rmse',seed = 42,n_estimators = 3000)\n",
    "xgb_model.fit(X,y)\n",
    "xgb_pred = xgb_model.predict(X_val)\n",
    "xgb_rmse= mean_squared_error(y_val, xgb_pred, squared=False)\n",
    "print('XGBoost rmse = ',xgb_rmse)"
   ]
  },
  {
   "cell_type": "markdown",
   "id": "c2aa9e94",
   "metadata": {},
   "source": [
    "#### submission 생성"
   ]
  },
  {
   "cell_type": "code",
   "execution_count": 191,
   "id": "amazing-subsection",
   "metadata": {
    "execution": {
     "iopub.execute_input": "2021-05-24T17:22:17.740457Z",
     "iopub.status.busy": "2021-05-24T17:22:17.739358Z",
     "iopub.status.idle": "2021-05-24T17:22:17.972508Z",
     "shell.execute_reply": "2021-05-24T17:22:17.971952Z",
     "shell.execute_reply.started": "2021-05-24T17:19:38.227708Z"
    },
    "papermill": {
     "duration": 0.34084,
     "end_time": "2021-05-24T17:22:17.972662",
     "exception": false,
     "start_time": "2021-05-24T17:22:17.631822",
     "status": "completed"
    },
    "tags": []
   },
   "outputs": [],
   "source": [
    "# Linear Regression\n",
    "lr_model.fit(X,y)\n",
    "lr_pred_full = lr_model.predict(test)\n",
    "lr_pred_full = np.exp(lr_pred_full)\n",
    "rand_lr = pd.DataFrame(lr_pred_full)\n",
    "\n",
    "linear_regression = pd.concat([test[\"id\"],rand_lr], axis =1)\n",
    "linear_regression.columns = ['id', 'revenue']\n",
    "linear_regression.to_csv(r'linear_regression.csv',index = False)\n"
   ]
  },
  {
   "cell_type": "code",
   "execution_count": 192,
   "id": "laden-exhibit",
   "metadata": {
    "execution": {
     "iopub.execute_input": "2021-05-24T17:22:20.212666Z",
     "iopub.status.busy": "2021-05-24T17:22:20.211705Z",
     "iopub.status.idle": "2021-05-24T17:22:21.271886Z",
     "shell.execute_reply": "2021-05-24T17:22:21.271355Z",
     "shell.execute_reply.started": "2021-05-24T17:19:39.079108Z"
    },
    "papermill": {
     "duration": 1.166685,
     "end_time": "2021-05-24T17:22:21.272035",
     "exception": false,
     "start_time": "2021-05-24T17:22:20.105350",
     "status": "completed"
    },
    "tags": []
   },
   "outputs": [],
   "source": [
    "# Random Forest\n",
    "rfr_model.fit(X,y)\n",
    "rfr_pred_full = rfr_model.predict(test)\n",
    "rfr_pred_full = np.exp(rfr_pred_full)\n",
    "rand_rf = pd.DataFrame(rfr_pred_full)\n",
    "\n",
    "random_forest = pd.concat([test[\"id\"],rand_rf], axis =1)\n",
    "random_forest.columns = ['id', 'revenue']\n",
    "random_forest.to_csv(r'random_forest.csv',index = False)\n"
   ]
  },
  {
   "cell_type": "code",
   "execution_count": 193,
   "id": "novel-package",
   "metadata": {
    "execution": {
     "iopub.execute_input": "2021-05-24T17:22:30.744144Z",
     "iopub.status.busy": "2021-05-24T17:22:30.743128Z",
     "iopub.status.idle": "2021-05-24T17:22:38.140639Z",
     "shell.execute_reply": "2021-05-24T17:22:38.139506Z",
     "shell.execute_reply.started": "2021-05-24T17:19:45.108970Z"
    },
    "papermill": {
     "duration": 7.503778,
     "end_time": "2021-05-24T17:22:38.140815",
     "exception": false,
     "start_time": "2021-05-24T17:22:30.637037",
     "status": "completed"
    },
    "tags": []
   },
   "outputs": [
    {
     "name": "stdout",
     "output_type": "stream",
     "text": [
      "[17:05:59] WARNING: C:/Users/Administrator/workspace/xgboost-win64_release_1.4.0/src/objective/regression_obj.cu:171: reg:linear is now deprecated in favor of reg:squarederror.\n"
     ]
    }
   ],
   "source": [
    "# XGBoost\n",
    "xgb_model.fit(X, y)\n",
    "xgb_pred_full = xgb_model.predict(test)\n",
    "xgb_pred_full = np.exp(xgb_pred_full)\n",
    "rand_xgb = pd.DataFrame(xgb_pred_full)\n",
    "\n",
    "xgb = pd.concat([test[\"id\"],rand_xgb], axis =1)\n",
    "xgb.columns =['id', 'revenue']\n",
    "xgb.to_csv(r'xgb.csv',index = False)"
   ]
  },
  {
   "cell_type": "code",
   "execution_count": null,
   "id": "cd605692",
   "metadata": {},
   "outputs": [],
   "source": []
  }
 ],
 "metadata": {
  "kernelspec": {
   "display_name": "Python 3",
   "language": "python",
   "name": "python3"
  },
  "language_info": {
   "codemirror_mode": {
    "name": "ipython",
    "version": 3
   },
   "file_extension": ".py",
   "mimetype": "text/x-python",
   "name": "python",
   "nbconvert_exporter": "python",
   "pygments_lexer": "ipython3",
   "version": "3.8.8"
  },
  "papermill": {
   "default_parameters": {},
   "duration": 98.069371,
   "end_time": "2021-05-24T17:22:46.421428",
   "environment_variables": {},
   "exception": null,
   "input_path": "__notebook__.ipynb",
   "output_path": "__notebook__.ipynb",
   "parameters": {},
   "start_time": "2021-05-24T17:21:08.352057",
   "version": "2.3.3"
  }
 },
 "nbformat": 4,
 "nbformat_minor": 5
}
