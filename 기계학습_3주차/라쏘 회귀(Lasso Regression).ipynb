{
 "cells": [
  {
   "cell_type": "code",
   "execution_count": 1,
   "metadata": {},
   "outputs": [],
   "source": [
    "# w(가중치)의 영향을 최소화  -> 가중치가 0이 될 수 있음\n",
    "# 계수의 편차를 감소, 특성을 선별해서 해석력을 보임\n",
    "\n",
    "# a(알파) 크게 하면 패널티 효과 증가 (가중치 감소) -> 릿지랑 비슷한듯\n",
    "\n",
    "# a(알파) 작으면 MSE 비중증가 -> 과대적합(복잡도 증가) 선형회귀랑 비슷함\n",
    "\n",
    "# 특징들 중 일부만 중요하고 나머지는 완전히 제외되는 특징있음\n"
   ]
  },
  {
   "cell_type": "code",
   "execution_count": 22,
   "metadata": {},
   "outputs": [],
   "source": [
    "from sklearn.model_selection import train_test_split\n",
    "import mglearn\n",
    "from sklearn.linear_model import Lasso\n",
    "from sklearn.linear_model import Ridge\n",
    "import matplotlib.pyplot as plt\n",
    "\n",
    "#한글을 출력하기 위한 import\n",
    "from matplotlib import font_manager, rc\n",
    "font_name = font_manager.FontProperties(fname =\"c:/Windows/Fonts/malgun.ttf\").get_name()\n",
    "rc('font',family=font_name)\n",
    "import matplotlib as mpl # -깨짐 현상을 해결하기 위햏 matplotlib을 import\n",
    "mpl.rcParams['axes.unicode_minus'] = False # - 깨짐 현상을 해결하기 위한 구문\n",
    "\n",
    "\n",
    "#피처를 추가한 보스턴 데이터 셋\n",
    "X, y = mglearn.datasets.load_extended_boston()\n",
    "\n",
    "#train_test_split 함수로 boston 데이터와 타겟을 훈련, 테스트 셋으로 나눈다.\n",
    "X_train, X_test, y_train, y_test = train_test_split(X, y, random_state=0)\n",
    "\n",
    "ridge01 = Ridge(alpha =0.1).fit(X_train,y_train)"
   ]
  },
  {
   "cell_type": "code",
   "execution_count": 10,
   "metadata": {},
   "outputs": [
    {
     "name": "stdout",
     "output_type": "stream",
     "text": [
      "훈련 세트 점수:0.29\n",
      "테스트 세트 점수:0.21\n",
      "사용한 특성의 개수:4\n"
     ]
    }
   ],
   "source": [
    "# alpha = 1 인 라쏘 모델 -> !!!낮은 성능, 적은 특성 사용, 과소적합!!!\n",
    "#lasso 객체에 훈련데이터를 학습시킨다. alpha값은 기본값인 1\n",
    "lasso = Lasso().fit(X_train, y_train)\n",
    "\n",
    "#훈련 세트 점수를 출력한다.\n",
    "print(\"훈련 세트 점수:{:.2f}\".format(lasso.score(X_train,y_train)))\n",
    "\n",
    "#테스트 세트 점수를 출력한다.\n",
    "print(\"테스트 세트 점수:{:.2f}\".format(lasso.score(X_test,y_test)))\n",
    "\n",
    "#사용한 특성의 개수를 출력한다.\n",
    "print(\"사용한 특성의 개수:{}\".format(np.sum(lasso.coef_ !=0 )))\n"
   ]
  },
  {
   "cell_type": "code",
   "execution_count": 13,
   "metadata": {},
   "outputs": [
    {
     "name": "stdout",
     "output_type": "stream",
     "text": [
      "훈련 세트 점수:0.90\n",
      "테스트 세트 점수:0.77\n",
      "사용한 특성의 개수:33\n"
     ]
    }
   ],
   "source": [
    "#alpha = 0.01 인 라쏘 모델 -> !!! 패널티 효과 감소, 복잡도 증가 !!!\n",
    "lasso001 = Lasso(alpha=0.01, max_iter=100000).fit(X_train, y_train)\n",
    "\n",
    "#훈련 세트 점수를 출력한다.\n",
    "print(\"훈련 세트 점수:{:.2f}\".format(lasso001.score(X_train,y_train)))\n",
    "\n",
    "#테스트 세트 점수를 출력한다.\n",
    "print(\"테스트 세트 점수:{:.2f}\".format(lasso001.score(X_test,y_test)))\n",
    "\n",
    "#사용한 특성의 개수를 출력한다.\n",
    "print(\"사용한 특성의 개수:{}\".format(np.sum(lasso001.coef_ !=0 )))"
   ]
  },
  {
   "cell_type": "code",
   "execution_count": 14,
   "metadata": {},
   "outputs": [
    {
     "name": "stdout",
     "output_type": "stream",
     "text": [
      "훈련 세트 점수:0.95\n",
      "테스트 세트 점수:0.64\n",
      "사용한 특성의 개수:96\n"
     ]
    }
   ],
   "source": [
    "#alpha = 0.0001 인 라쏘 모델 -> !!! 알파값을 매우 내리면 선형 모델과 유사 !!!\n",
    "lasso00001 = Lasso(alpha=0.0001, max_iter=100000).fit(X_train, y_train)\n",
    "\n",
    "#훈련 세트 점수를 출력한다.\n",
    "print(\"훈련 세트 점수:{:.2f}\".format(lasso00001.score(X_train,y_train)))\n",
    "\n",
    "#테스트 세트 점수를 출력한다.\n",
    "print(\"테스트 세트 점수:{:.2f}\".format(lasso00001.score(X_test,y_test)))\n",
    "\n",
    "#사용한 특성의 개수를 출력한다.\n",
    "print(\"사용한 특성의 개수:{}\".format(np.sum(lasso00001.coef_ !=0 )))\n",
    "\n",
    "#알파 더 내리니까 테스트 세트 점수가 내려갔는데\n",
    "#일반화가 더 안된것을 알 수 있다."
   ]
  },
  {
   "cell_type": "code",
   "execution_count": 56,
   "metadata": {},
   "outputs": [
    {
     "data": {
      "text/plain": [
       "Text(0, 0.5, '계수 목록')"
      ]
     },
     "execution_count": 56,
     "metadata": {},
     "output_type": "execute_result"
    },
    {
     "data": {
      "image/png": "[encoded data removed]",
      "text/plain": [
       "<Figure size 432x288 with 1 Axes>"
      ]
     },
     "metadata": {
      "needs_background": "light"
     },
     "output_type": "display_data"
    }
   ],
   "source": [
    "\n",
    "# 라쏘 알파=1 일때 -> 계수 대부분이 0 나머지도 편차가 크지 않음\n",
    "plt.plot(lasso.coef_, 's', label = \"Lasso alpha=1\")\n",
    "\n",
    "# 라쏘 알파 = 0.01일때 -> 많은 특성이 0 나머지는 편차가 조금 있음\n",
    "plt.plot(lasso001.coef_, '^', label = \"Lasso alpha=0.01\")\n",
    "\n",
    "# 라쏘 알파 = 0.0001일때 -> 편차가 크다, 규제를 받지 않음. 선형회귀와 유사\n",
    "plt.plot(lasso00001.coef_, 'v', label = \"Lasso alpha=0.0001\")\n",
    "\n",
    "# 릿지 알파 = 0.1일 때 라쏘 0.0001과 비슷\n",
    "plt.plot(ridge01.coef_, 'o', label = \"Ridge alpha=0.1\")\n",
    "\n",
    "# 설명창 위치 ncol = 설명창 열의 갯수, loc (x,y) 위치인듯?\n",
    "plt.legend(ncol=2 , loc=(0,1.05))\n",
    "\n",
    "# y값 범위\n",
    "plt.ylim(-25,25)\n",
    "plt.xlabel(\"계수 목록\")\n",
    "plt.ylabel(\"계수 목록\")\n"
   ]
  },
  {
   "cell_type": "code",
   "execution_count": null,
   "metadata": {},
   "outputs": [],
   "source": [
    "#           릿지              vs               라쏘\n",
    "\n",
    "# w의 모든 원소가 0에 가깝게  vs    w(가중치, 계수)가 0이 될 수 있다.\n",
    "\n",
    "# 계수의 편차를 감소          vs    특징을 선별해서 해석력을 보인다.\n",
    "\n",
    "# L2-norm(유클라디안)         vs    L1-norm(맨하탄)\n",
    "\n",
    "# 특징들이 비슷한 중요도      vs    일부 특징이 중요\n",
    "\n",
    "# 모든 특징의 영향력 감소     vs    완전히 제외되는 특징이 존재\n",
    "\n",
    "# 일반적으로 선호             vs     분석/이해가 쉽다.\n",
    "\n",
    "########################################################################\n",
    "#                            공통\n",
    "#           a 작음            vs                a 큼\n",
    "# MSE 비중 증가               vs     L1/ L2가 비중 증가\n",
    "# 과대적합                    vs     과소 적합\n",
    "# 복잡도 증가                 vs     복잡도 감소\n",
    "# 선형회귀와 비슷             vs     패널티 효과 증가 (규제가 커진다는 뜻)\n",
    "# 계수 편차가 큼(그래프 튐)   vs     가중치 감소\n",
    "# 계수에 제한이 없다.         vs     일반화에 도움\n",
    "\n",
    "\n"
   ]
  },
  {
   "cell_type": "code",
   "execution_count": null,
   "metadata": {},
   "outputs": [],
   "source": []
  },
  {
   "cell_type": "code",
   "execution_count": null,
   "metadata": {},
   "outputs": [],
   "source": []
  },
  {
   "cell_type": "code",
   "execution_count": null,
   "metadata": {},
   "outputs": [],
   "source": []
  }
 ],
 "metadata": {
  "kernelspec": {
   "display_name": "Python 3",
   "language": "python",
   "name": "python3"
  },
  "language_info": {
   "codemirror_mode": {
    "name": "ipython",
    "version": 3
   },
   "file_extension": ".py",
   "mimetype": "text/x-python",
   "name": "python",
   "nbconvert_exporter": "python",
   "pygments_lexer": "ipython3",
   "version": "3.8.3"
  }
 },
 "nbformat": 4,
 "nbformat_minor": 4
}
