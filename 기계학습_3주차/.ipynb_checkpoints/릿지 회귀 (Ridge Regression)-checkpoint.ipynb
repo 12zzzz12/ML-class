{
 "cells": [
  {
   "cell_type": "code",
   "execution_count": 3,
   "metadata": {},
   "outputs": [],
   "source": [
    "# 릿지 회귀 = 선형 모델 + 가중치 최소화\n",
    "# 최소적합법 예측함수\n",
    "\n",
    "# w(가중치) : 훈련데이터 예측\n",
    "# w(가중치)의 절대값을 가능한 작게\n",
    "# w의 모든 원소가 0에 가깝게 만드는게 목표 -> 모든 특성이 출력에 주는 영향을 최소한\n",
    "\n",
    "# λ(람다)= 조절모수\n",
    "# λ = 0 -> 패널티 항은 효과가 없다. -> 기본선형모델과 같음 (복잡도 증가, 과대적합가능)\n",
    "# λ = ∞ -> 패널티의 영향이 커짐 -> (복잡도 감소, 과소적합가능)\n",
    "\n",
    "#명시적 λ(a)의 지정이 필요"
   ]
  },
  {
   "cell_type": "code",
   "execution_count": 9,
   "metadata": {},
   "outputs": [
    {
     "name": "stdout",
     "output_type": "stream",
     "text": [
      "X_train.shape=(379, 13) X_test.shape=(127, 13)\n"
     ]
    }
   ],
   "source": [
    "from sklearn.linear_model import Ridge\n",
    "from sklearn.model_selection import train_test_split\n",
    "import mglearn\n",
    "\n",
    "#보스턴 데이터를 import\n",
    "from sklearn.datasets import load_boston\n",
    "\n",
    "#boston 객체에 데이터 저장\n",
    "boston = load_boston()\n",
    "\n",
    "#train_test_split 함수로 boston 데이터와 타겟을 훈련, 테스트 셋으로 나눈다.\n",
    "X_train, X_test, y_train, y_test = train_test_split(boston.data, boston.target, random_state=0)\n",
    "\n",
    "#훈련, 테스트 셋으로 잘 나뉘었나 확인하기 위해\n",
    "#훈련셋의 형태 (튜플,피쳐), 테스트 셋의 형태(튜플, 피쳐)를 출력한다.\n",
    "print(\"X_train.shape={}\".format(X_train.shape),\"X_test.shape={}\".format(X_test.shape))\n"
   ]
  },
  {
   "cell_type": "code",
   "execution_count": 10,
   "metadata": {},
   "outputs": [
    {
     "name": "stdout",
     "output_type": "stream",
     "text": [
      "훈련 세트 점수:0.89\n",
      "테스트 세트 점수:0.75\n"
     ]
    }
   ],
   "source": [
    "#피처를 추가한 보스턴 데이터 셋\n",
    "X, y = mglearn.datasets.load_extended_boston()\n",
    "\n",
    "#train_test_split 함수로 boston 데이터와 타겟을 훈련, 테스트 셋으로 나눈다.\n",
    "X_train, X_test, y_train, y_test = train_test_split(X, y, random_state=0)\n",
    "\n",
    "#릿지 모델에 훈련 세트를 넣어 학습시킨다.\n",
    "ridge = Ridge().fit(X_train,y_train)\n",
    "\n",
    "#훈련 세트의 점수를 출력한다.\n",
    "print(\"훈련 세트 점수:{:.2f}\".format(ridge.score(X_train, y_train)))\n",
    "\n",
    "#테스트 세트의 점수를 출력한다.\n",
    "print(\"테스트 세트 점수:{:.2f}\".format(ridge.score(X_test, y_test)))\n",
    "\n",
    "#테스트 점수가 Linear, KNN에 비해 올라간 것을 확인할 수있다.\n",
    "\n",
    "# 이 뜻은 선형회귀는 이 데이터셋에 과대적합되지만 \n",
    "# 릿지는 덜 자유로운 모델이기 때문에 과대적합이 적어진다."
   ]
  },
  {
   "cell_type": "code",
   "execution_count": 11,
   "metadata": {},
   "outputs": [
    {
     "name": "stdout",
     "output_type": "stream",
     "text": [
      "훈련 세트 점수:0.79\n",
      "테스트 세트 점수:0.64\n"
     ]
    }
   ],
   "source": [
    "#릿지 모델에 훈련 세트를 넣어 학습시킨다.\n",
    "ridge10 = Ridge(alpha =10).fit(X_train,y_train)\n",
    "\n",
    "#훈련 세트의 점수를 출력한다.\n",
    "print(\"훈련 세트 점수:{:.2f}\".format(ridge10.score(X_train, y_train)))\n",
    "\n",
    "#테스트 세트의 점수를 출력한다.\n",
    "print(\"테스트 세트 점수:{:.2f}\".format(ridge10.score(X_test, y_test)))\n",
    "\n",
    "# 위에서는 alpha값을 1로 했는데 \n",
    "# 알파값을 10으로 선형회귀 모델과 거의 같은 값을 가짐"
   ]
  },
  {
   "cell_type": "code",
   "execution_count": 12,
   "metadata": {},
   "outputs": [
    {
     "name": "stdout",
     "output_type": "stream",
     "text": [
      "훈련 세트 점수:0.93\n",
      "테스트 세트 점수:0.77\n"
     ]
    }
   ],
   "source": [
    "#릿지 모델에 훈련 세트를 넣어 학습시킨다.\n",
    "ridge01 = Ridge(alpha =0.1).fit(X_train,y_train)\n",
    "\n",
    "#훈련 세트의 점수를 출력한다.\n",
    "print(\"훈련 세트 점수:{:.2f}\".format(ridge01.score(X_train, y_train)))\n",
    "\n",
    "#테스트 세트의 점수를 출력한다.\n",
    "print(\"테스트 세트 점수:{:.2f}\".format(ridge01.score(X_test, y_test)))\n",
    "\n",
    "#이번에는 알파값을 0.1로 낮춰봄\n",
    "# 테스트 세트 점수가 좋아진 것을 확인할 수 있따.\n",
    "# 테스트 세트 점수가 좋아질 때까지 알파값을 내려봐도 될 것이다.\n",
    "# 내려봤는데 0.07까지 0.1이랑 값 똑같음"
   ]
  },
  {
   "cell_type": "code",
   "execution_count": 20,
   "metadata": {},
   "outputs": [
    {
     "name": "stdout",
     "output_type": "stream",
     "text": [
      "X_train.shape=(379, 13) X_test.shape=(127, 13)\n"
     ]
    }
   ],
   "source": [
    "\n",
    "# 선형 회귀 lr 모델을 가져오기 위한 구문\n",
    "from sklearn.linear_model import LinearRegression\n",
    "X_train, X_test, y_train, y_test = train_test_split(boston.data, boston.target, random_state=0)\n",
    "print(\"X_train.shape={}\".format(X_train.shape),\"X_test.shape={}\".format(X_test.shape))\n",
    "lr=LinearRegression().fit(X_train, y_train)\n",
    "\n",
    "#한글을 출력하기 위한 import\n",
    "from matplotlib import font_manager, rc\n",
    "font_name = font_manager.FontProperties(fname =\"c:/Windows/Fonts/malgun.ttf\").get_name()\n",
    "rc('font',family=font_name)\n",
    "import matplotlib as mpl # -깨짐 현상을 해결하기 위햏 matplotlib을 import\n",
    "mpl.rcParams['axes.unicode_minus'] = False # - 깨짐 현상을 해결하기 위한 구문\n",
    "\n"
   ]
  },
  {
   "cell_type": "code",
   "execution_count": 36,
   "metadata": {},
   "outputs": [
    {
     "name": "stdout",
     "output_type": "stream",
     "text": [
      "(506, 104)\n"
     ]
    },
    {
     "data": {
      "image/png": "[encoded data removed]",
      "text/plain": [
       "<Figure size 432x288 with 1 Axes>"
      ]
     },
     "metadata": {
      "needs_background": "light"
     },
     "output_type": "display_data"
    }
   ],
   "source": [
    "import matplotlib.pyplot as plt\n",
    "import numpy\n",
    "\n",
    "#알파 =10일 때 계수 출력\n",
    "plt.plot(ridge10.coef_,'^',label=\"Ridge alpha=10\")\n",
    "\n",
    "#알파 = 1일 때 계수 출력\n",
    "plt.plot(ridge.coef_,'s',label=\"Ridge alpha=1\")\n",
    "\n",
    "#알파=0.1일 때 계수 출력\n",
    "plt.plot(ridge01.coef_,'v',label=\"Ridge alpha=0.1\")\n",
    "\n",
    "#선형 회귀의 계수 출력\n",
    "plt.plot(lr.coef_,'o',label=\"LinearRegression\")\n",
    "\n",
    "#x,y축의 제목 출력\n",
    "plt.xlabel(\"계수 목록\")\n",
    "plt.ylabel(\"계수 크기\")\n",
    "\n",
    "#(0,0)을 따라 수평선을 그린다.\n",
    "plt.hlines(0,0,len(lr.coef_))\n",
    "\n",
    "# y축 범위 설정\n",
    "plt.ylim(-25,25)\n",
    "plt.legend()\n",
    "\n",
    "# 릿지는 w(가중치)의 절댓값을 최대한 작게 만드는 것이 목표이므로 \n",
    "# 알파 값을 높여 규제를 걸어 과대적합이 되지 않도록 모델을 강제로 제한한다.\n",
    "\n",
    "# 알파 값이 높아질수록 계수 크기의 폭이 작은것을 알 수 있다. -> 가중치의 절댓값이 작아짐\n",
    "\n",
    "################################### 정리\n",
    "# alpha 값이 클수록\n",
    "# 계수의 편차가 적다.(과소적합) -> 계수를 0에 더 가깝게\n",
    "# 훈련 데이터의 성능 낮아짐, 일반화에 도움, 모델 복잡도 낮아짐\n",
    "\n",
    "# alpha 값이 작을수록\n",
    "# 계수의 편차가 크다 (과대적합) -> 계수가 거의 제한이 없음\n",
    "# 훈련 데이터 성능 높아짐\n",
    "# 선형 모델과 별 차이가 없어짐"
   ]
  },
  {
   "cell_type": "code",
   "execution_count": 37,
   "metadata": {},
   "outputs": [
    {
     "data": {
      "image/png": "[encoded data removed]",
      "text/plain": [
       "<Figure size 432x288 with 1 Axes>"
      ]
     },
     "metadata": {
      "needs_background": "light"
     },
     "output_type": "display_data"
    }
   ],
   "source": [
    " mglearn.plots.plot_ridge_n_samples()\n",
    "    \n",
    "# 릿지에는 규제가 적용되므로 릿지의 훈련 점수가 선형의 훈련 점수보다 낮다.\n",
    "\n",
    "# 하지만 테스트 점수는 릿지가 더 높으며 크기가 작을 때 더욱 차이가 난다.\n",
    "\n",
    "# 두 모델 성능은 데이터가 많아질수록 좋아지고 마지막엔 선형이 릿지를 따라잡음\n",
    "\n",
    "# 이 말은 데이터를 충분히 주면 규제 항은 덜 중요해져 릿지와 선형의 성능이 같아질 것\n",
    "\n",
    "#선형 훈련점수는 갈수록 떨어지는데 데이터가 많아질수록 모델이 기억못하거나 과대적합을 못한다는 뜻\n"
   ]
  },
  {
   "cell_type": "code",
   "execution_count": null,
   "metadata": {},
   "outputs": [],
   "source": []
  }
 ],
 "metadata": {
  "kernelspec": {
   "display_name": "Python 3",
   "language": "python",
   "name": "python3"
  },
  "language_info": {
   "codemirror_mode": {
    "name": "ipython",
    "version": 3
   },
   "file_extension": ".py",
   "mimetype": "text/x-python",
   "name": "python",
   "nbconvert_exporter": "python",
   "pygments_lexer": "ipython3",
   "version": "3.8.3"
  }
 },
 "nbformat": 4,
 "nbformat_minor": 4
}
