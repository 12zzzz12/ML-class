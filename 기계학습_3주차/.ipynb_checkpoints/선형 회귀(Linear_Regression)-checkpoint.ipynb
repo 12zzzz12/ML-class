{
 "cells": [
  {
   "cell_type": "code",
   "execution_count": 82,
   "metadata": {},
   "outputs": [],
   "source": [
    "#preamble.py 파일을 import\n",
    "#pandas, numpy, matplotlib, mglearn import한다.\n",
    "\n",
    "import pandas as pd\n",
    "import numpy as np\n",
    "import matplotlib\n",
    "import matplotlib.pyplot as plt\n",
    "import mglearn"
   ]
  },
  {
   "cell_type": "code",
   "execution_count": 83,
   "metadata": {},
   "outputs": [
    {
     "name": "stdout",
     "output_type": "stream",
     "text": [
      "x의 평균값: 5.0\n",
      "y의 평균값: 90.5\n",
      "분모: 20.0\n",
      "분자: 46.0\n",
      "기울기 a=  2.3\n",
      "y절편 b= 79.0\n"
     ]
    }
   ],
   "source": [
    "x = [2,4,6,8]\n",
    "y = [81,93,91,97]\n",
    "\n",
    "mx = np.mean(x)\n",
    "my = np.mean(y)\n",
    "print(\"x의 평균값:\",mx)\n",
    "print(\"y의 평균값:\",my)\n",
    "\n",
    "#기울기 공식의 분모\n",
    "divisor = sum([(mx-i)**2 for i in x])\n",
    "\n",
    "#기울기 공식의 분자\n",
    "def top(x, mx, y, my):\n",
    "    d = 0\n",
    "    for i in range(len(x)):\n",
    "        d += (x[i]-mx)*(y[i]-my)\n",
    "    return d\n",
    "dividend = top (x, mx, y,my)\n",
    "\n",
    "print(\"분모:\",divisor)\n",
    "print(\"분자:\",dividend)\n",
    "\n",
    "#기울기와 y절편 구하기\n",
    "a = dividend/divisor\n",
    "b = my - (mx*a)\n",
    "\n",
    "print(\"기울기 a= \",a)\n",
    "print(\"y절편 b=\",b)"
   ]
  },
  {
   "cell_type": "code",
   "execution_count": 84,
   "metadata": {},
   "outputs": [
    {
     "name": "stdout",
     "output_type": "stream",
     "text": [
      "공부한 시간 = 2, 실제 점수 = 81, 예측 점수 = 82\n",
      "공부한 시간 = 4, 실제 점수 = 93, 예측 점수 = 88\n",
      "공부한 시간 = 6, 실제 점수 = 91, 예측 점수 = 94\n",
      "공부한 시간 = 8, 실제 점수 = 97, 예측 점수 = 100\n",
      "rmse 최종값:3.3166247903554\n"
     ]
    }
   ],
   "source": [
    "ab = [3,76]\n",
    "\n",
    "data=[[2,81],[4,93],[6,91],[8,97]]\n",
    "x=[i[0] for i in data]\n",
    "y = [i[1] for i in data]\n",
    "\n",
    "#y = ax+b에 a와 b 값을 대입하여 결과를 출력하는 함수\n",
    "def predict(x):\n",
    "    return ab[0]*x +ab[1]\n",
    "\n",
    "#RMSE 함수\n",
    "def rmse(p,a):\n",
    "    return np.sqrt(((p-a)**2).mean())\n",
    "\n",
    "#RMSE 함수를 각 y값에 대입하여 최종값을 구하는 함수\n",
    "def rmse_val(predict_result, y):\n",
    "    return rmse(np.array(predict_result),np.array(y))\n",
    "\n",
    "#예측 값이 들어갈 빈 리스트\n",
    "predict_result=[]\n",
    "\n",
    "#모든 x 값을 한번씩 대입하여 \n",
    "for i in range(len(x)):\n",
    "    predict_result.append(predict(x[i]))\n",
    "    print(\"공부한 시간 = %.f, 실제 점수 = %.f, 예측 점수 = %.f\"%(x[i],y[i],predict(x[i])))\n",
    "\n",
    "#최종 RMSE 출력\n",
    "print(\"rmse 최종값:\"+str(rmse_val(predict_result, y)))\n",
    "    "
   ]
  },
  {
   "cell_type": "code",
   "execution_count": 85,
   "metadata": {},
   "outputs": [],
   "source": [
    "#Cost Function(비용함수)  = 실제값과 예측값의 차이\n",
    "\n",
    "#Optimizer 비용함수의 최소값 찾는 알고리즘\n",
    "\n"
   ]
  },
  {
   "cell_type": "code",
   "execution_count": 96,
   "metadata": {},
   "outputs": [],
   "source": [
    "#선형회귀 모델 import\n",
    "from sklearn.linear_model import LinearRegression\n",
    "#학습 모델 import\n",
    "from sklearn.model_selection import train_test_split\n",
    "\n",
    "import mglearn\n",
    "\n",
    "#X,y 에 데이터 샘플 60개 wave 생성\n",
    "X, y = mglearn.datasets.make_wave(n_samples=60)\n",
    "\n",
    "#훈련, 테스트 세트로 나눈다.\n",
    "X_train, X_test, y_train, y_test = train_test_split(X,y, random_state=42)\n",
    "\n",
    "#선형회귀 모델 객체를 생성하면서 훈련 셋을 학습시킴훈련 셋을 학습시킴\n",
    "lr = LinearRegression().fit(X_train,y_train)"
   ]
  },
  {
   "cell_type": "code",
   "execution_count": 97,
   "metadata": {},
   "outputs": [
    {
     "name": "stdout",
     "output_type": "stream",
     "text": [
      "훈련 세트 점수: 0.67\n",
      "테스트 세트 점수:0.66\n",
      "w[0]: 0.393906  b: -0.031804\n"
     ]
    },
    {
     "data": {
      "image/png": "[encoded data removed]",
      "text/plain": [
       "<Figure size 576x576 with 1 Axes>"
      ]
     },
     "metadata": {
      "needs_background": "light"
     },
     "output_type": "display_data"
    }
   ],
   "source": [
    "#훈련 세트의 점수 출력\n",
    "print(\"훈련 세트 점수: {:.2f}\".format(lr.score(X_train,y_train)))\n",
    "\n",
    "#테스트 세트의 점수 출력\n",
    "print(\"테스트 세트 점수:{:.2f}\".format(lr.score(X_test,y_test)))\n",
    "\n",
    "#데이터 셋의 그래프 출력\n",
    "n=500\n",
    "mglearn.plots.plot_linear_regression_wave()"
   ]
  },
  {
   "cell_type": "code",
   "execution_count": 98,
   "metadata": {},
   "outputs": [
    {
     "name": "stdout",
     "output_type": "stream",
     "text": [
      "lr.coef_: [0.39390555]\n",
      "lr.intercept_: -0.031804343026759746\n"
     ]
    }
   ],
   "source": [
    "#기울기 출력\n",
    "print(\"lr.coef_:\", lr.coef_)\n",
    "\n",
    "#y절편 출력#y절편 출력\n",
    "print(\"lr.intercept_:\",lr.intercept_)"
   ]
  },
  {
   "cell_type": "code",
   "execution_count": 146,
   "metadata": {},
   "outputs": [
    {
     "data": {
      "text/plain": [
       "KNeighborsRegressor(n_neighbors=3)"
      ]
     },
     "execution_count": 146,
     "metadata": {},
     "output_type": "execute_result"
    }
   ],
   "source": [
    "#한글을 출력하기 위한 import\n",
    "#한글 font를 설정해준다.\n",
    "\n",
    "from matplotlib import font_manager, rc\n",
    "font_name = font_manager.FontProperties(fname =\"c:/Windows/Fonts/malgun.ttf\").get_name()\n",
    "rc('font',family=font_name)\n",
    "\n",
    "import matplotlib as mpl # -깨짐 현상을 해결하기 위햏 matplotlib을 import\n",
    "mpl.rcParams['axes.unicode_minus'] = False # - 깨짐 현상을 해결하기 위한 구문\n",
    "\n",
    "\n",
    "#KNN 최근접 알고리즘 import\n",
    "from sklearn.neighbors import KNeighborsRegressor\n",
    "\n",
    "#train_test_split 함수 import\n",
    "from sklearn.model_selection import train_test_split\n",
    "\n",
    "#X,y에 40개 샘플 datasets을 생성한다.\n",
    "X, y = mglearn.datasets.make_wave(n_samples=40)\n",
    "\n",
    "#train_test_split 함수로 훈련, 테스트 셋을 나눈다.\n",
    "X_train, X_test, y_train, y_test = train_test_split(X,y, random_state=0,test_size=0.4)\n",
    "\n",
    "#최근접 알고리즘을 이웃 =3 으로 설정하여 모델 객체를 생성한다.\n",
    "reg = KNeighborsRegressor(n_neighbors=3)\n",
    "\n",
    "#훈련 셋을 이용해 모델을 학습시킨다.\n",
    "reg.fit(X_train, y_train)\n",
    "\n"
   ]
  },
  {
   "cell_type": "code",
   "execution_count": 147,
   "metadata": {},
   "outputs": [
    {
     "data": {
      "image/png": "[encoded data removed]",
      "text/plain": [
       "<Figure size 576x576 with 1 Axes>"
      ]
     },
     "metadata": {
      "needs_background": "light"
     },
     "output_type": "display_data"
    }
   ],
   "source": [
    "\n",
    "#전체 사이즈를 (8,8)로 설정\n",
    "plt.figure(figsize=(8, 8))\n",
    "\n",
    "#line이 뭔지 모르겠음\n",
    "#plt.plot(line, lr.predict(line))\n",
    "\n",
    "#모델 데이터를 동그라미 모양으로 색칠\n",
    "plt.plot(X_train, y_train, 'o', c=mglearn.cm2(0))\n",
    "\n",
    "#테스트 데이터를 역삼각형 모양 빨간색으로 그림\n",
    "plt.plot(X_test, y_test, 'v', c=mglearn.cm2(1), markersize=8)\n",
    "\n",
    "# KNN 결과 출력\n",
    "#1차원 특징이라서 정확률이 낮다. 샘플수가 커질수록 정확률이\n",
    "plt.plot(X_test, reg.predict(X_test),'v', c=mglearn.cm3(2), markersize=8)\n",
    "\n",
    "ax = plt.gca()\n",
    "\n",
    "#왼쪽 선을 가운데 위치시킨다.\n",
    "ax.spines['left'].set_position('center')\n",
    "\n",
    "#오른쪽 선의 색을 없애 지운다.\n",
    "ax.spines['right'].set_color('none')\n",
    "\n",
    "#아래쪽 선을 가운데 위치시킨다.\n",
    "ax.spines['bottom'].set_position('center')\n",
    "\n",
    "#위쪽 선의 색을 없애 지운다.\n",
    "ax.spines['top'].set_color('none')\n",
    "\n",
    "#y축의 범위를 (-3, 3) 으로 설정한다.\n",
    "ax.set_ylim(-3, 3)\n",
    "\n",
    "#ax.set_xlabel(\"Feature\") #ax.set_ylabel(\"Target\")\n",
    "\n",
    "#설명칸\n",
    "ax.legend([\"훈련 데이터\", \"테스트\", \"KNN\"], loc=\"best\")\n",
    "\n",
    "#격자무늬 생성\n",
    "ax.grid(True)\n",
    "\n",
    "\n",
    "ax.set_aspect('equal')\n"
   ]
  },
  {
   "cell_type": "code",
   "execution_count": 137,
   "metadata": {},
   "outputs": [
    {
     "name": "stdout",
     "output_type": "stream",
     "text": [
      "boston.keys():dict_keys(['data', 'target', 'feature_names', 'DESCR', 'filename'])\n",
      "\n",
      "Data의 크기: (506, 13)\n",
      "\n",
      "특성 이름:\n",
      "['CRIM' 'ZN' 'INDUS' 'CHAS' 'NOX' 'RM' 'AGE' 'DIS' 'RAD' 'TAX' 'PTRATIO'\n",
      " 'B' 'LSTAT']\n",
      "\n",
      ".. _boston_dataset:\n",
      "\n",
      "Boston house prices dataset\n",
      "---------------------------\n",
      "\n",
      "**Data Set Characteristics:**  \n",
      "\n",
      "    :Number of Instances: 506 \n",
      "\n",
      "    :Number of Attributes: 13 numeric/categorical predictive. Median Value (attribute 14) is usually the target.\n",
      "\n",
      "    :Attribute Information (in order):\n",
      "        - CRIM     per capita crime rate by town\n",
      "        - ZN       proportion of residential land zoned for lots over 25,000 sq.ft.\n",
      "        - INDUS    proportion of non-retail business acres per town\n",
      "        - CHAS     Charles River dummy variable (= 1 if tract bounds river; 0 otherwise)\n",
      "        - NOX      nitric oxides concentration (parts per 10 million)\n",
      "        - RM       average number of rooms per dwelling\n",
      "        - AGE      proportion of owner-occupied units built prior to 1940\n",
      "        - DIS      weighted distances to five Boston employment centres\n",
      "        - RAD      index of accessibility to radial highways\n",
      "        - TAX      full-value property-tax rate per $10,000\n",
      "        - PTRATIO  pupil-teacher ratio by town\n",
      "        - B        1000(Bk - 0.63)^2 where Bk is the proportion of blacks by town\n",
      "        - LSTAT    % lower status of the population\n",
      "        - MEDV     Median value of owner-occupied homes in $1000's\n",
      "\n",
      "    :Missing Attribute Values: None\n",
      "\n",
      "    :Creator: Harrison, D. and Rubinfeld, D.L.\n",
      "\n",
      "This is a copy of UCI ML housing dataset.\n",
      "https://archive.ics.uci.edu/ml/machine-learning-databases/housing/\n",
      "\n",
      "\n",
      "This dataset was taken from the StatLib library which is maintained at Carnegie Mellon University.\n",
      "\n",
      "The Boston house-price data of Harrison, D. and Rubinfeld, D.L. 'Hedonic\n",
      "prices and the demand for clean air', J. Environ. Economics & Management,\n",
      "vol.5, 81-102, 1978.   Used in Belsley, Kuh & Welsch, 'Regression diagnostics\n",
      "...', Wiley, 1980.   N.B. Various transformations are used in the table on\n",
      "pages 244-261 of the latter.\n",
      "\n",
      "The Boston house-price data has been used in many machine learning papers that address regression\n",
      "problems.   \n",
      "     \n",
      ".. topic:: References\n",
      "\n",
      "   - Belsley, Kuh & Welsch, 'Regression diagnostics: Identifying Influential Data and Sources of Collinearity', Wiley, 1980. 244-261.\n",
      "   - Quinlan,R. (1993). Combining Instance-Based and Model-Based Learning. In Proceedings on the Tenth International Conference of Machine Learning, 236-243, University of Massachusetts, Amherst. Morgan Kaufmann.\n",
      "\n",
      "...\n",
      "      CRIM    ZN  INDUS  CHAS    NOX     RM   AGE     DIS  RAD    TAX  \\\n",
      "0  0.00632  18.0   2.31   0.0  0.538  6.575  65.2  4.0900  1.0  296.0   \n",
      "1  0.02731   0.0   7.07   0.0  0.469  6.421  78.9  4.9671  2.0  242.0   \n",
      "2  0.02729   0.0   7.07   0.0  0.469  7.185  61.1  4.9671  2.0  242.0   \n",
      "3  0.03237   0.0   2.18   0.0  0.458  6.998  45.8  6.0622  3.0  222.0   \n",
      "4  0.06905   0.0   2.18   0.0  0.458  7.147  54.2  6.0622  3.0  222.0   \n",
      "\n",
      "   PTRATIO       B  LSTAT  \n",
      "0     15.3  396.90   4.98  \n",
      "1     17.8  396.90   9.14  \n",
      "2     17.8  392.83   4.03  \n",
      "3     18.7  394.63   2.94  \n",
      "4     18.7  396.90   5.33  \n"
     ]
    }
   ],
   "source": [
    "#보스턴 주택 가격예측\n",
    "\n",
    "#보스턴 데이터를 import\n",
    "from sklearn.datasets import load_boston\n",
    "\n",
    "#boston 객체에 데이터 저장\n",
    "boston = load_boston()\n",
    "\n",
    "#boston.key들을 출력\n",
    "print(\"boston.keys():{}\\n\".format(boston.keys()))\n",
    "\n",
    "#Data의 크기 출력 boston의 형태 (튜플 , 피쳐)\n",
    "print(\"Data의 크기: {}\\n\".format(boston['data'].shape))\n",
    "\n",
    "#특성 이름들 출력, feature의 이름들\n",
    "print(\"특성 이름:\\n{}\\n\".format(boston.feature_names))\n",
    "\n",
    "#boston의 정보를 출력\n",
    "print(boston['DESCR']+\"\\n...\")\n",
    "\n",
    "#boston feature의 데이터 값들을 상위 5개만 출력\n",
    "df = pd.DataFrame(boston.data, columns=boston.feature_names)\n",
    "print(df.head())\n"
   ]
  },
  {
   "cell_type": "code",
   "execution_count": 139,
   "metadata": {},
   "outputs": [
    {
     "data": {
      "text/plain": [
       "<matplotlib.collections.PathCollection at 0x1fb0fc35a90>"
      ]
     },
     "execution_count": 139,
     "metadata": {},
     "output_type": "execute_result"
    },
    {
     "data": {
      "image/png": "[encoded data removed]",
      "text/plain": [
       "<Figure size 432x288 with 1 Axes>"
      ]
     },
     "metadata": {
      "needs_background": "light"
     },
     "output_type": "display_data"
    }
   ],
   "source": [
    "import matplotlib.pyplot as plt\n",
    "\n",
    "#방의 갯수에 따른 가격의 산점도 그리기\n",
    "#boston.data[:,5] = 6번쨰 feature의미 즉 'RM' 방의 갯수 df['RM']으로도 가능\n",
    "#color= 색, s = 점의 크기\n",
    "\n",
    "plt.scatter(boston.data[:,5],boston.target, color = 'r', s=10)\n",
    "#plt.scatter(df['RM'],boston.target, color = 'r', s=10)\n"
   ]
  },
  {
   "cell_type": "code",
   "execution_count": 150,
   "metadata": {},
   "outputs": [
    {
     "name": "stdout",
     "output_type": "stream",
     "text": [
      "(506,)\n",
      "(506, 1)\n",
      "w[0]: 9.102109 b: -34.670621\n"
     ]
    }
   ],
   "source": [
    "#속성 하나로 선형회귀 실험\n",
    "\n",
    "#위에서 사용한 RM 속성을 이용\n",
    "X = boston.data[:,5]\n",
    "\n",
    "#RM의 형태를 출력 (로우,피쳐) 506개의 로우가 있음을 확인\n",
    "print(X.shape)\n",
    "\n",
    "#LinearRegression 함수에 인자로 전달하려면 \n",
    "#각 원소의 값이 담긴 2차원 배열을 (n,1)형태로 만들어야 함\n",
    "# atleast_2d 함수는 x 데이터를 2차원 배열을 (1,n)형태로 만들어줌.\n",
    "\n",
    "#x=RM의 데이터를 X_1에 2차원 배열 형태로 저장\n",
    "X_1=np.atleast_2d(X)\n",
    "\n",
    "#(1,n) -> (n,1)로 바꾸기 위해 transpose 함수를 이용한다.\n",
    "X_2=np.transpose(X_1)\n",
    "\n",
    "#X_2를 출력해보면 (506,1) 즉, (n,1)로 되어있는것을 확인할 수 있음.\n",
    "print(X_2.shape)\n",
    "\n",
    "#boston의 타겟값을 y에 저장\n",
    "y=boston.target\n",
    "\n",
    "#X_2와 y를 선형모델에 학습을 시킨다.\n",
    "lr.fit(X_2,y)\n",
    "\n",
    "#학습시킨 X_2의 예측값을 저장함.\n",
    "y_predicted = lr.predict(X_2)\n",
    "\n",
    "#기울기 lr.coef와 y절편 inetcept 출력\n",
    "print(\"w[0]: %f b: %f\"%(lr.coef_[0],lr.intercept_))\n",
    "\n"
   ]
  },
  {
   "cell_type": "code",
   "execution_count": 154,
   "metadata": {},
   "outputs": [
    {
     "data": {
      "text/plain": [
       "[<matplotlib.lines.Line2D at 0x1fb116b8550>]"
      ]
     },
     "execution_count": 154,
     "metadata": {},
     "output_type": "execute_result"
    },
    {
     "data": {
      "image/png": "[encoded data removed]",
      "text/plain": [
       "<Figure size 432x288 with 1 Axes>"
      ]
     },
     "metadata": {
      "needs_background": "light"
     },
     "output_type": "display_data"
    }
   ],
   "source": [
    "# (x = X_2의 데이터값, y = X_2의 예측값)을 이은 선을 그림\n",
    "plt.plot(X_2,y_predicted)\n",
    "\n",
    "# (x =X_2의 데이터값, y =boston.target) 모양은 동그라미, 색은 빨강, 마커사이즈=3\n",
    "plt.plot(X_2,y,'o',color='r',markersize=3)"
   ]
  },
  {
   "cell_type": "code",
   "execution_count": 157,
   "metadata": {},
   "outputs": [
    {
     "name": "stdout",
     "output_type": "stream",
     "text": [
      "X_train.shape=(379, 13) X_test.shape=(127, 13)\n",
      "훈련 세트 점수: 0.77\n",
      "테스트 세트 점수: 0.64\n"
     ]
    }
   ],
   "source": [
    "#train_test_split 함수로 boston 데이터와 타겟을 훈련, 테스트 셋으로 나눈다.\n",
    "X_train, X_test, y_train, y_test = train_test_split(boston.data, boston.target, random_state=0)\n",
    "\n",
    "#훈련, 테스트 셋으로 잘 나뉘었나 확인하기 위해\n",
    "#훈련셋의 형태 (튜플,피쳐), 테스트 셋의 형태(튜플, 피쳐)를 출력한다.\n",
    "print(\"X_train.shape={}\".format(X_train.shape),\"X_test.shape={}\".format(X_test.shape))\n",
    "\n",
    "#선형모델에 훈련 셋을 넣어 학습시킨다.\n",
    "lr=LinearRegression().fit(X_train, y_train)\n",
    "\n",
    "#훈련셋의 점수를 확인한다.\n",
    "print(\"훈련 세트 점수: {:.2f}\".format(lr.score(X_train, y_train)))\n",
    "\n",
    "#테스트셋의 점수를 확인한다.\n",
    "print(\"테스트 세트 점수: {:.2f}\".format(lr.score(X_test, y_test)))\n"
   ]
  },
  {
   "cell_type": "code",
   "execution_count": 159,
   "metadata": {},
   "outputs": [
    {
     "name": "stdout",
     "output_type": "stream",
     "text": [
      "훈련 세트 점수: 0.95\n",
      "테스트 세트 점수: 0.61\n"
     ]
    }
   ],
   "source": [
    "#피처를 추가한 보스턴 데이터 셋\n",
    "X, y = mglearn.datasets.load_extended_boston()\n",
    "\n",
    "#train_test_split 함수로 boston 데이터와 타겟을 훈련, 테스트 셋으로 나눈다.\n",
    "X_train, X_test, y_train, y_test = train_test_split(X, y, random_state=0)\n",
    "\n",
    "#선형 모델에 훈련 세트를 집어넣어 학습시킨다.\n",
    "lr=LinearRegression().fit(X_train, y_train)\n",
    "\n",
    "#훈련셋의 점수를 확인한다.\n",
    "print(\"훈련 세트 점수: {:.2f}\".format(lr.score(X_train, y_train)))\n",
    "\n",
    "#테스트셋의 점수를 확인한다.\n",
    "print(\"테스트 세트 점수: {:.2f}\".format(lr.score(X_test, y_test)))\n",
    "\n",
    "#훈련세트가 0.95인데 반해 테스트 세트는 0.61밖에 되지 않음.\n",
    "#그렇다는 뜻은 모델이 과대적합이라는 것을 추측할 수 있다."
   ]
  },
  {
   "cell_type": "code",
   "execution_count": null,
   "metadata": {},
   "outputs": [],
   "source": []
  }
 ],
 "metadata": {
  "kernelspec": {
   "display_name": "Python 3",
   "language": "python",
   "name": "python3"
  },
  "language_info": {
   "codemirror_mode": {
    "name": "ipython",
    "version": 3
   },
   "file_extension": ".py",
   "mimetype": "text/x-python",
   "name": "python",
   "nbconvert_exporter": "python",
   "pygments_lexer": "ipython3",
   "version": "3.8.3"
  }
 },
 "nbformat": 4,
 "nbformat_minor": 4
}
