{
 "cells": [
  {
   "cell_type": "code",
   "execution_count": 17,
   "id": "e122bc43",
   "metadata": {},
   "outputs": [],
   "source": [
    "%matplotlib inline\n",
    "import numpy as np\n",
    "from scipy import sparse\n",
    "import matplotlib.pyplot as plt\n",
    "import pandas as pd\n",
    "import mglearn\n",
    "#multi class -> a 아니면 나머지 , b 아니면 나머지  , (이진)\n",
    "#(NB, KNN, DT, Logistic)\n",
    "\n",
    "#mulitnomial -> a,b,c, 중 한가지를 선택'\n",
    "from sklearn.model_selection import train_test_split\n",
    "from sklearn import datasets\n",
    "import pandas as pd\n",
    "import numpy as np\n",
    "import matplotlib\n",
    "import matplotlib.pyplot as plt\n",
    "import mglearn\n",
    "\n",
    "#한글을 출력하기 위한 import\n",
    "#한글 font를 설정해준다.\n",
    "\n",
    "from matplotlib import font_manager, rc\n",
    "font_name = font_manager.FontProperties(fname =\"c:/Windows/Fonts/malgun.ttf\").get_name()\n",
    "rc('font',family=font_name)\n",
    "\n",
    "import matplotlib as mpl # -깨짐 현상을 해결하기 위햏 matplotlib을 import\n",
    "mpl.rcParams['axes.unicode_minus'] = False # - 깨짐 현상을 해결하기 위한 구문\n",
    "\n",
    "\n"
   ]
  },
  {
   "cell_type": "code",
   "execution_count": 7,
   "id": "8379ff39",
   "metadata": {},
   "outputs": [
    {
     "data": {
      "text/html": [
       "<div>\n",
       "<style scoped>\n",
       "    .dataframe tbody tr th:only-of-type {\n",
       "        vertical-align: middle;\n",
       "    }\n",
       "\n",
       "    .dataframe tbody tr th {\n",
       "        vertical-align: top;\n",
       "    }\n",
       "\n",
       "    .dataframe thead th {\n",
       "        text-align: right;\n",
       "    }\n",
       "</style>\n",
       "<table border=\"1\" class=\"dataframe\">\n",
       "  <thead>\n",
       "    <tr style=\"text-align: right;\">\n",
       "      <th></th>\n",
       "      <th>age</th>\n",
       "      <th>workclass</th>\n",
       "      <th>education</th>\n",
       "      <th>gender</th>\n",
       "      <th>hours-per-week</th>\n",
       "      <th>occupation</th>\n",
       "      <th>income</th>\n",
       "    </tr>\n",
       "  </thead>\n",
       "  <tbody>\n",
       "    <tr>\n",
       "      <th>0</th>\n",
       "      <td>39</td>\n",
       "      <td>State-gov</td>\n",
       "      <td>Bachelors</td>\n",
       "      <td>Male</td>\n",
       "      <td>40</td>\n",
       "      <td>Adm-clerical</td>\n",
       "      <td>&lt;=50K</td>\n",
       "    </tr>\n",
       "    <tr>\n",
       "      <th>1</th>\n",
       "      <td>50</td>\n",
       "      <td>Self-emp-not-inc</td>\n",
       "      <td>Bachelors</td>\n",
       "      <td>Male</td>\n",
       "      <td>13</td>\n",
       "      <td>Exec-managerial</td>\n",
       "      <td>&lt;=50K</td>\n",
       "    </tr>\n",
       "    <tr>\n",
       "      <th>2</th>\n",
       "      <td>38</td>\n",
       "      <td>Private</td>\n",
       "      <td>HS-grad</td>\n",
       "      <td>Male</td>\n",
       "      <td>40</td>\n",
       "      <td>Handlers-cleaners</td>\n",
       "      <td>&lt;=50K</td>\n",
       "    </tr>\n",
       "    <tr>\n",
       "      <th>3</th>\n",
       "      <td>53</td>\n",
       "      <td>Private</td>\n",
       "      <td>11th</td>\n",
       "      <td>Male</td>\n",
       "      <td>40</td>\n",
       "      <td>Handlers-cleaners</td>\n",
       "      <td>&lt;=50K</td>\n",
       "    </tr>\n",
       "    <tr>\n",
       "      <th>4</th>\n",
       "      <td>28</td>\n",
       "      <td>Private</td>\n",
       "      <td>Bachelors</td>\n",
       "      <td>Female</td>\n",
       "      <td>40</td>\n",
       "      <td>Prof-specialty</td>\n",
       "      <td>&lt;=50K</td>\n",
       "    </tr>\n",
       "  </tbody>\n",
       "</table>\n",
       "</div>"
      ],
      "text/plain": [
       "   age          workclass   education   gender  hours-per-week  \\\n",
       "0   39          State-gov   Bachelors     Male              40   \n",
       "1   50   Self-emp-not-inc   Bachelors     Male              13   \n",
       "2   38            Private     HS-grad     Male              40   \n",
       "3   53            Private        11th     Male              40   \n",
       "4   28            Private   Bachelors   Female              40   \n",
       "\n",
       "           occupation  income  \n",
       "0        Adm-clerical   <=50K  \n",
       "1     Exec-managerial   <=50K  \n",
       "2   Handlers-cleaners   <=50K  \n",
       "3   Handlers-cleaners   <=50K  \n",
       "4      Prof-specialty   <=50K  "
      ]
     },
     "metadata": {},
     "output_type": "display_data"
    }
   ],
   "source": [
    "import os \n",
    "\n",
    "#csv 파일을 읽는다.\n",
    "#파일 이름은 adult.data , names=[feature 이름]\n",
    "#표의 형태로 데이터를 출력한다.\n",
    "data = pd.read_csv(\n",
    "    os.path.join(mglearn.datasets.DATA_PATH, \"adult.data\"), header=None, index_col=False,\n",
    "    names = ['age', 'workclass','fnlwgt','education','education-num','marital-status',\n",
    "            'occupation','relationship','race','gender','capital-gain','capital-loss',\n",
    "            'hours-per-week','native-country','income'])\n",
    "data = data[['age','workclass','education','gender','hours-per-week','occupation','income']]\n",
    "display(data.head())"
   ]
  },
  {
   "cell_type": "code",
   "execution_count": 8,
   "id": "c2b0a9b6",
   "metadata": {},
   "outputs": [
    {
     "name": "stdout",
     "output_type": "stream",
     "text": [
      " Male      21790\n",
      " Female    10771\n",
      "Name: gender, dtype: int64\n"
     ]
    }
   ],
   "source": [
    "#성별에 따른 각각의 갯수를 출력\n",
    "# 남자 21790명, 여자 10771명\n",
    "print(data.gender.value_counts())"
   ]
  },
  {
   "cell_type": "code",
   "execution_count": 9,
   "id": "518c2965",
   "metadata": {},
   "outputs": [
    {
     "name": "stdout",
     "output_type": "stream",
     "text": [
      "원본 특성:\n",
      " ['age', 'workclass', 'education', 'gender', 'hours-per-week', 'occupation', 'income'] \n",
      "\n",
      "get_dummies 후의 특성:\n",
      " ['age', 'hours-per-week', 'workclass_ ?', 'workclass_ Federal-gov', 'workclass_ Local-gov', 'workclass_ Never-worked', 'workclass_ Private', 'workclass_ Self-emp-inc', 'workclass_ Self-emp-not-inc', 'workclass_ State-gov', 'workclass_ Without-pay', 'education_ 10th', 'education_ 11th', 'education_ 12th', 'education_ 1st-4th', 'education_ 5th-6th', 'education_ 7th-8th', 'education_ 9th', 'education_ Assoc-acdm', 'education_ Assoc-voc', 'education_ Bachelors', 'education_ Doctorate', 'education_ HS-grad', 'education_ Masters', 'education_ Preschool', 'education_ Prof-school', 'education_ Some-college', 'gender_ Female', 'gender_ Male', 'occupation_ ?', 'occupation_ Adm-clerical', 'occupation_ Armed-Forces', 'occupation_ Craft-repair', 'occupation_ Exec-managerial', 'occupation_ Farming-fishing', 'occupation_ Handlers-cleaners', 'occupation_ Machine-op-inspct', 'occupation_ Other-service', 'occupation_ Priv-house-serv', 'occupation_ Prof-specialty', 'occupation_ Protective-serv', 'occupation_ Sales', 'occupation_ Tech-support', 'occupation_ Transport-moving', 'income_ <=50K', 'income_ >50K']\n"
     ]
    }
   ],
   "source": [
    "#원본 데이터의 feature들을 출력한다.\n",
    "print(\"원본 특성:\\n\",list(data.columns), \"\\n\")\n",
    "\n",
    "#pandas를 이용해 더미값들을 data_dummies에 저장한다.\n",
    "data_dummies = pd.get_dummies(data)\n",
    "\n",
    "#dummies로 변환 후의 feature이름들을 출력한다.\n",
    "print(\"get_dummies 후의 특성:\\n\", list(data_dummies.columns))"
   ]
  },
  {
   "cell_type": "code",
   "execution_count": 12,
   "id": "5ed9fff8",
   "metadata": {},
   "outputs": [
    {
     "name": "stdout",
     "output_type": "stream",
     "text": [
      "X.shape: (32561, 44) y.shape: (32561,)\n"
     ]
    }
   ],
   "source": [
    "features = data_dummies.loc[:, 'age':'occupation_ Transport-moving']\n",
    "X=features.values\n",
    "y=data_dummies['income_ >50K'].values\n",
    "print(\"X.shape: {} y.shape: {}\".format(X.shape, y.shape))"
   ]
  },
  {
   "cell_type": "code",
   "execution_count": 13,
   "id": "ea4aabd0",
   "metadata": {},
   "outputs": [
    {
     "name": "stdout",
     "output_type": "stream",
     "text": [
      "테스트 점수: 0.81\n"
     ]
    },
    {
     "name": "stderr",
     "output_type": "stream",
     "text": [
      "C:\\Users\\12zzz\\anaconda3\\lib\\site-packages\\sklearn\\linear_model\\_logistic.py:763: ConvergenceWarning: lbfgs failed to converge (status=1):\n",
      "STOP: TOTAL NO. of ITERATIONS REACHED LIMIT.\n",
      "\n",
      "Increase the number of iterations (max_iter) or scale the data as shown in:\n",
      "    https://scikit-learn.org/stable/modules/preprocessing.html\n",
      "Please also refer to the documentation for alternative solver options:\n",
      "    https://scikit-learn.org/stable/modules/linear_model.html#logistic-regression\n",
      "  n_iter_i = _check_optimize_result(\n"
     ]
    }
   ],
   "source": [
    "from sklearn.linear_model import LogisticRegression\n",
    "from sklearn.model_selection import train_test_split\n",
    "\n",
    "#위에서 구한 X, y 값을 훈련, 테스트 셋으로 나눈다.\n",
    "X_train, X_test, y_train, y_test = train_test_split(X,y,random_state=0)\n",
    "\n",
    "#로지스틱 회귀 모델을 생성한뒤 훈련데이터를 학습시킨다.\n",
    "logreg = LogisticRegression()\n",
    "logreg.fit(X_train, y_train)\n",
    "\n",
    "#해당 학습모델을 이용해 테스트 점수를 확인한다.\n",
    "print(\"테스트 점수: {:.2f}\".format(logreg.score(X_test, y_test)))"
   ]
  },
  {
   "cell_type": "code",
   "execution_count": 14,
   "id": "6cc659f6",
   "metadata": {},
   "outputs": [
    {
     "data": {
      "text/html": [
       "<div>\n",
       "<style scoped>\n",
       "    .dataframe tbody tr th:only-of-type {\n",
       "        vertical-align: middle;\n",
       "    }\n",
       "\n",
       "    .dataframe tbody tr th {\n",
       "        vertical-align: top;\n",
       "    }\n",
       "\n",
       "    .dataframe thead th {\n",
       "        text-align: right;\n",
       "    }\n",
       "</style>\n",
       "<table border=\"1\" class=\"dataframe\">\n",
       "  <thead>\n",
       "    <tr style=\"text-align: right;\">\n",
       "      <th></th>\n",
       "      <th>숫자 특성</th>\n",
       "      <th>범주형 특성</th>\n",
       "    </tr>\n",
       "  </thead>\n",
       "  <tbody>\n",
       "    <tr>\n",
       "      <th>0</th>\n",
       "      <td>0</td>\n",
       "      <td>양말</td>\n",
       "    </tr>\n",
       "    <tr>\n",
       "      <th>1</th>\n",
       "      <td>1</td>\n",
       "      <td>여우</td>\n",
       "    </tr>\n",
       "    <tr>\n",
       "      <th>2</th>\n",
       "      <td>2</td>\n",
       "      <td>양말</td>\n",
       "    </tr>\n",
       "    <tr>\n",
       "      <th>3</th>\n",
       "      <td>1</td>\n",
       "      <td>상자</td>\n",
       "    </tr>\n",
       "  </tbody>\n",
       "</table>\n",
       "</div>"
      ],
      "text/plain": [
       "   숫자 특성 범주형 특성\n",
       "0      0     양말\n",
       "1      1     여우\n",
       "2      2     양말\n",
       "3      1     상자"
      ]
     },
     "metadata": {},
     "output_type": "display_data"
    }
   ],
   "source": [
    "#숫자 특성으로 demo_df를 설정한다.\n",
    "demo_df=pd.DataFrame({'숫자 특성': [0,1,2,1], \n",
    "                     '범주형 특성': ['양말','여우','양말','상자']})\n",
    "#demo_df값을 표로 보여준다.\n",
    "display(demo_df)"
   ]
  },
  {
   "cell_type": "code",
   "execution_count": 18,
   "id": "3d489f1c",
   "metadata": {},
   "outputs": [
    {
     "name": "stdout",
     "output_type": "stream",
     "text": [
      "score: 0.63\n",
      "score: 0.86\n"
     ]
    },
    {
     "data": {
      "image/png": "[encoded data removed]",
      "text/plain": [
       "<Figure size 432x288 with 1 Axes>"
      ]
     },
     "metadata": {
      "needs_background": "light"
     },
     "output_type": "display_data"
    }
   ],
   "source": [
    "from sklearn.linear_model import LinearRegression\n",
    "from sklearn.tree import DecisionTreeRegressor\n",
    "\n",
    "#120개의 샘플로 X,y 데이터를 생성한다.\n",
    "X,y=mglearn.datasets.make_wave(n_samples=120)\n",
    "\n",
    "#라인을 그리는 문장\n",
    "line = np.linspace(-3, 3 , 1000, endpoint=False).reshape(-1,1)\n",
    "\n",
    "#결정트리를 그리는 선 생성\n",
    "dreg = DecisionTreeRegressor(min_samples_leaf=3).fit(X,y)\n",
    "plt.plot(line, dreg.predict(line), label = '결정트리')\n",
    "\n",
    "#선형 회귀를 그리는 선 생성\n",
    "lreg = LinearRegression().fit(X,y)\n",
    "plt.plot(line, lreg.predict(line), '--', label = '선형 회귀')\n",
    "\n",
    "#위에서 얻은 점 120개를 찍는다.\n",
    "plt.plot(X[:,0], y, 'o', c= 'k')\n",
    "\n",
    "#x, y 라벨 이름 설정\n",
    "plt.ylabel('회귀 출력')\n",
    "plt.xlabel('입력 특성')\n",
    "\n",
    "#설명칸 위치 설정\n",
    "plt.legend(loc = 'best')\n",
    "\n",
    "#선형 회귀 점수 출력\n",
    "print(\"score: {:.2f}\".format(lreg.score(X,y)))\n",
    "#결정 트리 점수 출력\n",
    "print(\"score: {:.2f}\".format(dreg.score(X,y)))\n",
    "\n",
    "#스코어 차이가 많이나는 것을 확인할 수 있다."
   ]
  },
  {
   "cell_type": "code",
   "execution_count": 19,
   "id": "241f981c",
   "metadata": {},
   "outputs": [
    {
     "name": "stdout",
     "output_type": "stream",
     "text": [
      "구간:[-3.  -2.4 -1.8 -1.2 -0.6  0.   0.6  1.2  1.8  2.4  3. ]\n"
     ]
    }
   ],
   "source": [
    "bins = np.linspace(-3,3,11)\n",
    "print('구간:{}'.format(bins))"
   ]
  },
  {
   "cell_type": "code",
   "execution_count": 25,
   "id": "bd9a96c3",
   "metadata": {},
   "outputs": [
    {
     "name": "stdout",
     "output_type": "stream",
     "text": [
      "score: 0.72\n",
      "score: 0.72\n"
     ]
    },
    {
     "data": {
      "image/png": "[encoded data removed]",
      "text/plain": [
       "<Figure size 432x288 with 1 Axes>"
      ]
     },
     "metadata": {
      "needs_background": "light"
     },
     "output_type": "display_data"
    }
   ],
   "source": [
    "from sklearn.preprocessing import KBinsDiscretizer\n",
    "\n",
    "#kbinsdiscretizer를 적용한다. 원핫 덴즈 적용\n",
    "kb = KBinsDiscretizer(n_bins=10, strategy='uniform',encode='onehot-dense')\n",
    "kb.fit(X)\n",
    "X_binned = kb.transform(X)\n",
    "\n",
    "line_binned = kb.transform(line)\n",
    "\n",
    "#결정트리를 그리는 선 생성\n",
    "dreg = DecisionTreeRegressor(min_samples_leaf=3).fit(X_binned, y)\n",
    "plt.plot(line, dreg.predict(line_binned), label = '구간 결정 트리')\n",
    "\n",
    "#선형 회귀를 그리는 선 생성\n",
    "lreg = LinearRegression().fit(X_binned,y)\n",
    "plt.plot(line, lreg.predict(line_binned), '--', label = '구간 선형 회귀')\n",
    "\n",
    "plt.plot(X[:,0], y, 'o',c='k')\n",
    "plt.vlines(kb.bin_edges_[0], -3,3, linewidth=1, alpha=.2)\n",
    "plt.legend(loc='best')\n",
    "plt.ylabel(\"회귀 출력\")\n",
    "plt.xlabel(\"입력 특성\")\n",
    "\n",
    "#선형 회귀 점수 출력\n",
    "print(\"score: {:.2f}\".format(lreg.score(X_binned,y)))\n",
    "#결정 트리 점수 출력\n",
    "print(\"score: {:.2f}\".format(dreg.score(X_binned,y)))\n",
    "\n",
    "#구간으로 변환하여 원핫인코딩 후 구간별 예측값이 상수값\n",
    "#스코어 차이는 나지 않음\n",
    "#결정트리는 특성별로 가장 좋은 구간을 학습하므로 구간 나누기가 별 도움 없음"
   ]
  },
  {
   "cell_type": "code",
   "execution_count": 31,
   "id": "e701080e",
   "metadata": {},
   "outputs": [
    {
     "name": "stdout",
     "output_type": "stream",
     "text": [
      "X_train.shape:(379, 13)\n",
      "X_train_poly.shape:(379, 105)\n"
     ]
    }
   ],
   "source": [
    "#다항식 추가\n",
    "\n",
    "#PolynomialFeatures import 해온다.\n",
    "# 그 외 여러가지 라이브러리를 import\n",
    "from sklearn.preprocessing import PolynomialFeatures\n",
    "from sklearn.datasets import load_boston\n",
    "from sklearn.model_selection import train_test_split\n",
    "from sklearn.preprocessing import MinMaxScaler\n",
    "\n",
    "#boston 데이터를 boston에 저장한다.\n",
    "#boston 데이터를 훈련, 테스트 셋으로 나누어줌\n",
    "boston = load_boston()\n",
    "X_train, X_test, y_train, y_test = train_test_split(\n",
    "boston.data, boston.target, random_state=0)\n",
    "\n",
    "#데이터 스케일링을 위해 MinMaxScaler를 가져온다.\n",
    "scaler = MinMaxScaler()\n",
    "X_train_scaled = scaler.fit_transform(X_train)\n",
    "X_test_scaled = scaler.transform(X_test)\n",
    "\n",
    "#poly객체에 Ploynomial모델을 적용시킨다.\n",
    "poly = PolynomialFeatures(degree=2).fit(X_train_scaled)\n",
    "\n",
    "#훈련, 테스트 데이터에 poly 모델을 적용시켜 스케일링한다.\n",
    "X_train_ploy = poly.transform(X_train_scaled)\n",
    "X_test_ploy = poly.transform(X_test_scaled)\n",
    "\n",
    "\n",
    "print(\"X_train.shape:{}\".format(X_train.shape))\n",
    "print(\"X_train_poly.shape:{}\".format(X_train_ploy.shape))\n"
   ]
  },
  {
   "cell_type": "code",
   "execution_count": 32,
   "id": "7fdb47b7",
   "metadata": {},
   "outputs": [
    {
     "name": "stdout",
     "output_type": "stream",
     "text": [
      "다항 특성 이름:\n",
      " ['1', 'x0', 'x1', 'x2', 'x3', 'x4', 'x5', 'x6', 'x7', 'x8', 'x9', 'x10', 'x11', 'x12', 'x0^2', 'x0 x1', 'x0 x2', 'x0 x3', 'x0 x4', 'x0 x5', 'x0 x6', 'x0 x7', 'x0 x8', 'x0 x9', 'x0 x10', 'x0 x11', 'x0 x12', 'x1^2', 'x1 x2', 'x1 x3', 'x1 x4', 'x1 x5', 'x1 x6', 'x1 x7', 'x1 x8', 'x1 x9', 'x1 x10', 'x1 x11', 'x1 x12', 'x2^2', 'x2 x3', 'x2 x4', 'x2 x5', 'x2 x6', 'x2 x7', 'x2 x8', 'x2 x9', 'x2 x10', 'x2 x11', 'x2 x12', 'x3^2', 'x3 x4', 'x3 x5', 'x3 x6', 'x3 x7', 'x3 x8', 'x3 x9', 'x3 x10', 'x3 x11', 'x3 x12', 'x4^2', 'x4 x5', 'x4 x6', 'x4 x7', 'x4 x8', 'x4 x9', 'x4 x10', 'x4 x11', 'x4 x12', 'x5^2', 'x5 x6', 'x5 x7', 'x5 x8', 'x5 x9', 'x5 x10', 'x5 x11', 'x5 x12', 'x6^2', 'x6 x7', 'x6 x8', 'x6 x9', 'x6 x10', 'x6 x11', 'x6 x12', 'x7^2', 'x7 x8', 'x7 x9', 'x7 x10', 'x7 x11', 'x7 x12', 'x8^2', 'x8 x9', 'x8 x10', 'x8 x11', 'x8 x12', 'x9^2', 'x9 x10', 'x9 x11', 'x9 x12', 'x10^2', 'x10 x11', 'x10 x12', 'x11^2', 'x11 x12', 'x12^2']\n"
     ]
    }
   ],
   "source": [
    "print(\"다항 특성 이름:\\n {}\".format(poly.get_feature_names()))"
   ]
  },
  {
   "cell_type": "code",
   "execution_count": 37,
   "id": "55c2b45a",
   "metadata": {},
   "outputs": [
    {
     "name": "stdout",
     "output_type": "stream",
     "text": [
      "상호작용 특성이 없을 때 점수:0.621\n",
      "상호작용 특성이 있을 때 점수:0.753\n"
     ]
    }
   ],
   "source": [
    "from sklearn.linear_model import Ridge\n",
    "\n",
    "#상호 작용이 없는 데이터 셋을 rige에 학습시킨다.\n",
    "ridge = Ridge().fit(X_train_scaled, y_train)\n",
    "#상호 작용이 없는 모델의 점수를 출력한다.\n",
    "print(\"상호작용 특성이 없을 때 점수:{:.3f}\".format(ridge.score(X_test_scaled, y_test)))\n",
    "\n",
    "#상호작용 특성이 있는 데이터셋을 모델에 학습시킨다.\n",
    "#해당 모델의 점수를 출력한다.\n",
    "ridge = Ridge().fit(X_train_ploy,y_train)\n",
    "print(\"상호작용 특성이 있을 때 점수:{:.3f}\".format(ridge.score(X_test_ploy,y_test)))\n",
    "\n",
    "#상호작용 특성이 있을떄 더 높은 점수를 보이는 것을 확인할 수 있따.\n",
    "#하지만 모든 데이터에 대해서 이렇게 높은 점수를 보이는 것은 아님"
   ]
  }
 ],
 "metadata": {
  "kernelspec": {
   "display_name": "Python 3",
   "language": "python",
   "name": "python3"
  },
  "language_info": {
   "codemirror_mode": {
    "name": "ipython",
    "version": 3
   },
   "file_extension": ".py",
   "mimetype": "text/x-python",
   "name": "python",
   "nbconvert_exporter": "python",
   "pygments_lexer": "ipython3",
   "version": "3.8.8"
  }
 },
 "nbformat": 4,
 "nbformat_minor": 5
}
