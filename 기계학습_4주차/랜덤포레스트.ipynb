{
 "cells": [
  {
   "cell_type": "markdown",
   "metadata": {},
   "source": [
    "Ensemble (앙상블)\n",
    "\n",
    "머신러닝에서 학습의 결과가 noise, variance, bias 등으로 달라진다.\n",
    "\n",
    "앙상블은 이중 variance, bias 등의 영향을 줄여준다\n",
    "\n",
    "bias - 편향 ,  variance - 분산\n",
    "\n",
    "Bagging 과 Boosting으로 크게 나뉘어짐"
   ]
  },
  {
   "cell_type": "markdown",
   "metadata": {},
   "source": [
    "---------------------------------------------------------------------\n",
    "Bagging (Bootstrap aggregating) 줄임말\n",
    "\n",
    "*여러개의 bootstrap 자료를 생성하고 결합하여 최종예측모형 산출\n",
    "\n",
    "Bootstrap \n",
    " -> 단순 복원 임의 추출법(random sampling)으로 원자료로부터 크기가 동일한\n",
    "     여러 개(중복가능)의 표본 추출\n",
    "\n",
    "*예측모형의 변동성이 큰 경우 variance 감소 목적\n",
    "\n",
    "*과대적합된 모형, bias 작고, 분산이 큰 모형에 적합!!\n",
    "\n",
    "*랜덤 복원 샘플의 모델들로 부터 최종 결과는 average나 majority voote\n",
    "\n",
    "* 여러개를 만들어서 합친다고 생각하면 됨\n",
    "\n",
    "--------------------------------------------------------------------"
   ]
  },
  {
   "cell_type": "markdown",
   "metadata": {},
   "source": [
    "Boosting\n",
    "\n",
    "*잘못 분류된 개체들에 집중하여 새로운 분류 규칙 수립\n",
    "\n",
    "*약한 모델을 결합하여 강한 예측 모형 수립\n",
    "\n",
    "*앞단계의 모델에서 실수를 줄여간다 (순차적 생성)\n",
    "\n",
    "*시간과 반복을 줄일 수 있음\n",
    "\n",
    "*과적합을 방지하기 위해 중지 기준을 정해야 함.\n",
    "\n",
    "* 하나를 계속해서 발전시켜나간다고 생각하면 됨"
   ]
  },
  {
   "cell_type": "markdown",
   "metadata": {},
   "source": [
    "Random Forest\n",
    "\n",
    "-과대적합을 피하기 위해 여러 결정트리를 결합(Ensemble)\n",
    "\n",
    "-서로다른 방향으로 과대적합한 트리 결과를 평균하여 과대적합을 줄인다.\n",
    "\n",
    "-트리가 달라지도록 트리 생성시 무작위성을 주입\n",
    "->트리 생성할 때 무작위로 데이터 포인트 생성 : Bootstrap sample\n",
    "->분할시 후보 특성을 무작위로 선택 : 중복선택 가능\n",
    "\n",
    "ex) 한개의 데이터 셋으로 여러 개의 랜덤 데이터 셋을 만듦\n",
    "\n",
    "original = [1, 2, 3, 4, 5, 6, 7, 8, 9 ,10]\n",
    "\n",
    "round1   = [2, 3, 3, 5, 5, 1, 2 ,8 , 6, 6]\n",
    "\n",
    "round2   = [1, 6, 3, 2, 5, 5, 7 ,8 , 8, 10]\n",
    "\n",
    "round3   = [2, 3, 10, 6, 3, 2, 4 ,5 , 7, 6]\n",
    "이런식으로"
   ]
  },
  {
   "cell_type": "code",
   "execution_count": 8,
   "metadata": {},
   "outputs": [],
   "source": [
    "#multi class -> a 아니면 나머지 , b 아니면 나머지  , (이진)\n",
    "#(NB, KNN, DT, Logistic)\n",
    "\n",
    "#mulitnomial -> a,b,c, 중 한가지를 선택'\n",
    "\n",
    "from sklearn.model_selection import cross_val_score\n",
    "from sklearn.model_selection import train_test_split\n",
    "from sklearn import datasets\n",
    "import pandas as pd\n",
    "import numpy as np\n",
    "import matplotlib\n",
    "import matplotlib.pyplot as plt\n",
    "import mglearn\n",
    "\n",
    "#한글을 출력하기 위한 import\n",
    "#한글 font를 설정해준다.\n",
    "\n",
    "from matplotlib import font_manager, rc\n",
    "font_name = font_manager.FontProperties(fname =\"c:/Windows/Fonts/malgun.ttf\").get_name()\n",
    "rc('font',family=font_name)\n",
    "\n",
    "import matplotlib as mpl # -깨짐 현상을 해결하기 위햏 matplotlib을 import\n",
    "mpl.rcParams['axes.unicode_minus'] = False # - 깨짐 현상을 해결하기 위한 구문\n",
    "\n"
   ]
  },
  {
   "cell_type": "code",
   "execution_count": 9,
   "metadata": {},
   "outputs": [
    {
     "name": "stdout",
     "output_type": "stream",
     "text": [
      "테스트 세트 정확도: 0.920\n",
      "\n",
      "테스트 세트 정확도 CV=5: 0.860\n",
      " \n",
      "테스트 세트 정확도 CV=10: 0.840\n",
      " \n"
     ]
    }
   ],
   "source": [
    "from sklearn.ensemble import RandomForestClassifier\n",
    "from sklearn.datasets import make_moons\n",
    "\n",
    "#make_moons으로 샘플 100개의 데이터를 가져온다.\n",
    "X, y = make_moons(n_samples = 100, noise = 0.25, random_state= 3)\n",
    "\n",
    "#가져온 데이터를 훈련, 테스트 셋으로 나눈다.\n",
    "X_train, X_test, y_train, y_test = train_test_split(X,y,stratify=y, random_state=42)\n",
    "\n",
    "#n_estimators = tree의 개수 \n",
    "#forest 객체에 랜덤포레스트 모델을 생성한 뒤 훈련 데이터 학습시킨다.\n",
    "forest = RandomForestClassifier(n_estimators=5, random_state=2)\n",
    "forest.fit(X_train, y_train)\n",
    "\n",
    "\n",
    "#테스트 세트 정확도 출력\n",
    "print(\"테스트 세트 정확도: {:.3f}\\n\".format(forest.score(X_test,y_test)))\n",
    "\n",
    "#cvscores(모델, 데이터값, 타겟값, cv값)\n",
    "#cv= 5 일 떄 테스트 세트 정확도 출력\n",
    "cvscores = cross_val_score(forest, X, y , cv =5 )\n",
    "print(\"테스트 세트 정확도 CV=5: {:.3f}\\n \".format(cvscores.mean()))\n",
    "\n",
    "#cv=10일 때 테스트 세트 정확도 출력\n",
    "cvscores = cross_val_score(forest, X, y, cv = 10)\n",
    "print(\"테스트 세트 정확도 CV=10: {:.3f}\\n \".format(cvscores.mean()))\n"
   ]
  },
  {
   "cell_type": "code",
   "execution_count": 13,
   "metadata": {},
   "outputs": [
    {
     "name": "stdout",
     "output_type": "stream",
     "text": [
      "훈련 센트 정확도: 1.000\n",
      "테스트 세트 정확도: 0.972\n",
      "테스트 세트 정확도 CV =  10: 0.910\n",
      "\n",
      "[1.  1.  0.8 0.9 1.  1.  0.7 1.  0.9 0.8]\n"
     ]
    }
   ],
   "source": [
    "#cancer에 가져온 cancer 데이터를 저장한다.\n",
    "from sklearn.datasets import load_breast_cancer\n",
    "cancer = load_breast_cancer()\n",
    "\n",
    "#cancer 데이터를 훈련, 테스트 셋으로 나눈다.\n",
    "X_train, X_test, y_train, y_test = train_test_split(cancer.data,\n",
    "                                                    cancer.target,\n",
    "                                                    random_state=42)\n",
    "\n",
    "#forest 객체에 랜덤포레스트 모델을 적용하고 트리의 개수는 100으로 한다.\n",
    "forest = RandomForestClassifier(n_estimators = 100, random_state=0)\n",
    "\n",
    "#forest 객체에 훈련 셋 넣어서 학습시킨다.\n",
    "forest.fit(X_train, y_train)\n",
    "\n",
    "#훈련세트, 테스트 세트의 정확도를 출력한다.\n",
    "print(\"훈련 센트 정확도: {:.3f}\".format(forest.score(X_train, y_train)))\n",
    "#훈련 세트 정확도가 1이 나왔는데 과대적합 의심해야함\n",
    "\n",
    "print(\"테스트 세트 정확도: {:.3f}\".format(forest.score(X_test, y_test)))\n",
    "#테스트 세트 정확도도 높게 나와서 일반화를 시켜야함\n",
    "\n",
    "#일반화를 시키기 위해 cv =10 으로 설정하고 다시 정확도를 출력해본다.\n",
    "cvscores = cross_val_score(forest, X, y, cv = 10)\n",
    "print(\"테스트 세트 정확도 CV =  10: {:.3f}\\n\".format(cvscores.mean()))\n",
    "\n",
    "#cv=10번 했을때 각각의 정확도를 출력한다.\n",
    "print(cvscores)\n"
   ]
  },
  {
   "cell_type": "code",
   "execution_count": 15,
   "metadata": {},
   "outputs": [
    {
     "data": {
      "image/png": "[encoded data removed]",
      "text/plain": [
       "<Figure size 432x288 with 1 Axes>"
      ]
     },
     "metadata": {
      "needs_background": "light"
     },
     "output_type": "display_data"
    }
   ],
   "source": [
    "\n",
    "def plot_feature_importances_cancer(model):\n",
    "    \n",
    "    #cancer의 피처(30개)들을 n_feature에 저장한다.\n",
    "    n_features = cancer.data.shape[1]\n",
    "    \n",
    "    # barh = 가로막대 그리는 함수\n",
    "    # range()=  범위(개수 말하는듯?) , model.feature의 중요도, 간우데 맞춤\n",
    "    plt.barh(range(n_features), model.feature_importances_, align='center')\n",
    "    \n",
    "    #yticks = y축 눈금값 설정 \n",
    "    # arange() n_feature들의 개수, cancer의 피처이름들을 축에 적음\n",
    "    plt.yticks(np.arange(n_features), cancer.feature_names)\n",
    "    \n",
    "    #x, y라벨의 이름 출력\n",
    "    plt.xlabel(\"특성 중요도\")\n",
    "    plt.ylabel(\"특성\")\n",
    "    \n",
    "    #y축의 범위 1만큼의 길이에 n_features로 나눔\n",
    "    plt.ylim(-1, n_features)\n",
    "    \n",
    "    \n",
    "#각 트리에서 특성의 중요도 취합\n",
    "#하나의 트리에서의 특성 중요도보다 신뢰가능 -> 결정트리는 하나의 트리만 봄\n",
    "#결정트리랑 비교해봐도 대부분의 특성이 0보다 큼\n",
    "plot_feature_importances_cancer(forest)"
   ]
  },
  {
   "cell_type": "markdown",
   "metadata": {},
   "source": [
    "장점\n",
    "\n",
    "-단일 트리의 장점 유지, 단점 보완\n",
    "\n",
    "-회귀와 분류에서 가장 널리 사용되는 알고리즘\n",
    "\n",
    "-뛰어난 성능, 매개변수 튜닝 부담 적음(기본값)\n",
    "\n",
    "-데이터 스케일 불 필요\n",
    "\n",
    "-큰 데이터셋 적용 가능, 여러 cpu코어에 병렬화 가능\n",
    "\n",
    "  *n_jobs(사용할 코어수 지정): 기본값1 ~ 최대 -1"
   ]
  },
  {
   "cell_type": "markdown",
   "metadata": {},
   "source": [
    "단점\n",
    "\n",
    "-많은 트리가 생성되므로 자세한 분석이 어렵고 트리가 깊어지는 경향\n",
    "\n",
    "-시각화를 위해서는 하나의 트리를 사용\n",
    "\n",
    "-차원이 크고 희소한 데이터에 성능 안좋음 \n",
    "\n",
    "ex) 텍스트 데이터 - 문장이 백만개 인데 중요한 특성은 10만개 나머지 중요도 = 0\n",
    "\n",
    "-선형 모델보다 메모리 사용량이 많고 훈련과 예측이 느림\n",
    "\n"
   ]
  },
  {
   "cell_type": "markdown",
   "metadata": {},
   "source": [
    "파라미터\n",
    "\n",
    "n-estimators : 클수록 좋은 성능 , 과대적합을 줄여 안정적 모델 but 큰 메모리, 긴 훈련시간\n",
    "    \n",
    "max-features : 트리의 무작위성 지원, 과대적합 줄여줌\n",
    "    \n",
    "max-depth    : 사전 가지치기\n",
    "    \n",
    "    -> 훈련과 예측에 필요한 메모리와 시간 vs 성능향상 vs 과대적합 얼마나 막을 것"
   ]
  },
  {
   "cell_type": "code",
   "execution_count": null,
   "metadata": {},
   "outputs": [],
   "source": []
  },
  {
   "cell_type": "code",
   "execution_count": null,
   "metadata": {},
   "outputs": [],
   "source": []
  }
 ],
 "metadata": {
  "kernelspec": {
   "display_name": "Python 3",
   "language": "python",
   "name": "python3"
  },
  "language_info": {
   "codemirror_mode": {
    "name": "ipython",
    "version": 3
   },
   "file_extension": ".py",
   "mimetype": "text/x-python",
   "name": "python",
   "nbconvert_exporter": "python",
   "pygments_lexer": "ipython3",
   "version": "3.8.8"
  }
 },
 "nbformat": 4,
 "nbformat_minor": 4
}
