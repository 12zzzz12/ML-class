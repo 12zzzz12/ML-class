{
 "cells": [
  {
   "cell_type": "code",
   "execution_count": 1,
   "metadata": {},
   "outputs": [],
   "source": [
    "#multi class -> a 아니면 나머지 , b 아니면 나머지  , (이진)\n",
    "#(NB, KNN, DT, Logistic)\n",
    "\n",
    "#mulitnomial -> a,b,c, 중 한가지를 선택'\n",
    "from sklearn.model_selection import train_test_split\n",
    "from sklearn import datasets\n",
    "import pandas as pd\n",
    "import numpy as np\n",
    "import matplotlib\n",
    "import matplotlib.pyplot as plt\n",
    "import mglearn\n",
    "\n",
    "#한글을 출력하기 위한 import\n",
    "#한글 font를 설정해준다.\n",
    "\n",
    "from matplotlib import font_manager, rc\n",
    "font_name = font_manager.FontProperties(fname =\"c:/Windows/Fonts/malgun.ttf\").get_name()\n",
    "rc('font',family=font_name)\n",
    "\n",
    "import matplotlib as mpl # -깨짐 현상을 해결하기 위햏 matplotlib을 import\n",
    "mpl.rcParams['axes.unicode_minus'] = False # - 깨짐 현상을 해결하기 위한 구문\n",
    "\n"
   ]
  },
  {
   "cell_type": "code",
   "execution_count": null,
   "metadata": {},
   "outputs": [],
   "source": [
    "# 통계 기반\n",
    "\n",
    "# 불확실성 하에서 미지의 데이터가 속하는 카테고리들에 대한 판별 결정을 위한\n",
    "# 방법으로 확률적인 여러 기법을 사용\n",
    "\n",
    "# 확률을 이용하여 미지의 자료가 어느 카테고리에 속하는가를 결정하고 인식\n",
    "\n",
    "# 모집단, 표본, 표본 분포\n",
    "\n",
    "#상관관계 -> 두 변량 x,y 사이의 상관관계의 정도를 나타내는 수치 (서로 얼마나 떨어짐)\n",
    "\n"
   ]
  },
  {
   "cell_type": "code",
   "execution_count": null,
   "metadata": {},
   "outputs": [],
   "source": [
    "#통계적 현상\n",
    "#불확정 현상을 반복하여 관찰하거나 혹은 집단 안에서 대량으로 관찰하여 \n",
    "#고유의 법칙성을 찾아내는것이 가능한 현상\n",
    "\n",
    "#확률 \n",
    "#통계적 현상의 확실함의 정도를 나타내는 척도\n",
    "\n",
    "#결합확률\n",
    "# P(A|B) = P(A N B) / P(B) \n"
   ]
  },
  {
   "cell_type": "code",
   "execution_count": 25,
   "metadata": {},
   "outputs": [
    {
     "name": "stdout",
     "output_type": "stream",
     "text": [
      "Accuracy:  1.0\n",
      "Number of misiabeled points out of a total %d points : %d (38, 0)\n"
     ]
    }
   ],
   "source": [
    "from sklearn.naive_bayes import GaussianNB\n",
    "from sklearn.datasets import load_iris\n",
    "\n",
    "#iris_dataset에 가져온 iris 데이터를 저장\n",
    "iris_dataset = load_iris()\n",
    "\n",
    "#iris 데이터를 훈련, 테스트 셋으로 나눈다.\n",
    "X_train , X_test, y_train, y_test = train_test_split(iris_dataset['data'],\n",
    "                                                    iris_dataset['target'],\n",
    "                                                    random_state =0, )\n",
    "#가우시안 모델을 classifier 객체에 저장\n",
    "classifier = GaussianNB()\n",
    "\n",
    "#훈련 데이터셋을 학습시킨다.\n",
    "classifier.fit(X_train,y_train)\n",
    "\n",
    "#훈련된 모델을 통해 테스트 모델의 결과값을 예측한다.\n",
    "y_pred = classifier.predict(X_test)\n",
    "\n",
    "# 예측값이 틀린 개수를 찾아낸다. y_test 값 != x_test로 예측한 값\n",
    "nErrors = (y_test != y_pred).sum()\n",
    "\n",
    "#정확도를 계산한다. 1에서 - 틀린개수/x_test의 튜플수 \n",
    "accuracy = 1.0 - nErrors / y_test.shape[0]\n",
    "\n",
    "#정확도 출력 defalut test_size = 25%\n",
    "print(\"Accuracy: \", accuracy)\n",
    "\n",
    "# (X_test 튜플 개수 , y예측 틀린 개수)\n",
    "print(\"Number of misiabeled points out of a total %d points : %d\", (X_test.shape[0],\n",
    "                                                                   (y_test != y_pred).sum()))\n",
    "\n",
    "\n"
   ]
  },
  {
   "cell_type": "code",
   "execution_count": 27,
   "metadata": {},
   "outputs": [
    {
     "name": "stdout",
     "output_type": "stream",
     "text": [
      "훈련 세트 점수: 0.946\n",
      "테스트 세트 점수: 0.937\n"
     ]
    }
   ],
   "source": [
    "#Cancer data\n",
    "\n",
    "from sklearn.datasets import load_breast_cancer\n",
    "\n",
    "#cancer 변수에 가져온 cancer 데이터를 저장\n",
    "cancer = load_breast_cancer()\n",
    "\n",
    "#cancer 데이터를 훈련, 테스트 셋으로 나눈다.\n",
    "X_train , X_test, y_train, y_test = train_test_split(cancer.data, cancer.target,\n",
    "                                                    stratify = cancer.target,\n",
    "                                                    random_state =42 )\n",
    "\n",
    "#classifierGN 객체에 가우시안 모델을 생성하고 훈련셋을 학습시킨다.\n",
    "classifierGN = GaussianNB().fit(X_train, y_train)\n",
    "\n",
    "#훈련 세트의 점수를 출력한다.\n",
    "print(\"훈련 세트 점수: {:.3f}\".format(classifierGN.score(X_train, y_train)))\n",
    "\n",
    "#테스트 세트의 점수를 출력한다.\n",
    "print(\"테스트 세트 점수: {:.3f}\".format(classifierGN.score(X_test, y_test)))\n",
    "\n",
    "\n",
    "\n"
   ]
  },
  {
   "cell_type": "code",
   "execution_count": null,
   "metadata": {},
   "outputs": [],
   "source": []
  },
  {
   "cell_type": "code",
   "execution_count": null,
   "metadata": {},
   "outputs": [],
   "source": []
  }
 ],
 "metadata": {
  "kernelspec": {
   "display_name": "Python 3",
   "language": "python",
   "name": "python3"
  },
  "language_info": {
   "codemirror_mode": {
    "name": "ipython",
    "version": 3
   },
   "file_extension": ".py",
   "mimetype": "text/x-python",
   "name": "python",
   "nbconvert_exporter": "python",
   "pygments_lexer": "ipython3",
   "version": "3.8.3"
  }
 },
 "nbformat": 4,
 "nbformat_minor": 4
}
